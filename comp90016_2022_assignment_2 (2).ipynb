{
 "cells": [
  {
   "cell_type": "markdown",
   "metadata": {
    "deletable": false,
    "editable": false,
    "nbgrader": {
     "cell_type": "markdown",
     "checksum": "4664712f2a1d9509a636238ac974dd60",
     "grade": false,
     "grade_id": "cell-5cd566ae8d583383",
     "locked": true,
     "schema_version": 3,
     "solution": false,
     "task": false
    }
   },
   "source": [
    "# COMP90016 - Assignment 2\n",
    "Version 1. Last edited 04/04/2022.\n"
   ]
  },
  {
   "cell_type": "markdown",
   "metadata": {
    "deletable": false,
    "editable": false,
    "nbgrader": {
     "cell_type": "markdown",
     "checksum": "9c8acef8dc9bfab8aea545d6e10fb41b",
     "grade": false,
     "grade_id": "cell-cd032d6f7b941211",
     "locked": true,
     "schema_version": 3,
     "solution": false,
     "task": false
    }
   },
   "source": [
    "## Semester 1, 2022"
   ]
  },
  {
   "cell_type": "markdown",
   "metadata": {
    "deletable": false,
    "editable": false,
    "nbgrader": {
     "cell_type": "markdown",
     "checksum": "018aab12a54fb10fb669824f7b930ce1",
     "grade": false,
     "grade_id": "cell-ea0e1a6df37e43f5",
     "locked": true,
     "schema_version": 3,
     "solution": false,
     "task": false
    }
   },
   "source": [
    "\n",
    "This assignment should be completed by each student individually. Make sure you read this entire document, and ask for help if anything is not clear. Any changes or clarifications to this document will be announced via the LMS.\n",
    "\n",
    "Please make sure you review the University's rules on academic honesty and plagiarism: https://academichonesty.unimelb.edu.au/\n",
    "\n",
    "Do not copy any code from other students or from the internet. This is considered plagiarism.\n",
    "\n",
    "Your completed notebook file containing all your answers will be turned in via LMS. Please also submit an HTML file.\n",
    "\n",
    "To complete the assignment, finish the tasks in this notebook.\n",
    "\n",
    "The tasks are a combination of utilising computational genomics tools, writing your own code, interpreting the results and answering related short-answer questions.\n",
    "\n",
    "In some cases, we have provided test input and test output that you can use to try out your solutions. These tests are just samples and are **not** exhaustive - they may warn you if you've made a mistake, but they are not guaranteed to. It's up to you to decide whether your code is correct.\n",
    "\n",
    "**Remember to save your work early and often.**"
   ]
  },
  {
   "cell_type": "markdown",
   "metadata": {
    "deletable": false,
    "editable": false,
    "nbgrader": {
     "cell_type": "markdown",
     "checksum": "4d125b4471c326ac2c62b798f0cc876e",
     "grade": false,
     "grade_id": "cell-a654a22c19fdefbe",
     "locked": true,
     "schema_version": 3,
     "solution": false,
     "task": false
    }
   },
   "source": [
    "## Marking\n",
    "\n",
    "Cells that must be completed to receive marks are clearly labelled. Some cells are code cells, in which you must complete the code to solve a problem. Others are markdown cells, in which you must write your answers to short-answer questions. \n",
    "\n",
    "Cells that must be completed to receive marks are labelled like this:\n",
    "\n",
    "`# -- GRADED CELL (1 mark) - complete this cell --`\n",
    "\n",
    "Some graded cells are code cells, in which you must complete the code to solve a problem. Other graded cells are markdown cells, in which you must write your answers to short-answer questions. \n",
    "\n",
    "You will see the following text in graded code cells:\n",
    "\n",
    "```\n",
    "# YOUR CODE HERE\n",
    "raise NotImplementedError()\n",
    "```\n",
    "\n",
    "***You must remove the `raise NotImplementedError()` line from the cell, and replace it with your solution.***\n",
    "\n",
    "Only add answers to graded cells. If you want to import a library or use a helper function, this must be included in a graded cell.\n",
    "\n",
    "Only graded cells will be marked.\n",
    "**Don't make changes outside graded cells, and don't add or remove cells from the notebook**.\n",
    "\n",
    ">Word limits, where stated, will be strictly enforced. Answers exceeding the limit **will not be marked**.\n",
    "\n",
    ">Run-time limits will be imposed for each coding question. The run-time of a code cell can be calculated by including `%time` at the top of your cell. Cells exceeding the run-time limit **will not be marked**. The run-time limits only apply to test cases that are included in this document.\n",
    "\n",
    "No marks are allocated to commenting in your code. We do however, encourage efficient and well commented code.\n",
    "\n",
    "The total marks for the assignment add up to 100, and it will be worth 15% of your overall subject grade.\n",
    "\n",
    "Part 1: 35 marks\n",
    "\n",
    "Part 2: 20 marks\n",
    "\n",
    "Part 3: 45 marks"
   ]
  },
  {
   "cell_type": "markdown",
   "metadata": {
    "deletable": false,
    "editable": false,
    "nbgrader": {
     "cell_type": "markdown",
     "checksum": "b49b534f5352e3ed906c27d9b339a83b",
     "grade": false,
     "grade_id": "cell-a8f3f9ddb8997b46",
     "locked": true,
     "schema_version": 3,
     "solution": false,
     "task": false
    }
   },
   "source": [
    "## Submitting\n",
    "\n",
    "Before you turn this assignment in, make sure everything runs as expected. First, **restart the kernel** (in the menubar, select Kernel$\\rightarrow$Restart) and then **run all cells** (in the menubar, select Cell$\\rightarrow$Run All).\n",
    "\n",
    "Make sure you fill in any place that says `YOUR CODE HERE` or \"YOUR ANSWER HERE\", as well as your name and student ID number below:"
   ]
  },
  {
   "cell_type": "code",
   "execution_count": null,
   "metadata": {},
   "outputs": [],
   "source": [
    "NAME = \"Benjamin Field\"\n",
    "\n",
    "ID = \"831975\""
   ]
  },
  {
   "cell_type": "markdown",
   "metadata": {
    "deletable": false,
    "editable": false,
    "nbgrader": {
     "cell_type": "markdown",
     "checksum": "5dfa34ee5d39038b74ba19041248e2c8",
     "grade": false,
     "grade_id": "cell-231ce2cdcc452d8d",
     "locked": true,
     "schema_version": 3,
     "solution": false,
     "task": false
    }
   },
   "source": [
    "## Overview\n",
    "\n",
    "In this assignment, you will answer questions about VCF files and BLAST.\n",
    "\n",
    "You will use the `pysam` and `skbio` libraries in your functions. You may want to refer to sections of the documentation for these tools for additional help. Additional to `pysam`, `skbio` and standard Python 3 functions and methods, you may also use any other library we have used in COMP90016 including `collections`, `numpy`, `pandas`, `math`, `itertools`, `seaborn` and `matplotlib`."
   ]
  },
  {
   "cell_type": "markdown",
   "metadata": {
    "deletable": false,
    "editable": false,
    "nbgrader": {
     "cell_type": "markdown",
     "checksum": "803d7158a073d64fd00120108b1e5060",
     "grade": false,
     "grade_id": "cell-cca0cc2526c4f2c2",
     "locked": true,
     "schema_version": 3,
     "solution": false,
     "task": false
    }
   },
   "source": [
    "## Part 1: VCF files"
   ]
  },
  {
   "cell_type": "markdown",
   "metadata": {
    "deletable": false,
    "editable": false,
    "nbgrader": {
     "cell_type": "markdown",
     "checksum": "2587bf92e672ade5a4982b21a09ac72c",
     "grade": false,
     "grade_id": "cell-1618f1e65cfb220d",
     "locked": true,
     "schema_version": 3,
     "solution": false,
     "task": false
    }
   },
   "source": [
    "### Setup"
   ]
  },
  {
   "cell_type": "markdown",
   "metadata": {
    "deletable": false,
    "editable": false,
    "nbgrader": {
     "cell_type": "markdown",
     "checksum": "54d08811de9b6cc37672a87d2c28928e",
     "grade": false,
     "grade_id": "cell-ee194f5bb1c04d53",
     "locked": true,
     "schema_version": 3,
     "solution": false,
     "task": false
    }
   },
   "source": [
    "The VCF files you will be using can be downloaded from the LMS. Download the files and place them in a directory named `data` in the same location as this notebook. **DO NOT** rename the files. "
   ]
  },
  {
   "cell_type": "code",
   "execution_count": null,
   "metadata": {
    "deletable": false,
    "editable": false,
    "nbgrader": {
     "cell_type": "code",
     "checksum": "935863900df17eae47d1a51881695234",
     "grade": false,
     "grade_id": "cell-6383c258a4b7e87a",
     "locked": true,
     "schema_version": 3,
     "solution": false,
     "task": false
    }
   },
   "outputs": [],
   "source": [
    "# Import the pysam module.\n",
    "# To use your local device, see the install instructions in workshop 5.\n",
    "import pysam"
   ]
  },
  {
   "cell_type": "code",
   "execution_count": null,
   "metadata": {
    "deletable": false,
    "editable": false,
    "nbgrader": {
     "cell_type": "code",
     "checksum": "b8bfc8a65df1795b01e0f948033bcd66",
     "grade": false,
     "grade_id": "cell-864ff4901c125efc",
     "locked": true,
     "schema_version": 3,
     "solution": false,
     "task": false
    }
   },
   "outputs": [],
   "source": [
    "# Read in the VCF files to produce VariantFile objects.\n",
    "demo_vcf_a = pysam.VariantFile(\"data/comp90016_assignment_2_demo_a.vcf\")\n",
    "demo_vcf_b = pysam.VariantFile(\"data/comp90016_assignment_2_demo_b.vcf\")\n",
    "comp90016_vcf = pysam.VariantFile(\"data/comp90016_assignment_2.vcf\")\n",
    "comp90016_vcf"
   ]
  },
  {
   "cell_type": "markdown",
   "metadata": {
    "deletable": false,
    "editable": false,
    "nbgrader": {
     "cell_type": "markdown",
     "checksum": "91f21ca21a076fb2b27625b35497c6b1",
     "grade": false,
     "grade_id": "cell-8fb796c8d22782d5",
     "locked": true,
     "schema_version": 3,
     "solution": false,
     "task": false
    }
   },
   "source": [
    "VariantFile objects allow us to access the data within VCF files. You may want to refer back to the work you did in workshop 5. You may also want to read the documentation linked below:\n",
    ">https://pysam.readthedocs.io/en/latest/usage.html#working-with-vcf-bcf-formatted-files"
   ]
  },
  {
   "cell_type": "markdown",
   "metadata": {
    "deletable": false,
    "editable": false,
    "nbgrader": {
     "cell_type": "markdown",
     "checksum": "b1dc86fee1af20c51645990710c4e696",
     "grade": false,
     "grade_id": "cell-dc5eacd566025231",
     "locked": true,
     "schema_version": 3,
     "solution": false,
     "task": false
    }
   },
   "source": [
    "### Questions\n",
    "In the cells below, complete the following tasks:"
   ]
  },
  {
   "cell_type": "markdown",
   "metadata": {
    "deletable": false,
    "editable": false,
    "nbgrader": {
     "cell_type": "markdown",
     "checksum": "a37eec82426a901cd6d3874adb636526",
     "grade": false,
     "grade_id": "cell-ff51f0a9598ce5de",
     "locked": true,
     "points": 5,
     "schema_version": 3,
     "solution": false,
     "task": true
    }
   },
   "source": [
    "### Question 1.1\n",
    "(5 marks, max 50 words)\n",
    "\n",
    "Which reference genome (full species name and version) was used for the variant calling in `comp90016_assignment_2.vcf`? Which variant calling tool was used?\n"
   ]
  },
  {
   "cell_type": "markdown",
   "metadata": {},
   "source": [
    "-- GRADED CELL (5 marks) - complete this cell --\n",
    "\n",
    "The Homo sapiens (human)reference genome was used, the version is hg38. freeBayes version 1.3.1 is the variant calling tool that was used. "
   ]
  },
  {
   "cell_type": "markdown",
   "metadata": {
    "deletable": false,
    "editable": false,
    "nbgrader": {
     "cell_type": "markdown",
     "checksum": "cbe4b591efe0475fb45be04aab2f6e52",
     "grade": false,
     "grade_id": "cell-d2dd28ec45dc6ebb",
     "locked": true,
     "schema_version": 3,
     "solution": false,
     "task": false
    }
   },
   "source": [
    "### Question 1.2 \n",
    "\n",
    "(10 marks) \n",
    "\n",
    "Write a python function to calculate the ti/tv for a set of SNVs in a VCF file containing variants from a single sample. Disregard all other variant types. Consider multi-allelic SNVs as seperate SNVs. Consider a particular SNV allele only once, regardless of how many copies of the allele are present. Assume the input is a pysam VariantFile object. Return a single floating-point number. If there are no transversion SNVs, return None.\n",
    "\n",
    "**Reminder:**\n",
    "\n",
    "`The four standard DNA bases can be divided into purines (A, G) and pyrimidines (C,T). A transition is a single base change from a purine to a purine, or from a pyrimidine to a pyrimidine. A transversion is a single base change from a purine to a pyrimidine or from a pyrimidine to a purine. The transition/transversion ratio (ti/tv) is the ratio of the number of transitions to the number of transversions.`"
   ]
  },
  {
   "cell_type": "code",
   "execution_count": null,
   "metadata": {
    "deletable": false,
    "nbgrader": {
     "cell_type": "code",
     "checksum": "b9da3a35e183b13888238922d84e0fa2",
     "grade": false,
     "grade_id": "cell-4388a2455ac2ae19",
     "locked": false,
     "schema_version": 3,
     "solution": true,
     "task": false
    }
   },
   "outputs": [],
   "source": [
    "# GRADED CELL 1.2 (10 marks, max 1 min run-time)\n",
    "def titv(vcf):\n",
    "    \"\"\"\n",
    "    Calculate the ti/tv for a set of SNVs in a VCF file.\n",
    "    Disregard all other variant types.\n",
    "    Consider multi-allelic SNVs as seperate SNVs.\n",
    "    Consider a particular SNV allele only once, regardless of how many copies of the allele are present.\n",
    "    Assume the input is a pysam VariantFile object.\n",
    "    Return a single floating-point number.\n",
    "    If there are no transversion SNVs, return None.\n",
    "    \"\"\"\n",
    "    \n",
    "    # YOUR CODE HERE\n",
    "    # set up counters to track transitions and transversions\n",
    "    transitions = 0\n",
    "    transversions = 0 \n",
    "    \n",
    "    # set up lists to identify SNV's and match to transition or transversion\n",
    "    purines = ['A','G']\n",
    "    pyrimidines = ['C','T']\n",
    "    \n",
    "    # loop through each reference allele in vcf file\n",
    "    for read in vcf.fetch():\n",
    "        \n",
    "        alts = []\n",
    "        # check allele is an SNV\n",
    "        if len(read.ref) != 1:\n",
    "            continue\n",
    "            \n",
    "        # loop through each alternate allele and check against reference allele.\n",
    "        # Record transition or transversion for each alternate allel\n",
    "        for alt in read.alts:\n",
    "            \n",
    "            # skip if not an SNV or alt allele has already occurred in read\n",
    "            if len(alt) != 1 or alt in alts:\n",
    "                continue\n",
    "                \n",
    "            if read.ref in purines and alt in pyrimidines:\n",
    "                transversions += 1\n",
    "            elif read.ref in pyrimidines and alt in purines:\n",
    "                transversions += 1\n",
    "            elif read.ref in pyrimidines and alt in pyrimidines:\n",
    "                transitions += 1\n",
    "            elif read.ref in purines and alt in purines:\n",
    "                transitions += 1\n",
    "            alts.append(alt)\n",
    "                \n",
    "    if transversions == 0:\n",
    "        return None\n",
    "    \n",
    "    # calculate ti/tv ratio and return value\n",
    "    return transitions/transversions\n"
   ]
  },
  {
   "cell_type": "code",
   "execution_count": null,
   "metadata": {},
   "outputs": [],
   "source": [
    "# Test your function in this cell\n",
    "print(titv(demo_vcf_a)) # should output 2.0\n",
    "print(titv(demo_vcf_b)) # should output 1.0\n",
    "\n",
    "print(titv(comp90016_vcf))"
   ]
  },
  {
   "cell_type": "code",
   "execution_count": null,
   "metadata": {
    "deletable": false,
    "editable": false,
    "nbgrader": {
     "cell_type": "code",
     "checksum": "a9c8d626976cc6d97d8b0e0d50429459",
     "grade": true,
     "grade_id": "cell-06d3096ff57758be",
     "locked": true,
     "points": 10,
     "schema_version": 3,
     "solution": false,
     "task": false
    }
   },
   "outputs": [],
   "source": [
    "# --- AUTOGRADING CELL DO NOT EDIT ----\n"
   ]
  },
  {
   "cell_type": "markdown",
   "metadata": {
    "deletable": false,
    "editable": false,
    "nbgrader": {
     "cell_type": "markdown",
     "checksum": "1aeeb1575ffbf1e3b46e53d3a35d1509",
     "grade": false,
     "grade_id": "cell-360d2a2b6f3641b8",
     "locked": true,
     "points": 10,
     "schema_version": 3,
     "solution": false,
     "task": true
    }
   },
   "source": [
    "### Question 1.3\n",
    "\n",
    "(10 marks, max 100 words)\n",
    "\n",
    "Explain why the ti/tv ratio is typically higher in protein-coding regions than in non-coding regions.\n",
    "\n"
   ]
  },
  {
   "cell_type": "markdown",
   "metadata": {},
   "source": [
    "-- GRADED CELL (10 marks) - complete this cell --\n",
    "\n",
    "Transversions are much more likely to result in a changed amino acid encoding. If an amino acid encoding is changed in a protein coding region, it could easily result in a missense or nonsense mutation. The region will no longer lead to the expression of the same amino acid sequence and the protein is likely to not function as well as before (or not at all). Thus evolution will favor the conservation of these sequences. As transitions are not as likely to change the encoded amino acid sequence and affect the viability of the protein, they are seen more often. Consequently, the ti/tv ratio is higher in protein-coding regions."
   ]
  },
  {
   "cell_type": "markdown",
   "metadata": {
    "deletable": false,
    "editable": false,
    "nbgrader": {
     "cell_type": "markdown",
     "checksum": "892e97cc0849aa3dea48f3af1600b149",
     "grade": false,
     "grade_id": "cell-51fb4e4a81511aa7",
     "locked": true,
     "points": 5,
     "schema_version": 3,
     "solution": false,
     "task": true
    }
   },
   "source": [
    "### Question 1.4\n",
    "\n",
    "(5 marks, max 100 words)\n",
    "\n",
    "When working on a variant calling project, you might generate files with the extensions vcf.gz or vcf.tbi. Explain the contents of these files and how they relate to .vcf files.\n"
   ]
  },
  {
   "cell_type": "markdown",
   "metadata": {},
   "source": [
    "-- GRADED CELL (5 marks) - complete this cell --\n",
    "\n",
    ".gz indicates the the file has been compressed as a gzip file and the .tbi extension marks the related tabix index file which contains the index of the vcf.gz file. They relate to .vcf files in that they are used when the .vcf file has been compressed for efficiency reasons and are just the compressed version (and corresponding index) of the original .vcf file. "
   ]
  },
  {
   "cell_type": "markdown",
   "metadata": {
    "deletable": false,
    "editable": false,
    "nbgrader": {
     "cell_type": "markdown",
     "checksum": "f3c475ad5e64ce6cc14c4c3bfbf486a7",
     "grade": false,
     "grade_id": "cell-8415ad5ee0d3a77f",
     "locked": true,
     "points": 5,
     "schema_version": 3,
     "solution": false,
     "task": true
    }
   },
   "source": [
    "### Question 1.5\n",
    "\n",
    "(5 marks, max 100 words)\n",
    "\n",
    "Computational genomics often involves \"big\" genomics data sets. Explain how .gz and .tbi files help make working with large files feasible.\n",
    "\n",
    "\n",
    "\n",
    "\n",
    "\n"
   ]
  },
  {
   "cell_type": "markdown",
   "metadata": {},
   "source": [
    "-- GRADED CELL (5 marks) - complete this cell --\n",
    "\n",
    ".gz files and their associated .tbi files allow for the compression and indexation of very large amounts of genomic data. Genomic files can be quite large so it makes sense for efficiency to compress them. The indexation enabled byt tabix files means that the entire file doesn;t need to be decompressed each time you need to access data, which again improves the efficiency of working with large files. \n"
   ]
  },
  {
   "cell_type": "markdown",
   "metadata": {
    "deletable": false,
    "editable": false,
    "nbgrader": {
     "cell_type": "markdown",
     "checksum": "62d794d8e9a58b4719a30580b100885a",
     "grade": false,
     "grade_id": "cell-e3bc8584ec69deea",
     "locked": true,
     "schema_version": 3,
     "solution": false,
     "task": false
    }
   },
   "source": [
    "## Part 2: More VCF files"
   ]
  },
  {
   "cell_type": "markdown",
   "metadata": {
    "deletable": false,
    "editable": false,
    "nbgrader": {
     "cell_type": "markdown",
     "checksum": "27ffc6b37842ea6183c4d85102acb7f2",
     "grade": false,
     "grade_id": "cell-ffd3131ab69895ed",
     "locked": true,
     "schema_version": 3,
     "solution": false,
     "task": false
    }
   },
   "source": [
    "### Setup"
   ]
  },
  {
   "cell_type": "markdown",
   "metadata": {
    "deletable": false,
    "editable": false,
    "nbgrader": {
     "cell_type": "markdown",
     "checksum": "00ddd29a31ce793988205c52d8d2bed4",
     "grade": false,
     "grade_id": "cell-b337edf36f346b5b",
     "locked": true,
     "schema_version": 3,
     "solution": false,
     "task": false
    }
   },
   "source": [
    "The VCF file you will be using for this part can be downloaded from the LMS. Download the `comp90016_assignment_3_MBP.vcf.gz` file and place it in the `data` directory. **DO NOT** rename the file."
   ]
  },
  {
   "cell_type": "markdown",
   "metadata": {
    "deletable": false,
    "editable": false,
    "nbgrader": {
     "cell_type": "markdown",
     "checksum": "b00d342112ed2b46fe2e97048d7e2fc1",
     "grade": false,
     "grade_id": "cell-9268d863184142bd",
     "locked": true,
     "schema_version": 3,
     "solution": false,
     "task": false
    }
   },
   "source": [
    "The data you will be using is publically available as part of the 1000 Genomes Project, which was completed in 2015. It was one of the first large-scale projects to try and capture the level of variation in the human genome. Much larger projects have been completed since then. You can read one of the key publciations describing this dataset here: https://www.nature.com/articles/nature15393. \n",
    "\n",
    "Our gene of interest is *MBP* (Myelin Basic Protein, NM_001025081). Variants in *MBP* from three selected individuals (HG02687, HG03897 and HG04118) have been included."
   ]
  },
  {
   "cell_type": "code",
   "execution_count": null,
   "metadata": {
    "deletable": false,
    "editable": false,
    "nbgrader": {
     "cell_type": "code",
     "checksum": "3f90b14ec8e8a5b8e509b3801bcb2a73",
     "grade": false,
     "grade_id": "cell-3162396c31ff697d",
     "locked": true,
     "schema_version": 3,
     "solution": false,
     "task": false
    }
   },
   "outputs": [],
   "source": [
    "# Read in the MBP VCF file to produce a VariantFile objects.\n",
    "comp90016_vcf_MBP = pysam.VariantFile(\"data/comp90016_assignment_2_mbp.vcf\")"
   ]
  },
  {
   "cell_type": "markdown",
   "metadata": {
    "deletable": false,
    "editable": false,
    "nbgrader": {
     "cell_type": "markdown",
     "checksum": "aee630ee279af540b1e6d4c2831a1380",
     "grade": false,
     "grade_id": "cell-d5620216b9f7de7c",
     "locked": true,
     "schema_version": 3,
     "solution": false,
     "task": false
    }
   },
   "source": [
    "### Questions\n",
    "In the cells below, complete the following tasks:"
   ]
  },
  {
   "cell_type": "markdown",
   "metadata": {
    "deletable": false,
    "editable": false,
    "nbgrader": {
     "cell_type": "markdown",
     "checksum": "5a1b6b31fad5797f57cea58021cdcabb",
     "grade": false,
     "grade_id": "cell-846ef08f0c7e8d66",
     "locked": true,
     "schema_version": 3,
     "solution": false,
     "task": false
    }
   },
   "source": [
    "### Question 2.1\n",
    "\n",
    "(10 marks)\n",
    "\n",
    "Write a python function to create a genotype dictionary for a given variant position in a given pysam VariantFile object. The sample names as strings are keys and tuples of the genotypes are the values. Assume vcf is a pysam VariantFile object. Assume chrom is the name of a contig as a string. Assume pos is an integer. Return the genotype dictionary. If the combination of chrom and pos does not exist in the VCF file, return None."
   ]
  },
  {
   "cell_type": "code",
   "execution_count": null,
   "metadata": {
    "deletable": false,
    "nbgrader": {
     "cell_type": "code",
     "checksum": "ab2a8f9628435dbc5708d94b2d9aea94",
     "grade": false,
     "grade_id": "cell-79544e0a969f1d65",
     "locked": false,
     "schema_version": 3,
     "solution": true,
     "task": false
    }
   },
   "outputs": [],
   "source": [
    "# GRADED CELL 2.1 (10 marks, max 1 min run-time)\n",
    "\n",
    "def genotype_dict(vcf, chrom, pos):\n",
    "    \"\"\"\n",
    "    Create a genotype dictionary for a given variant position in a given pysam VariantFile object. \n",
    "    The sample names as strings are keys and tuples of the genotypes are the values. \n",
    "    Assume vcf is a pysam VariantFile object. \n",
    "    Assume chrom is the name of a contig as a string. \n",
    "    Assume pos is an integer. \n",
    "    If the combination of chrom and pos does not exist in the VCF file, return None. \n",
    "    Return the genotype dictionary.\n",
    "    \"\"\"\n",
    "    \n",
    "    # YOUR CODE HERE\n",
    "    # set up empty dict to record output\n",
    "    genotypes = {}\n",
    "    \n",
    "    # loop through each variant in vcf file\n",
    "    for read in vcf.fetch():\n",
    "        # check read matches specified input contig and position\n",
    "        if read.contig == chrom and read.pos == pos:\n",
    "            \n",
    "            # loop through sample data for each variant and update genotype dictionary \n",
    "            for sample in read.samples.items():\n",
    "                genotypes[sample[0]] = sample[1].items()[0][1]\n",
    "                \n",
    "    if len(genotypes) == 0:\n",
    "        return None\n",
    "    \n",
    "    return genotypes\n",
    "    "
   ]
  },
  {
   "cell_type": "code",
   "execution_count": null,
   "metadata": {},
   "outputs": [],
   "source": [
    "# ~~ Test your function in this cell ~~\n",
    "print(genotype_dict(demo_vcf_b, '18', 74690979)) # should output {'HG02687': (0, 0), 'HG03897': (0, 1), 'HG04118': (0, 0)}\n",
    "print(genotype_dict(demo_vcf_b, '18', 74690999)) # should output {'HG02687': (1, 1), 'HG03897': (0, 0), 'HG04118': (0, 0)}\n",
    "print(genotype_dict(demo_vcf_b, '2', 1000)) # should output None\n",
    "\n",
    "print(genotype_dict(comp90016_vcf_MBP, '18', 74694135))\n"
   ]
  },
  {
   "cell_type": "code",
   "execution_count": null,
   "metadata": {
    "deletable": false,
    "editable": false,
    "nbgrader": {
     "cell_type": "code",
     "checksum": "07086731b781799b3a7ec7ac7626fa3f",
     "grade": true,
     "grade_id": "cell-0d00902e7bc7c478",
     "locked": true,
     "points": 10,
     "schema_version": 3,
     "solution": false,
     "task": false
    }
   },
   "outputs": [],
   "source": [
    "# --- AUTOGRADING CELL DO NOT EDIT ----\n"
   ]
  },
  {
   "cell_type": "markdown",
   "metadata": {
    "deletable": false,
    "editable": false,
    "nbgrader": {
     "cell_type": "markdown",
     "checksum": "b84a407803d9c553a25dfa22c11e6239",
     "grade": false,
     "grade_id": "cell-d9217b742310136c",
     "locked": true,
     "points": 5,
     "schema_version": 3,
     "solution": false,
     "task": true
    }
   },
   "source": [
    "### Question 2.2\n",
    "\n",
    "(5 marks, max 100 words)\n",
    "\n",
    "For each sample, list the total number of homozygous reference, homozygous alternative and heterozygous alleles. Which of the three samples has the most homozygous alternative variants in the MBP gene?\n"
   ]
  },
  {
   "cell_type": "markdown",
   "metadata": {},
   "source": [
    "-- GRADED CELL (5 marks) - complete this cell --\n",
    "\n",
    "Homozygous reference:\n",
    "HG02687: 1317\n",
    "HG03897: 1349\n",
    "HG04118: 1331\n",
    "\n",
    "Homozygous Alternative:\n",
    "HG02687: 22\n",
    "HG03897: 16\n",
    "HG04118: 18\n",
    "\n",
    "Heterozygous alleles:\n",
    "HG02687: 68\n",
    "HG03897: 42\n",
    "HG04118: 58\n",
    "\n",
    "HG02687 is the sample with the most homozygous alternative variants. "
   ]
  },
  {
   "cell_type": "markdown",
   "metadata": {
    "deletable": false,
    "editable": false,
    "nbgrader": {
     "cell_type": "markdown",
     "checksum": "53840fef8ade34e9907cbaa9f87f10fc",
     "grade": false,
     "grade_id": "cell-8dbdd7ebc78459cf",
     "locked": true,
     "points": 5,
     "schema_version": 3,
     "solution": false,
     "task": true
    }
   },
   "source": [
    "### Question 2.3\n",
    "\n",
    "(5 marks, max 100 words)\n",
    "\n",
    "What information is contained in the ID column of the MBP VCF file? Explain how this information is useful to users.\n"
   ]
  },
  {
   "cell_type": "markdown",
   "metadata": {},
   "source": [
    "-- GRADED CELL (5 marks) - complete this cell --\n",
    "\n",
    "The ID column contains a list of unique identifiers (when said identifers are available). These could be a dbSNP rs identifier, a COSMIC identifier or a custom field. The identifer is unique and indicates the specific variant contained at each location. This is useful to the user because it provides information about the known variant at each location. "
   ]
  },
  {
   "cell_type": "markdown",
   "metadata": {
    "deletable": false,
    "editable": false,
    "nbgrader": {
     "cell_type": "markdown",
     "checksum": "499f772c24987691ee67a9f6e098d001",
     "grade": false,
     "grade_id": "cell-d2ad7656099abeb3",
     "locked": true,
     "schema_version": 3,
     "solution": false,
     "task": false
    }
   },
   "source": [
    "## Part 3: BLAST"
   ]
  },
  {
   "cell_type": "markdown",
   "metadata": {
    "deletable": false,
    "editable": false,
    "nbgrader": {
     "cell_type": "markdown",
     "checksum": "baab018900538545f5e236fbff9f2a5c",
     "grade": false,
     "grade_id": "cell-a05285b72e5b79ce",
     "locked": true,
     "schema_version": 3,
     "solution": false,
     "task": false
    }
   },
   "source": [
    "### Setup"
   ]
  },
  {
   "cell_type": "markdown",
   "metadata": {
    "deletable": false,
    "editable": false,
    "nbgrader": {
     "cell_type": "markdown",
     "checksum": "c75cf40025643692e0a45675056b8a97",
     "grade": false,
     "grade_id": "cell-db6a9ab1f35932df",
     "locked": true,
     "schema_version": 3,
     "solution": false,
     "task": false
    }
   },
   "source": [
    "ORF-9b has been detected in multiple isolates of SARS coronavirus as well as in other coronaviruses that infect other animals. We would like to determine whether SARS-CoV-2 (responsible for COVID-19) has an ORF that is homologous to ORF-9b in other coronaviruses. We will be using `BLAST` on the command line for this purpose.\n",
    "\n",
    "We will be using a sequence from an isolate of SARS-CoV-2 sequenced in December 2019 in Wuhan, China. \n",
    "\n",
    ">https://www.viprbrc.org/brc/viprStrainDetails.spg?ncbiAccession=MN908947&decorator=corona\n",
    "\n",
    "Using the ViPR link above, navigate to and download a FASTA file of the DNA sequence for the **nucleocapsid (N) gene** of the SARS-CoV-2 isolate (Do not download the full genome). Rename the file `comp90016_COVID19_N.fasta` and place it in the `data` directory.\n",
    "\n",
    "Download the file `comp90016_9b.fasta` file from the LMS and place it in the same directory as the `comp90016_COVID19_N.fasta` file.\n",
    "\n",
    "This file contains ORF-9b sequences from a selection of characterised coronaviruses.\n",
    "\n",
    "`BLAST` is installed on SWAN. If you would like to use your personal computer, installation instructions can be found here https://www.ncbi.nlm.nih.gov/books/NBK279671/.\n",
    "\n",
    "If you are using a local Anaconda environment you can install BLAST as:\n",
    "`conda install -c bioconda blast`"
   ]
  },
  {
   "cell_type": "code",
   "execution_count": null,
   "metadata": {},
   "outputs": [],
   "source": [
    "# First, build a custom BLAST database from the ORF-9b sequences. \n",
    "# Do this with the following command:\n",
    "\n",
    "!makeblastdb -dbtype nucl -in data/comp90016_assignment_2_9b.fasta\n",
    "\n",
    "# You will see some extra files have appeared in the data directory.\n"
   ]
  },
  {
   "cell_type": "code",
   "execution_count": null,
   "metadata": {},
   "outputs": [],
   "source": [
    "# Next, perform the BLAST search with the following command.\n",
    "# The results will be printed in tabulated form. \n",
    "# You can pipe the results to a file if you prefer.\n",
    "\n",
    "!blastn -query data/comp90016_COVID19_N.fasta -db data/comp90016_assignment_2_9b.fasta -outfmt 7"
   ]
  },
  {
   "cell_type": "markdown",
   "metadata": {
    "deletable": false,
    "editable": false,
    "nbgrader": {
     "cell_type": "markdown",
     "checksum": "7d65dd4b9312d084318cd1e4f10e9bb1",
     "grade": false,
     "grade_id": "cell-db5ddcde937b7347",
     "locked": true,
     "schema_version": 3,
     "solution": false,
     "task": false
    }
   },
   "source": [
    "### Questions\n",
    "In the cells below, complete the following tasks:"
   ]
  },
  {
   "cell_type": "markdown",
   "metadata": {
    "deletable": false,
    "editable": false,
    "nbgrader": {
     "cell_type": "markdown",
     "checksum": "bf57bc719f091a1f24baa456ebd0df6f",
     "grade": false,
     "grade_id": "cell-745915cf81de9692",
     "locked": true,
     "points": 5,
     "schema_version": 3,
     "solution": false,
     "task": true
    }
   },
   "source": [
    "### Question 3.1\n",
    "\n",
    "(5 marks, max 100 words)\n",
    "\n",
    "Explain one factor that is important when selecting a BLAST database.\n",
    "\n"
   ]
  },
  {
   "cell_type": "markdown",
   "metadata": {},
   "source": [
    "-- GRADED CELL (5 marks) - complete this cell --\n",
    "\n",
    "It is important to consider the size of the database. Because BLAST is looking for statistically relevanbt associations between large genome sets, the larger the database the more processing power is required. The required processing power can be prohibitive with large enough databases and BLAST will slow down considerably and, so database size should be taken into account. "
   ]
  },
  {
   "cell_type": "markdown",
   "metadata": {
    "deletable": false,
    "editable": false,
    "nbgrader": {
     "cell_type": "markdown",
     "checksum": "a30c8ef827293f0c3a2e898c0daa65b2",
     "grade": false,
     "grade_id": "cell-4c92e2189af70d6e",
     "locked": true,
     "points": 10,
     "schema_version": 3,
     "solution": false,
     "task": true
    }
   },
   "source": [
    "### Question 3.2\n",
    "\n",
    "(10 marks, max 100 words)\n",
    "\n",
    "Is there evidence from the BLAST results that the COVID-19 N gene has an internal ORF homologous to ORF-9b sequences in other coronaviruses? Justify your choice. What was the highest scoring hit?\n"
   ]
  },
  {
   "cell_type": "markdown",
   "metadata": {},
   "source": [
    "-- GRADED CELL (10 marks) - complete this cell --\n",
    "\n",
    "There is evidence to suggest this as BLAST results show hits on coronaviruses other than the human coronoavirus and the highest scoring hit (score of 366) was on the \"bat_coronavirus_HKU3_orf_9b\" gene. Additionally, there are low E values for the blast results on the ORF-9b sequences which indicate that we can be confident int he accuracy of these results.  "
   ]
  },
  {
   "cell_type": "markdown",
   "metadata": {
    "deletable": false,
    "editable": false,
    "nbgrader": {
     "cell_type": "markdown",
     "checksum": "63b51aa37bc79e1b957ce1064a20697c",
     "grade": false,
     "grade_id": "cell-609fb931737be81e",
     "locked": true,
     "points": 5,
     "schema_version": 3,
     "solution": false,
     "task": true
    },
    "tags": []
   },
   "source": [
    "### Question 3.3\n",
    "\n",
    "(5 marks, max 100 words)\n",
    "\n",
    "Interpret the E value of the top scoring BLAST hit. How confident are you in your BLAST results?\n"
   ]
  },
  {
   "cell_type": "markdown",
   "metadata": {},
   "source": [
    "-- GRADED CELL (5 marks) - complete this cell --\n",
    "\n",
    "-The E value for the top scoring BLAST hit (\"bat_coronavirus_HKU3_orf_9b\") is 7.49e-105. \n",
    "-Very low E values (approaching 0) indicate that the results are very reliable.\n",
    "-As the E value for the top scoring hit is extremely close to 0, we can be very confident in the reliability of the results. \n",
    "-It's important to note that allow E value doesn't indicate absolute cetainty but rather a very high degree of confidence."
   ]
  },
  {
   "cell_type": "markdown",
   "metadata": {
    "deletable": false,
    "editable": false,
    "nbgrader": {
     "cell_type": "markdown",
     "checksum": "f5f759226dabfa1509d4c534da31c888",
     "grade": false,
     "grade_id": "cell-0bd4cc4653a44303",
     "locked": true,
     "points": 5,
     "schema_version": 3,
     "solution": false,
     "task": true
    }
   },
   "source": [
    "### Question 3.4\n",
    "\n",
    "(5 marks, max 50 words)\n",
    "\n",
    "Modify the provided BLAST command to work with an input of a protein sequence FASTA file (named comp90016_COVID19_N_protein.fasta). Decrease the word-size parameter from the default value to 2. Please use the same custom database and output format used previously. Note that you are not required to execute this command.\n"
   ]
  },
  {
   "cell_type": "markdown",
   "metadata": {},
   "source": [
    "-- GRADED CELL (5 marks) - complete this cell --\n",
    "\n",
    "!tblastn -query data/comp90016_COVID19_N_protein.fasta -db data/comp90016_assignment_2_9b.fasta -outfmt 7 -word_size 2"
   ]
  },
  {
   "cell_type": "markdown",
   "metadata": {
    "deletable": false,
    "editable": false,
    "nbgrader": {
     "cell_type": "markdown",
     "checksum": "cef9359c566e677872e986a31a4a31e9",
     "grade": false,
     "grade_id": "cell-17def9ad5eabdb82",
     "locked": true,
     "points": 10,
     "schema_version": 3,
     "solution": false,
     "task": true
    }
   },
   "source": [
    "### Question 3.5\n",
    "\n",
    "(10 marks, max 100 words)\n",
    "\n",
    "What effect does decreasing the word size have on the sensitivity (ability to detect true homologs) and run-time of the search? Explain why this is the case.\n"
   ]
  },
  {
   "cell_type": "markdown",
   "metadata": {},
   "source": [
    "-- GRADED CELL (10 marks) - complete this cell --\n",
    "\n",
    "Decreasing the word size increases the likelihood of finding exact matches but it also increases the likelihood of finding false positives. As a result, it increases sensitivity. \n",
    "\n",
    "Decreasing the word size increases the run time of the search as it increases the number of results and matches. "
   ]
  },
  {
   "cell_type": "markdown",
   "metadata": {
    "deletable": false,
    "editable": false,
    "nbgrader": {
     "cell_type": "markdown",
     "checksum": "d93cca8310424f7d0b95c135d7090e68",
     "grade": false,
     "grade_id": "cell-e66397d053a4709e",
     "locked": true,
     "schema_version": 3,
     "solution": false,
     "task": false
    }
   },
   "source": [
    "### Question 3.6\n",
    "\n",
    "(10 marks)\n",
    "\n",
    "Write a Python function to calculate the percentage sequence similarity between two aligned protein sequences. \n",
    "\n",
    "- Assume that pairwise_aln is an `skbio.alignment.TabularMSA` object. \n",
    "- Assume sub_matrix is a 2D dictionary encoding an amino-acid substitution matrix, such as the BLOSUM-62 matrix below.\n",
    "- Two amino acid residues are similar if there is a value greater than 0 in the corresponding cell of the input substitution matrix. \n",
    "- The percentage similarity is defined as the number of positions with similar amino acid residues as a percentage of the total number of positions in the alignment. \n",
    "- Return a floating-point number between 0 and 100. \n",
    "- If pairwise_aln contains fewer than 2 sequences, return None."
   ]
  },
  {
   "cell_type": "code",
   "execution_count": null,
   "metadata": {
    "deletable": false,
    "editable": false,
    "nbgrader": {
     "cell_type": "code",
     "checksum": "3882b90cf8747227e3dc32eb137550ab",
     "grade": false,
     "grade_id": "cell-23865f4add5e7a30",
     "locked": true,
     "schema_version": 3,
     "solution": false,
     "task": false
    }
   },
   "outputs": [],
   "source": [
    "# Next we import `skbio` so that we can take advantage of skbio.alignment objects \n",
    "# for storing and accessing sequence alignments.\n",
    "import skbio"
   ]
  },
  {
   "cell_type": "markdown",
   "metadata": {
    "deletable": false,
    "editable": false,
    "nbgrader": {
     "cell_type": "markdown",
     "checksum": "fcd032b1e26c6e8e3cfc78c178a1240b",
     "grade": false,
     "grade_id": "cell-f9f0246598f689e0",
     "locked": true,
     "schema_version": 3,
     "solution": false,
     "task": false
    }
   },
   "source": [
    "For this question, we will be using amino-acid substitution matrices, encoded as 2D dictionaries. The cell below stores the BLOSUM-62 substitution matrix as a dictionary (the default substitution matrix for BLAST). The protein sequences used to test your code will only contain the one-letter codes of the 20 standard amino-acids."
   ]
  },
  {
   "cell_type": "code",
   "execution_count": null,
   "metadata": {
    "deletable": false,
    "editable": false,
    "nbgrader": {
     "cell_type": "code",
     "checksum": "e6d0dff15a4f64385e69c01eb591fc45",
     "grade": false,
     "grade_id": "cell-bc64329e8009d786",
     "locked": true,
     "schema_version": 3,
     "solution": false,
     "task": false
    }
   },
   "outputs": [],
   "source": [
    "BLOSUM_62 = {\n",
    "    '*':{'*':1,'A':-4,'C':-4,'B':-4,'E':-4,'D':-4,'G':-4,'F':-4,'I':-4,'H':-4,'K':-4,'M':-4,'L':-4,'N':-4,'Q':-4,'P':-4,'S':-4,'R':-4,'T':-4,'W':-4,'V':-4,'Y':-4,'X':-4,'Z':-4},\n",
    "    'A':{'*':-4,'A':4,'C':0,'B':-2,'E':-1,'D':-2,'G':0,'F':-2,'I':-1,'H':-2,'K':-1,'M':-1,'L':-1,'N':-2,'Q':-1,'P':-1,'S':1,'R':-1,'T':0,'W':-3,'V':0,'Y':-2,'X':-1,'Z':-1},\n",
    "    'C':{'*':-4,'A':0,'C':9,'B':-3,'E':-4,'D':-3,'G':-3,'F':-2,'I':-1,'H':-3,'K':-3,'M':-1,'L':-1,'N':-3,'Q':-3,'P':-3,'S':-1,'R':-3,'T':-1,'W':-2,'V':-1,'Y':-2,'X':-1,'Z':-3},\n",
    "    'B':{'*':-4,'A':-2,'C':-3,'B':4,'E':1,'D':4,'G':-1,'F':-3,'I':-3,'H':0,'K':0,'M':-3,'L':-4,'N':3,'Q':0,'P':-2,'S':0,'R':-1,'T':-1,'W':-4,'V':-3,'Y':-3,'X':-1,'Z':1},\n",
    "    'E':{'*':-4,'A':-1,'C':-4,'B':1,'E':5,'D':2,'G':-2,'F':-3,'I':-3,'H':0,'K':1,'M':-2,'L':-3,'N':0,'Q':2,'P':-1,'S':0,'R':0,'T':-1,'W':-3,'V':-2,'Y':-2,'X':-1,'Z':4},\n",
    "    'D':{'*':-4,'A':-2,'C':-3,'B':4,'E':2,'D':6,'G':-1,'F':-3,'I':-3,'H':-1,'K':-1,'M':-3,'L':-4,'N':1,'Q':0,'P':-1,'S':0,'R':-2,'T':-1,'W':-4,'V':-3,'Y':-3,'X':-1,'Z':1},\n",
    "    'G':{'*':-4,'A':0,'C':-3,'B':-1,'E':-2,'D':-1,'G':6,'F':-3,'I':-4,'H':-2,'K':-2,'M':-3,'L':-4,'N':0,'Q':-2,'P':-2,'S':0,'R':-2,'T':-2,'W':-2,'V':-3,'Y':-3,'X':-1,'Z':-2},\n",
    "    'F':{'*':-4,'A':-2,'C':-2,'B':-3,'E':-3,'D':-3,'G':-3,'F':6,'I':0,'H':-1,'K':-3,'M':0,'L':0,'N':-3,'Q':-3,'P':-4,'S':-2,'R':-3,'T':-2,'W':1,'V':-1,'Y':3,'X':-1,'Z':-3},\n",
    "    'I':{'*':-4,'A':-1,'C':-1,'B':-3,'E':-3,'D':-3,'G':-4,'F':0,'I':4,'H':-3,'K':-3,'M':1,'L':2,'N':-3,'Q':-3,'P':-3,'S':-2,'R':-3,'T':-1,'W':-3,'V':3,'Y':-1,'X':-1,'Z':-3},\n",
    "    'H':{'*':-4,'A':-2,'C':-3,'B':0,'E':0,'D':-1,'G':-2,'F':-1,'I':-3,'H':8,'K':-1,'M':-2,'L':-3,'N':1,'Q':0,'P':-2,'S':-1,'R':0,'T':-2,'W':-2,'V':-3,'Y':2,'X':-1,'Z':0},\n",
    "    'K':{'*':-4,'A':-1,'C':-3,'B':0,'E':1,'D':-1,'G':-2,'F':-3,'I':-3,'H':-1,'K':5,'M':-1,'L':-2,'N':0,'Q':1,'P':-1,'S':0,'R':2,'T':-1,'W':-3,'V':-2,'Y':-2,'X':-1,'Z':1},\n",
    "    'M':{'*':-4,'A':-1,'C':-1,'B':-3,'E':-2,'D':-3,'G':-3,'F':0,'I':1,'H':-2,'K':-1,'M':5,'L':2,'N':-2,'Q':0,'P':-2,'S':-1,'R':-1,'T':-1,'W':-1,'V':1,'Y':-1,'X':-1,'Z':-1},\n",
    "    'L':{'*':-4,'A':-1,'C':-1,'B':-4,'E':-3,'D':-4,'G':-4,'F':0,'I':2,'H':-3,'K':-2,'M':2,'L':4,'N':-3,'Q':-2,'P':-3,'S':-2,'R':-2,'T':-1,'W':-2,'V':1,'Y':-1,'X':-1,'Z':-3},\n",
    "    'N':{'*':-4,'A':-2,'C':-3,'B':3,'E':0,'D':1,'G':0,'F':-3,'I':-3,'H':1,'K':0,'M':-2,'L':-3,'N':6,'Q':0,'P':-2,'S':1,'R':0,'T':0,'W':-4,'V':-3,'Y':-2,'X':-1,'Z':0},\n",
    "    'Q':{'*':-4,'A':-1,'C':-3,'B':0,'E':2,'D':0,'G':-2,'F':-3,'I':-3,'H':0,'K':1,'M':0,'L':-2,'N':0,'Q':5,'P':-1,'S':0,'R':1,'T':-1,'W':-2,'V':-2,'Y':-1,'X':-1,'Z':3},\n",
    "    'P':{'*':-4,'A':-1,'C':-3,'B':-2,'E':-1,'D':-1,'G':-2,'F':-4,'I':-3,'H':-2,'K':-1,'M':-2,'L':-3,'N':-2,'Q':-1,'P':7,'S':-1,'R':-2,'T':-1,'W':-4,'V':-2,'Y':-3,'X':-1,'Z':-1},\n",
    "    'S':{'*':-4,'A':1,'C':-1,'B':0,'E':0,'D':0,'G':0,'F':-2,'I':-2,'H':-1,'K':0,'M':-1,'L':-2,'N':1,'Q':0,'P':-1,'S':4,'R':-1,'T':1,'W':-3,'V':-2,'Y':-2,'X':-1,'Z':0},\n",
    "    'R':{'*':-4,'A':-1,'C':-3,'B':-1,'E':0,'D':-2,'G':-2,'F':-3,'I':-3,'H':0,'K':2,'M':-1,'L':-2,'N':0,'Q':1,'P':-2,'S':-1,'R':5,'T':-1,'W':-3,'V':-3,'Y':-2,'X':-1,'Z':0},\n",
    "    'T':{'*':-4,'A':0,'C':-1,'B':-1,'E':-1,'D':-1,'G':-2,'F':-2,'I':-1,'H':-2,'K':-1,'M':-1,'L':-1,'N':0,'Q':-1,'P':-1,'S':1,'R':-1,'T':5,'W':-2,'V':0,'Y':-2,'X':-1,'Z':-1},\n",
    "    'W':{'*':-4,'A':-3,'C':-2,'B':-4,'E':-3,'D':-4,'G':-2,'F':1,'I':-3,'H':-2,'K':-3,'M':-1,'L':-2,'N':-4,'Q':-2,'P':-4,'S':-3,'R':-3,'T':-2,'W':11,'V':-3,'Y':2,'X':-1,'Z':-3},\n",
    "    'V':{'*':-4,'A':0,'C':-1,'B':-3,'E':-2,'D':-3,'G':-3,'F':-1,'I':3,'H':-3,'K':-2,'M':1,'L':1,'N':-3,'Q':-2,'P':-2,'S':-2,'R':-3,'T':0,'W':-3,'V':4,'Y':-1,'X':-1,'Z':-2},\n",
    "    'Y':{'*':-4,'A':-2,'C':-2,'B':-3,'E':-2,'D':-3,'G':-3,'F':3,'I':-1,'H':2,'K':-2,'M':-1,'L':-1,'N':-2,'Q':-1,'P':-3,'S':-2,'R':-2,'T':-2,'W':2,'V':-1,'Y':7,'X':-1,'Z':-2},\n",
    "    'X':{'*':-4,'A':-1,'C':-1,'B':-1,'E':-1,'D':-1,'G':-1,'F':-1,'I':-1,'H':-1,'K':-1,'M':-1,'L':-1,'N':-1,'Q':-1,'P':-1,'S':-1,'R':-1,'T':-1,'W':-1,'V':-1,'Y':-1,'X':-1,'Z':-1},\n",
    "    'Z':{'*':-4,'A':-1,'C':-3,'B':1,'E':4,'D':1,'G':-2,'F':-3,'I':-3,'H':0,'K':1,'M':-1,'L':-3,'N':0,'Q':3,'P':-1,'S':0,'R':0,'T':-1,'W':-3,'V':-2,'Y':-2,'X':-1,'Z':4}}"
   ]
  },
  {
   "cell_type": "code",
   "execution_count": null,
   "metadata": {
    "deletable": false,
    "nbgrader": {
     "cell_type": "code",
     "checksum": "22466eb50c8527fca6d059d2e9e11c24",
     "grade": false,
     "grade_id": "cell-e2acacfafe02ff8c",
     "locked": false,
     "schema_version": 3,
     "solution": true,
     "task": false
    }
   },
   "outputs": [],
   "source": [
    "# GRADED CELL 3.6 (10 marks, max 1 min run-time)\n",
    "\n",
    "def percentage_similarity(pairwise_aln, sub_matrix):\n",
    "    \"\"\"\n",
    "    Calculate the percentage sequence similarity between two aligned protein sequences. \n",
    "    Assume that pairwise_aln is an skbio.alignment.TabularMSA object. \n",
    "    Assume sub_matrix is a 2D dictionary encoding an amino-acid substitution matrix. \n",
    "    Two amino acid residues are similar if there is a value greater than 0 in the corresponding cell of sub_matrix. \n",
    "    The percentage similarity is defined as the number of positions with similar amino acid residues as a percentage of the total number of positions in the alignment.\n",
    "    Return a floating point number between 0 and 100. \n",
    "    If pairwise_aln contains fewer than 2 sequences, return None.\n",
    "    \"\"\"\n",
    "   \n",
    "    # YOUR CODE HERE\n",
    "    if len(pairwise_aln) < 2:\n",
    "        return None\n",
    "    \n",
    "    similars = 0\n",
    "    first_seq = pairwise_aln[0]\n",
    "    second_seq = pairwise_aln[1]\n",
    "    seq_length = len(first_seq)\n",
    "    \n",
    "    for i in range(seq_length):\n",
    "        \n",
    "        amino_A = str(first_seq[i])\n",
    "        amino_B = str(second_seq[i])\n",
    "        \n",
    "        if amino_A == '-' or amino_B == '-':\n",
    "            continue  \n",
    "        elif sub_matrix[amino_A][amino_B] > 0:\n",
    "            similars += 1\n",
    "        \n",
    "    return (similars/seq_length) * 100"
   ]
  },
  {
   "cell_type": "code",
   "execution_count": null,
   "metadata": {},
   "outputs": [],
   "source": [
    "# ~~ Test your function in this cell ~~\n",
    "demo_sequence_a = skbio.sequence.Protein('MYWIW')\n",
    "demo_sequence_b = skbio.sequence.Protein('IYW--')\n",
    "demo_pairwise_prot_aln = skbio.TabularMSA([demo_sequence_a, demo_sequence_b])\n",
    "\n",
    "sequence_a = skbio.sequence.Protein('MYGEGEPGGWQDHVTVLATRRHPKWAQAWVSTMPWGYECGFSRAWVHQTPWINV-----VSLSSHEAYGVVAVRHPWEIFSPYEVYAPYVQDTQHHGNPGQFTTSCYPDE')\n",
    "sequence_b = skbio.sequence.Protein('MYADGEPGAWQDHMTVLAIYWHHKWAHAWVSTMPWSYECGFSRAWVHQTPWINVIRFTQVSLSSRAWYGILAVRHPWEIFSPYDVYAPYVAATQHHGNPGQFSTSCYP--')\n",
    "pairwise_prot_aln = skbio.TabularMSA([sequence_a, sequence_b])\n",
    "\n",
    "print(percentage_similarity(demo_pairwise_prot_aln, BLOSUM_62)) # should return 60.0\n",
    "\n",
    "print(percentage_similarity(pairwise_prot_aln, BLOSUM_62))"
   ]
  },
  {
   "cell_type": "code",
   "execution_count": null,
   "metadata": {
    "deletable": false,
    "editable": false,
    "nbgrader": {
     "cell_type": "code",
     "checksum": "9f65d23802eca18994d3f3c68f9ddfb4",
     "grade": true,
     "grade_id": "cell-b1d5ba9bc91c14d0",
     "locked": true,
     "points": 10,
     "schema_version": 3,
     "solution": false,
     "task": false
    }
   },
   "outputs": [],
   "source": [
    "# --- AUTOGRADING CELL DO NOT EDIT ----\n"
   ]
  },
  {
   "cell_type": "code",
   "execution_count": null,
   "metadata": {},
   "outputs": [],
   "source": []
  }
 ],
 "metadata": {
  "kernelspec": {
   "display_name": "Python 3",
   "language": "python",
   "name": "python3"
  },
  "language_info": {
   "codemirror_mode": {
    "name": "ipython",
    "version": 3
   },
   "file_extension": ".py",
   "mimetype": "text/x-python",
   "name": "python",
   "nbconvert_exporter": "python",
   "pygments_lexer": "ipython3",
   "version": "3.9.6"
  }
 },
 "nbformat": 4,
 "nbformat_minor": 4
}
