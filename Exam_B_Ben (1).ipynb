{
 "cells": [
  {
   "cell_type": "markdown",
   "metadata": {
    "deletable": false,
    "editable": false,
    "nbgrader": {
     "cell_type": "markdown",
     "checksum": "68ba4c9aab9edf38e83a1bb00c97a3b6",
     "grade": false,
     "grade_id": "cell-33cda1381c5202b2",
     "locked": true,
     "schema_version": 3,
     "solution": false,
     "task": false
    },
    "tags": []
   },
   "source": [
    "# Computational Genomics (COMP90016) - Exam part B\n",
    "Version 1. Last updated 9/6/2022.\n"
   ]
  },
  {
   "cell_type": "markdown",
   "metadata": {
    "deletable": false,
    "editable": false,
    "nbgrader": {
     "cell_type": "markdown",
     "checksum": "2e49bc9b55ae0bcf5276dc96acaa4c4b",
     "grade": false,
     "grade_id": "cell-e792a46138c6cbaa",
     "locked": true,
     "schema_version": 3,
     "solution": false,
     "task": false
    }
   },
   "source": [
    "## Semester 1, 2022"
   ]
  },
  {
   "cell_type": "markdown",
   "metadata": {
    "deletable": false,
    "editable": false,
    "nbgrader": {
     "cell_type": "markdown",
     "checksum": "159e447a27926fc85c3a8ebc093083b4",
     "grade": false,
     "grade_id": "cell-44741159ba2cb570",
     "locked": true,
     "schema_version": 3,
     "solution": false,
     "task": false
    },
    "tags": []
   },
   "source": [
    "\n",
    "This exam should be completed by each student individually. Make sure you read this entire document, and ask for help if anything is not clear. Any changes or clarifications to this document will be announced via the LMS.\n",
    "\n",
    "Please make sure you review the University's rules on academic honesty and plagiarism: https://academichonesty.unimelb.edu.au/\n",
    "\n",
    "Do not copy any code from other students or from the internet. This is considered plagiarism.\n",
    "\n",
    "Your completed notebook file containing all your answers will be turned in via LMS. Please also submit an HTML file.\n",
    "\n",
    "To complete the exam, finish the tasks in this notebook.\n",
    "\n",
    "The tasks are a combination of writing your own code and answering short and long-answer questions.\n",
    "\n",
    "In some cases, we have provided test input and test output that you can use to try out your solutions. These tests are just samples and are **not** exhaustive - they may warn you if you've made a mistake, but they are not guaranteed to. It's up to you to decide whether your code is correct.\n",
    "\n",
    "**Remember to save your work early and often.**"
   ]
  },
  {
   "cell_type": "markdown",
   "metadata": {
    "deletable": false,
    "editable": false,
    "nbgrader": {
     "cell_type": "markdown",
     "checksum": "8c94bb2737e64b441422d5ecc192ef9d",
     "grade": false,
     "grade_id": "cell-877e322d19da35e0",
     "locked": true,
     "schema_version": 3,
     "solution": false,
     "task": false
    },
    "tags": []
   },
   "source": [
    "## Marking\n",
    "\n",
    "Cells that must be completed to receive marks are clearly labelled. Some cells are code cells, in which you must complete the code to solve a problem. Others are markdown cells, in which you must write your answers to short-answer questions. \n",
    "\n",
    "Cells that must be completed to receive marks are labelled like this:\n",
    "\n",
    "`# -- GRADED CELL (1 mark) - complete this cell --`\n",
    "\n",
    "### Completing code cells\n",
    "\n",
    "- You will see the following text in graded code cells:\n",
    "\n",
    "``` python\n",
    "# YOUR CODE HERE\n",
    "raise NotImplementedError()\n",
    "```\n",
    "\n",
    "- ***You must remove the `raise NotImplementedError()` line from the cell, and replace it with your solution.***\n",
    "\n",
    "\n",
    "- Only add answers to graded cells. If you want to import a library or use a helper function, this must be included in a graded cell.\n",
    "\n",
    "\n",
    "- Run-time limits will be imposed for each coding question. The run-time of a code cell can be calculated by including `%time` at the top of your cell. Cells exceeding the run-time limit **will not be marked**. The run-time limits only apply to test cases that are included in this document.\n",
    "\n",
    "\n",
    "### Editing the notebook\n",
    "\n",
    "**Only** graded cells will be marked.\n",
    "- Don't enter solutions outside of graded cells\n",
    "- Do **NOT** duplicate or remove cells from the notebook\n",
    "- You may add new cells to test code, new cells will not be graded.\n",
    "- Word limits, where stated, will be strictly enforced. Answers exceeding the limit **will not be marked**.\n",
    "\n",
    "\n",
    "\n",
    "### Marks\n",
    "\n",
    "No marks are allocated to commenting in your code. We do however, encourage efficient and well commented code.\n",
    "\n",
    "The total marks for the assignment add up to 100, and it will be worth 20% of your overall subject grade.\n",
    "\n",
    "Part 1: 15 marks\n",
    "\n",
    "Part 2: 15 marks\n",
    "\n",
    "Part 3: 30 marks\n",
    "\n",
    "Part 4: 40 marks"
   ]
  },
  {
   "cell_type": "markdown",
   "metadata": {
    "deletable": false,
    "editable": false,
    "nbgrader": {
     "cell_type": "markdown",
     "checksum": "4b3c5df6d4068d69f09e29914d73bb3a",
     "grade": false,
     "grade_id": "cell-ce22ffc47f8b8e52",
     "locked": true,
     "schema_version": 3,
     "solution": false,
     "task": false
    },
    "tags": []
   },
   "source": [
    "## Submitting\n",
    "\n",
    "Before you turn this assignment in, make sure everything runs as expected. First, **restart the kernel** (in the menubar, select Kernel$\\rightarrow$Restart) and then **run all cells** (in the menubar, select Cell$\\rightarrow$Run All).\n",
    "\n",
    "Make sure you fill in any place that says `YOUR CODE HERE` or \"YOUR ANSWER HERE\", as well as your name and student ID number below:"
   ]
  },
  {
   "cell_type": "markdown",
   "metadata": {},
   "source": [
    "<div class=\"alert alert-info\">\n",
    "Name: Benjamin Field\n",
    "    \n",
    "Student ID: 831975\n",
    "</div>"
   ]
  },
  {
   "cell_type": "markdown",
   "metadata": {
    "deletable": false,
    "editable": false,
    "jp-MarkdownHeadingCollapsed": true,
    "nbgrader": {
     "cell_type": "markdown",
     "checksum": "bc9be0577a0023ee9809319a7a658e4f",
     "grade": false,
     "grade_id": "cell-12fb041f3451e126",
     "locked": true,
     "schema_version": 3,
     "solution": false,
     "task": false
    },
    "tags": []
   },
   "source": [
    "## Overview\n",
    "\n",
    "In this assignment, you will answer questions about k-mers, assemblies, genetic codes and health-related case studies.\n",
    "\n",
    "You will use the `skbio` library in your functions. You may want to refer to sections of the `skbio` documentation for additional help (scikit-bio.org/docs/0.5.6/index.html). Additional to `skbio` and standard Python 3 functions and methods, you may also use any other library we have used in COMP90016 including `collections`, `numpy`, `pandas`, `math`, `itertools`, `seaborn`, `pysam` and `matplotlib`."
   ]
  },
  {
   "cell_type": "markdown",
   "metadata": {
    "deletable": false,
    "editable": false,
    "nbgrader": {
     "cell_type": "markdown",
     "checksum": "843f497cd57b003200cc862ecbe20943",
     "grade": false,
     "grade_id": "cell-949ad360d1106536",
     "locked": true,
     "schema_version": 3,
     "solution": false,
     "task": false
    }
   },
   "source": [
    "## Part 1: K-mers"
   ]
  },
  {
   "cell_type": "markdown",
   "metadata": {
    "deletable": false,
    "editable": false,
    "nbgrader": {
     "cell_type": "markdown",
     "checksum": "ef280f0bd5a6b9c275a9da92898edb28",
     "grade": false,
     "grade_id": "cell-f83e16a6359c9781",
     "locked": true,
     "schema_version": 3,
     "solution": false,
     "task": false
    },
    "tags": []
   },
   "source": [
    "### Setup"
   ]
  },
  {
   "cell_type": "markdown",
   "metadata": {
    "deletable": false,
    "editable": false,
    "nbgrader": {
     "cell_type": "markdown",
     "checksum": "f1bdeb42a626e8e5a1102cb252e25108",
     "grade": false,
     "grade_id": "cell-d6902ab1c677bcaa",
     "locked": true,
     "schema_version": 3,
     "solution": false,
     "task": false
    }
   },
   "source": [
    "The FASTQ file you will be using can be found in the data directory inside the zipped folder available on the LMS. **DO NOT** rename the file."
   ]
  },
  {
   "cell_type": "code",
   "execution_count": null,
   "metadata": {
    "deletable": false,
    "editable": false,
    "nbgrader": {
     "cell_type": "code",
     "checksum": "b8eaed6529913cbc445c5b39481d0ca0",
     "grade": false,
     "grade_id": "cell-522eb95eabdf18c4",
     "locked": true,
     "schema_version": 3,
     "solution": false,
     "task": false
    }
   },
   "outputs": [],
   "source": [
    "# Import the skbio library.\n",
    "import skbio"
   ]
  },
  {
   "cell_type": "code",
   "execution_count": null,
   "metadata": {
    "deletable": false,
    "editable": false,
    "nbgrader": {
     "cell_type": "code",
     "checksum": "6eb94afc0396b4bee5645f9831ade929",
     "grade": false,
     "grade_id": "cell-8099e0c4994afccc",
     "locked": true,
     "schema_version": 3,
     "solution": false,
     "task": false
    }
   },
   "outputs": [],
   "source": [
    "# Read in the FASTQ file to produce a generator object named registry.\n",
    "fname = 'data/comp90016_exam_B_readset.fastq'\n",
    "registry = skbio.io.read(fname, format = 'fastq', phred_offset = 33)"
   ]
  },
  {
   "cell_type": "code",
   "execution_count": null,
   "metadata": {
    "deletable": false,
    "editable": false,
    "nbgrader": {
     "cell_type": "code",
     "checksum": "4c57ff665c03e8e6d8c0d42b7ed0ceb6",
     "grade": false,
     "grade_id": "cell-dba9c198df274775",
     "locked": true,
     "schema_version": 3,
     "solution": false,
     "task": false
    }
   },
   "outputs": [],
   "source": [
    "# Append the reads from registry to a list named readset.\n",
    "readset = []\n",
    "for r in registry:\n",
    "    readset.append(r)"
   ]
  },
  {
   "cell_type": "markdown",
   "metadata": {
    "deletable": false,
    "editable": false,
    "nbgrader": {
     "cell_type": "markdown",
     "checksum": "6fee01a8b2580ec438c527365ad7b8eb",
     "grade": false,
     "grade_id": "cell-9b508e61f98fb8a8",
     "locked": true,
     "schema_version": 3,
     "solution": false,
     "task": false
    },
    "tags": []
   },
   "source": [
    "### Question 1.1\n",
    "\n",
    "(5 marks, max 1 min run-time) \n",
    "\n",
    "<div class=\"alert alert-success\"> \n",
    "Write a Python function to compute the total number of distinct k-mers in a read set for a given value of k. Distinct k-mers are counted only once, even if they appear multiple times. The output should be a count of the total number of k-mers that occur at least once in a read set. Consider overlapping k-mers.\n",
    "    \n",
    "- [ ] Assume the value of k is greater than or equal to 1, and less than or equal to the length of the shortest read.\n",
    "- [ ] Assume the input reads are a list of skbio.sequence.DNA or skbio.sequence.Sequence objects.\n",
    "- [ ] Return a positive integer.\n",
    "- [ ] If reads is empty, return None.\n",
    "</div>"
   ]
  },
  {
   "cell_type": "code",
   "execution_count": null,
   "metadata": {
    "deletable": false,
    "nbgrader": {
     "cell_type": "code",
     "checksum": "2228828a42317da781578eb612c7bd8c",
     "grade": false,
     "grade_id": "Q-1-1-Answer",
     "locked": false,
     "schema_version": 3,
     "solution": true,
     "task": false
    }
   },
   "outputs": [],
   "source": [
    "# GRADED CELL 1.1 (5 marks, max 1 min run-time)\n",
    "\n",
    "def distinct_kmers(reads, k):\n",
    "    \"\"\"\n",
    "    Computes the total number of distinct k-mers in a read set for a given value of k.\n",
    "    Assume the value of k is greater than or equal to 1, and less than or equal to the length of the shortest read.\n",
    "    Assume the input reads are a list of skbio.sequence.DNA or skbio.sequence.Sequence objects.\n",
    "    Return a positive integer.\n",
    "    If reads is empty, return None.\n",
    "    \"\"\"\n",
    "    \n",
    "    # YOUR CODE HERE\n",
    "    if bool(reads):\n",
    "        \n",
    "        k_mer_dict = {}\n",
    "        for read in reads:\n",
    "            for i in range(0, len(read) - k + 1):\n",
    "                if str(read)[i: i + k] not in k_mer_dict:\n",
    "                    k_mer_dict[str(read)[i: i + k]] = 1\n",
    "                else:\n",
    "                    k_mer_dict[str(read)[i: i + k]] += 1\n",
    "        return len(k_mer_dict)\n",
    "    \n",
    "    else:\n",
    "        return None"
   ]
  },
  {
   "cell_type": "code",
   "execution_count": null,
   "metadata": {
    "tags": []
   },
   "outputs": [],
   "source": [
    "# Test your function in this cell\n",
    "\n",
    "# Test the function run time\n",
    "%timeit distinct_kmers(readset, 9)\n",
    "\n",
    "# Check expected output on demo data\n",
    "demo_reads = [skbio.sequence.DNA('AAAAATTC'), skbio.sequence.DNA('CAT')]\n",
    "print(distinct_kmers(demo_reads, 3)) # should return 5\n",
    "print(distinct_kmers(readset, 9))\n",
    "\n",
    "# Write your own tests here:\n"
   ]
  },
  {
   "cell_type": "code",
   "execution_count": null,
   "metadata": {
    "deletable": false,
    "editable": false,
    "nbgrader": {
     "cell_type": "code",
     "checksum": "8f53b38716413fae4742cde8389acfd3",
     "grade": true,
     "grade_id": "Q-1-1-test-1",
     "locked": true,
     "points": 4,
     "schema_version": 3,
     "solution": false,
     "task": false
    }
   },
   "outputs": [],
   "source": [
    "# --- AUTOGRADING CELL DO NOT EDIT ----\n"
   ]
  },
  {
   "cell_type": "code",
   "execution_count": null,
   "metadata": {
    "deletable": false,
    "editable": false,
    "nbgrader": {
     "cell_type": "code",
     "checksum": "1de4b5e2928cf713a201399dffd6bb4b",
     "grade": true,
     "grade_id": "Q-1-1-test-2",
     "locked": true,
     "points": 1,
     "schema_version": 3,
     "solution": false,
     "task": false
    }
   },
   "outputs": [],
   "source": [
    "# --- AUTOGRADING CELL DO NOT EDIT ----\n"
   ]
  },
  {
   "cell_type": "markdown",
   "metadata": {
    "deletable": false,
    "editable": false,
    "nbgrader": {
     "cell_type": "markdown",
     "checksum": "f5444692a2de5063e06d740fda93346b",
     "grade": false,
     "grade_id": "cell-092040afe99bfe91",
     "locked": true,
     "schema_version": 3,
     "solution": false,
     "task": false
    },
    "tags": []
   },
   "source": [
    "### Question 1.2\n",
    "\n",
    "(5 marks, max 1 min run-time) \n",
    "\n",
    "<div class=\"alert alert-success\"> \n",
    "Write a Python function to identify the most abundant k-mer in a read set for a given value of k. Consider overlapping k-mers.\n",
    "    \n",
    "- [ ] Assume the value of k is greater than or equal to 1, and less than or equal to the length of the shortest read.\n",
    "- [ ] Assume the input reads are a list of skbio.sequence.DNA or skbio.sequence.Sequence objects.\n",
    "- [ ] Return the most abundant k-mer as a string.\n",
    "- [ ] If there is a tie for the most abundant k-mer, return one of the most abundant k-mers only.\n",
    "- [ ] If reads is empty, return None.\n",
    "</div>"
   ]
  },
  {
   "cell_type": "code",
   "execution_count": null,
   "metadata": {
    "deletable": false,
    "nbgrader": {
     "cell_type": "code",
     "checksum": "8df0ec07afe7099e8d84f4313bfe1332",
     "grade": false,
     "grade_id": "Q-1-2-Answer",
     "locked": false,
     "schema_version": 3,
     "solution": true,
     "task": false
    }
   },
   "outputs": [],
   "source": [
    "# GRADED CELL 1.2 (5 marks, max 1 min run-time)\n",
    "\n",
    "def top_kmer(reads, k):\n",
    "    \"\"\"\n",
    "    Identify the most abundant k-mer in a read set for a given value of k.\n",
    "    Assume the value of k is greater than or equal to 1, and less than or equal to the length of the shortest read.\n",
    "    Assume the input reads are a list of skbio.sequence.DNA or skbio.sequence.Sequence objects.\n",
    "    Return the most abundant k-mer as a string.\n",
    "    If there is a tie for the most abundant k-mer, return one of the most abundant k-mers only.\n",
    "    If reads is empty, return None.\n",
    "    \"\"\"\n",
    "    \n",
    "    # YOUR CODE HERE\n",
    "    if bool(reads):\n",
    "        \n",
    "        k_mer_dict = {}\n",
    "        for read in reads:\n",
    "            for i in range(0, len(read) - k + 1):\n",
    "                if str(read)[i: i + k] not in k_mer_dict:\n",
    "                    k_mer_dict[str(read)[i: i + k]] = 1\n",
    "                else:\n",
    "                    k_mer_dict[str(read)[i: i + k]] += 1\n",
    "        \n",
    "        max_value = max(k_mer_dict, key=k_mer_dict.get)\n",
    "        return max_value\n",
    "    \n",
    "    else:\n",
    "        return None    "
   ]
  },
  {
   "cell_type": "code",
   "execution_count": null,
   "metadata": {},
   "outputs": [],
   "source": [
    "# Test your function in this cell\n",
    "\n",
    "# Test the function run time\n",
    "%timeit top_kmer(readset, 9)\n",
    "\n",
    "# Check expected output on demo data\n",
    "print(top_kmer(demo_reads, 3)) # should return 'AAA'\n",
    "print(top_kmer(readset, 9))\n",
    "\n",
    "# Write your own tests here:\n"
   ]
  },
  {
   "cell_type": "code",
   "execution_count": null,
   "metadata": {
    "deletable": false,
    "editable": false,
    "nbgrader": {
     "cell_type": "code",
     "checksum": "f5c6591dbaee4a4361dda181a7a0d45a",
     "grade": true,
     "grade_id": "Q-1-2-tests-1",
     "locked": true,
     "points": 3,
     "schema_version": 3,
     "solution": false,
     "task": false
    }
   },
   "outputs": [],
   "source": [
    "# --- AUTOGRADING CELL DO NOT EDIT ----\n"
   ]
  },
  {
   "cell_type": "code",
   "execution_count": null,
   "metadata": {
    "deletable": false,
    "editable": false,
    "nbgrader": {
     "cell_type": "code",
     "checksum": "2a0c1d71f08b894c96ec9b5dbc7298a0",
     "grade": true,
     "grade_id": "Q-1-2-tests-2",
     "locked": true,
     "points": 1,
     "schema_version": 3,
     "solution": false,
     "task": false
    }
   },
   "outputs": [],
   "source": [
    "# --- AUTOGRADING CELL DO NOT EDIT ----\n",
    "\n"
   ]
  },
  {
   "cell_type": "code",
   "execution_count": null,
   "metadata": {
    "deletable": false,
    "editable": false,
    "nbgrader": {
     "cell_type": "code",
     "checksum": "5b35acc4dccc18a4334f3afdefe5cb3b",
     "grade": true,
     "grade_id": "Q-1-2-tests-3",
     "locked": true,
     "points": 1,
     "schema_version": 3,
     "solution": false,
     "task": false
    }
   },
   "outputs": [],
   "source": [
    "# --- AUTOGRADING CELL DO NOT EDIT ----\n",
    "\n"
   ]
  },
  {
   "cell_type": "markdown",
   "metadata": {
    "deletable": false,
    "editable": false,
    "nbgrader": {
     "cell_type": "markdown",
     "checksum": "450241703fbbfb28b920c64d49b86ba9",
     "grade": false,
     "grade_id": "Q-1-3",
     "locked": true,
     "schema_version": 3,
     "solution": false,
     "task": false
    },
    "tags": []
   },
   "source": [
    "### Question 1.3\n",
    "\n",
    "(5 marks, max 100 words)\n",
    "\n",
    "<div class=\"alert alert-info\">\n",
    "Explain how a function that finds the most abundant k-mer in a read set could be useful for quality control.\n",
    "</div>"
   ]
  },
  {
   "cell_type": "markdown",
   "metadata": {
    "deletable": false,
    "nbgrader": {
     "cell_type": "markdown",
     "checksum": "e9382626ba92bcf5eaed285b7715ec2f",
     "grade": true,
     "grade_id": "Q-1-3-Answer",
     "locked": false,
     "points": 5,
     "schema_version": 3,
     "solution": true,
     "task": false
    }
   },
   "source": [
    "The most abundant k-mer can provide clues as to whether certain reads may have been overexpressed. A k-mer that is very abundant means that it is highly recurrent in the assembly, this could indicate that there has been a sequencing error in which certain reads have been overproduced which could negatively affect the biological accuracy of the assembly. "
   ]
  },
  {
   "cell_type": "markdown",
   "metadata": {
    "deletable": false,
    "editable": false,
    "nbgrader": {
     "cell_type": "markdown",
     "checksum": "1e041bdcf2f569ca3e3a62408b564461",
     "grade": false,
     "grade_id": "cell-4de87dd74ab82721",
     "locked": true,
     "schema_version": 3,
     "solution": false,
     "task": false
    }
   },
   "source": [
    "### END OF PART 1"
   ]
  },
  {
   "cell_type": "markdown",
   "metadata": {
    "deletable": false,
    "editable": false,
    "nbgrader": {
     "cell_type": "markdown",
     "checksum": "9bcee9cc1661b4280dbca1b164043029",
     "grade": false,
     "grade_id": "cell-adf17adf8befe191",
     "locked": true,
     "schema_version": 3,
     "solution": false,
     "task": false
    }
   },
   "source": [
    "## Part 2: Assemblies"
   ]
  },
  {
   "cell_type": "markdown",
   "metadata": {
    "deletable": false,
    "editable": false,
    "nbgrader": {
     "cell_type": "markdown",
     "checksum": "75bee3870e7e3602a49bf66f47017902",
     "grade": false,
     "grade_id": "cell-daef5008f1bebd6b",
     "locked": true,
     "schema_version": 3,
     "solution": false,
     "task": false
    },
    "tags": []
   },
   "source": [
    "### Setup"
   ]
  },
  {
   "cell_type": "markdown",
   "metadata": {
    "deletable": false,
    "editable": false,
    "nbgrader": {
     "cell_type": "markdown",
     "checksum": "030f244cc02159bfc4f1405375d884a8",
     "grade": false,
     "grade_id": "cell-35fc98fff81e3371",
     "locked": true,
     "schema_version": 3,
     "solution": false,
     "task": false
    }
   },
   "source": [
    "The FASTA file you will be using can be found in the data directory inside the zipped folder available on the LMS. **DO NOT** rename the file."
   ]
  },
  {
   "cell_type": "code",
   "execution_count": null,
   "metadata": {
    "deletable": false,
    "editable": false,
    "nbgrader": {
     "cell_type": "code",
     "checksum": "ffec82de431afaf4b845581251aca5fc",
     "grade": false,
     "grade_id": "cell-36cbbf18b9cea968",
     "locked": true,
     "schema_version": 3,
     "solution": false,
     "task": false
    }
   },
   "outputs": [],
   "source": [
    "# Read in the FASTA file to produce a generator object named registry.\n",
    "fname = 'data/comp90016_exam_B_assembly.fasta'\n",
    "registry = skbio.io.read(fname, format = 'fasta')"
   ]
  },
  {
   "cell_type": "code",
   "execution_count": null,
   "metadata": {
    "deletable": false,
    "editable": false,
    "nbgrader": {
     "cell_type": "code",
     "checksum": "428d9970b2027f5732bf102cedc932b1",
     "grade": false,
     "grade_id": "cell-9a648fd78a191437",
     "locked": true,
     "schema_version": 3,
     "solution": false,
     "task": false
    }
   },
   "outputs": [],
   "source": [
    "# Append the reads from registry to a list named assembly_contigs.\n",
    "assembly_contigs = []\n",
    "for contig in registry:\n",
    "    assembly_contigs.append(contig)"
   ]
  },
  {
   "cell_type": "markdown",
   "metadata": {
    "deletable": false,
    "editable": false,
    "nbgrader": {
     "cell_type": "markdown",
     "checksum": "c42a488121a267b97515f243a498ac64",
     "grade": false,
     "grade_id": "cell-5f76ba33c22faedb",
     "locked": true,
     "schema_version": 3,
     "solution": false,
     "task": false
    },
    "tags": []
   },
   "source": [
    "### Question 2.1 \n",
    "\n",
    "(5 marks, max 1 min run-time) \n",
    "\n",
    "<div class=\"alert alert-success\"> \n",
    "    \n",
    "The Nx length is defined as the length L for which x% of all bases in the assembly are in contigs that are equal to or longer than L. For example, if x = 50, the Nx (or N50) length might be 800. This means that 50% of the total bases in the assembly are in contigs that are equal to or longer than 800 bases.\n",
    "\n",
    "\n",
    "Write a Python function to compute the Nx length for an assembly.\n",
    "    \n",
    "- [ ] Assume x is an integer between 1 and 99.\n",
    "- [ ] Assume the input assembly is a list of skbio.sequence.DNA or skbio.sequence.Sequence objects.\n",
    "- [ ] Assume each contig has length > 0.\n",
    "- [ ] Return a positive integer.\n",
    "- [ ] If assembly is an empty list, return None.\n",
    "</div>"
   ]
  },
  {
   "cell_type": "code",
   "execution_count": null,
   "metadata": {
    "deletable": false,
    "nbgrader": {
     "cell_type": "code",
     "checksum": "e8bf379299f3dee9790ea5bf3f2bf91d",
     "grade": false,
     "grade_id": "Q-2-1-Answer",
     "locked": false,
     "schema_version": 3,
     "solution": true,
     "task": false
    }
   },
   "outputs": [],
   "source": [
    "# GRADED CELL 2.1 (5 marks, max 1 min run-time)\n",
    "\n",
    "def nx_length(assembly, x):\n",
    "    \n",
    "\n",
    "    if bool(assembly):\n",
    "        contig_lens = []\n",
    "        for contig in assembly:\n",
    "            contig_lens.append(len(contig))\n",
    "        \n",
    "        contig_lens.sort(reverse=True)\n",
    "        \n",
    "        total_nucleotides = sum(contig_lens)\n",
    "        n_point = total_nucleotides * x/100\n",
    "        contig_count = 0\n",
    "        for contig in contig_lens:\n",
    "            contig_count += contig\n",
    "            if contig_count >= n_point:\n",
    "                return contig\n",
    "            \n",
    "    else:\n",
    "        return None\n",
    "    \n",
    "  "
   ]
  },
  {
   "cell_type": "code",
   "execution_count": null,
   "metadata": {
    "tags": []
   },
   "outputs": [],
   "source": [
    "# Test your function in this cell\n",
    "\n",
    "# Test the function run time\n",
    "#%timeit nx_length(assembly_contigs, 75)\n",
    "\n",
    "# Check expected output on demo data\n",
    "demo_assembly = [skbio.sequence.DNA('GCAGAT'), skbio.sequence.DNA('GAAG'), skbio.sequence.DNA('GCG'), skbio.sequence.DNA('GAT')]\n",
    "print(nx_length(demo_assembly, 50)) # should return 4\n",
    "\n",
    "# Write your own tests here:\n",
    "print(nx_length(assembly_contigs, 75))"
   ]
  },
  {
   "cell_type": "code",
   "execution_count": null,
   "metadata": {
    "deletable": false,
    "editable": false,
    "nbgrader": {
     "cell_type": "code",
     "checksum": "5fa33d830373eec7da456befac052a5f",
     "grade": true,
     "grade_id": "Q-2-1-tests-1",
     "locked": true,
     "points": 4,
     "schema_version": 3,
     "solution": false,
     "task": false
    }
   },
   "outputs": [],
   "source": [
    "# --- AUTOGRADING CELL DO NOT EDIT ----\n",
    "\n",
    "\n",
    "\n"
   ]
  },
  {
   "cell_type": "code",
   "execution_count": null,
   "metadata": {
    "deletable": false,
    "editable": false,
    "nbgrader": {
     "cell_type": "code",
     "checksum": "b34b446e3eeffceffb059fa8ef345f3d",
     "grade": true,
     "grade_id": "Q-2-1-tests-2",
     "locked": true,
     "points": 1,
     "schema_version": 3,
     "solution": false,
     "task": false
    }
   },
   "outputs": [],
   "source": [
    "# --- AUTOGRADING CELL DO NOT EDIT ----\n"
   ]
  },
  {
   "cell_type": "markdown",
   "metadata": {
    "deletable": false,
    "editable": false,
    "nbgrader": {
     "cell_type": "markdown",
     "checksum": "c01c83449893db1887e8cca54fd2c260",
     "grade": false,
     "grade_id": "Q-2-2",
     "locked": true,
     "schema_version": 3,
     "solution": false,
     "task": false
    },
    "tags": []
   },
   "source": [
    "### Question 2.2\n",
    "\n",
    "(5 marks, max 100 words)\n",
    "\n",
    "<div class=\"alert alert-info\">\n",
    "Explain why a high Nx length (for example, N50 length), does not guarantee that an assembly is good quality.\n",
    "</div>"
   ]
  },
  {
   "cell_type": "markdown",
   "metadata": {
    "deletable": false,
    "nbgrader": {
     "cell_type": "markdown",
     "checksum": "8ac1c61f2c8799a52dfcc04735e5dbce",
     "grade": true,
     "grade_id": "Q-2-2-Answer",
     "locked": false,
     "points": 5,
     "schema_version": 3,
     "solution": true,
     "task": false
    }
   },
   "source": [
    "The Nx length can be easily manipulated depending on the sort of filtering applied to the assembly. A high Nx score can be artifical, by filtering out short reads from the assembly (which is a perfectly legitimate thing to do), the Nx score will be raised. This does not mean that the filtered assembly is any better quality than the unfiltered one, just that the mean contig length has been artifically increased. "
   ]
  },
  {
   "cell_type": "markdown",
   "metadata": {
    "deletable": false,
    "editable": false,
    "nbgrader": {
     "cell_type": "markdown",
     "checksum": "6254e3f57fde4ace25dc2fa9b8368101",
     "grade": false,
     "grade_id": "Q-2-3",
     "locked": true,
     "schema_version": 3,
     "solution": false,
     "task": false
    },
    "tags": []
   },
   "source": [
    "### Question 2.3\n",
    "\n",
    "(5 marks, max 100 words)\n",
    "\n",
    "<div class=\"alert alert-info\">\n",
    "Describe one other way that the quality of an assembly could be assessed.\n",
    "</div>"
   ]
  },
  {
   "cell_type": "markdown",
   "metadata": {
    "deletable": false,
    "nbgrader": {
     "cell_type": "markdown",
     "checksum": "7c6c2bcf16c7693749ff712dade6aba6",
     "grade": true,
     "grade_id": "Q-2-3-Answer",
     "locked": false,
     "points": 5,
     "schema_version": 3,
     "solution": true,
     "task": false
    }
   },
   "source": [
    "The number of overall contigs could be evaluated. An assembly with a large number of smaller contigs can indicate lesser quality than an assembly with a smaller number of larger contigs. "
   ]
  },
  {
   "cell_type": "markdown",
   "metadata": {
    "deletable": false,
    "editable": false,
    "nbgrader": {
     "cell_type": "markdown",
     "checksum": "3893abe00feec50443e52307fd822e98",
     "grade": false,
     "grade_id": "cell-43e4f895b8f25951",
     "locked": true,
     "schema_version": 3,
     "solution": false,
     "task": false
    }
   },
   "source": [
    "### END OF PART 2"
   ]
  },
  {
   "cell_type": "markdown",
   "metadata": {
    "deletable": false,
    "editable": false,
    "nbgrader": {
     "cell_type": "markdown",
     "checksum": "b9282cf69119bde73f288b2fa72fb467",
     "grade": false,
     "grade_id": "cell-4fce0053ce206bfd",
     "locked": true,
     "schema_version": 3,
     "solution": false,
     "task": false
    }
   },
   "source": [
    "## Part 3: Genetic codes"
   ]
  },
  {
   "cell_type": "markdown",
   "metadata": {
    "deletable": false,
    "editable": false,
    "nbgrader": {
     "cell_type": "markdown",
     "checksum": "6b17ee7ea0212879a0d1237be377303b",
     "grade": false,
     "grade_id": "cell-12e4064029cc31a3",
     "locked": true,
     "schema_version": 3,
     "solution": false,
     "task": false
    },
    "tags": []
   },
   "source": [
    "### Setup"
   ]
  },
  {
   "cell_type": "markdown",
   "metadata": {
    "deletable": false,
    "editable": false,
    "nbgrader": {
     "cell_type": "markdown",
     "checksum": "f34925001d1c28e2f414aad58b18d417",
     "grade": false,
     "grade_id": "cell-b9944c66a4eca34e",
     "locked": true,
     "schema_version": 3,
     "solution": false,
     "task": false
    }
   },
   "source": [
    "The FASTA file you will be using can be found in the data directory inside the zipped folder available on the LMS. **DO NOT** rename the file."
   ]
  },
  {
   "cell_type": "code",
   "execution_count": null,
   "metadata": {
    "deletable": false,
    "editable": false,
    "nbgrader": {
     "cell_type": "code",
     "checksum": "55677352193437f9657b0282d30113aa",
     "grade": false,
     "grade_id": "cell-55236389105760b7",
     "locked": true,
     "schema_version": 3,
     "solution": false,
     "task": false
    }
   },
   "outputs": [],
   "source": [
    "# Read in the FASTA file to produce a generator object named registry.\n",
    "fname = 'data/comp90016_exam_B_sequence.fasta'\n",
    "registry = skbio.io.read(fname, format = 'fasta')\n",
    "registry"
   ]
  },
  {
   "cell_type": "code",
   "execution_count": null,
   "metadata": {
    "deletable": false,
    "editable": false,
    "nbgrader": {
     "cell_type": "code",
     "checksum": "4cd5c33db9b04290115f906389c846ec",
     "grade": false,
     "grade_id": "cell-df0fdc085bf4cb58",
     "locked": true,
     "schema_version": 3,
     "solution": false,
     "task": false
    }
   },
   "outputs": [],
   "source": [
    "# Assign the sequence to an skbio.DNA.sequence object named sequence.\n",
    "for seq in registry:\n",
    "    sequence = seq\n",
    "sequence = skbio.sequence.DNA(seq, lowercase = True)"
   ]
  },
  {
   "cell_type": "markdown",
   "metadata": {
    "deletable": false,
    "editable": false,
    "nbgrader": {
     "cell_type": "markdown",
     "checksum": "fe97160a39b1db3a932a8fd1b6802722",
     "grade": false,
     "grade_id": "cell-88c6536577dc1d30",
     "locked": true,
     "schema_version": 3,
     "solution": false,
     "task": false
    }
   },
   "source": [
    "<br/>\n",
    "\n",
    "Some organisms use different variations of the genetic code. This must be taken into account when predicting genes ab initio. You can see the differences in the alternative genetic codes at the site below. Note that some genetic codes have multiple initiation codons, some are more commonly used than others. The first amino acid of any ORF is always methionine, even when an alternative initiation codon is used. In any other position, that codon may encode a different amino acid but, as a start codon, it will always code for methionine.\n",
    "\n",
    ">https://www.ncbi.nlm.nih.gov/Taxonomy/Utils/wprintgc.cgi \n",
    "\n",
    "These genetic codes can be referred to by a number. For example, the standard genetic code is genetic code 1. \n",
    "\n",
    "Fortunately, some `skbio` functions can interpret alternate genetic codes. See the documentation for methods like .translate() and .translate_six_frames() \n",
    "\n",
    "The GeneticCode function can also be used to help you incorporate the genetic codes into your functions. "
   ]
  },
  {
   "cell_type": "code",
   "execution_count": null,
   "metadata": {},
   "outputs": [],
   "source": [
    "# Display the standard genetic code. Try changing the number to view a different code.\n",
    "# Note that RNA codons are shown with the GeneticCode function where DNA codons are used on the NCBI site.\n",
    "skbio.GeneticCode.from_ncbi(1)"
   ]
  },
  {
   "cell_type": "markdown",
   "metadata": {
    "deletable": false,
    "editable": false,
    "nbgrader": {
     "cell_type": "markdown",
     "checksum": "fb02a28c6e5d8144a5b551c55db55b1f",
     "grade": false,
     "grade_id": "cell-2a6362a6fb47b5d4",
     "locked": true,
     "schema_version": 3,
     "solution": false,
     "task": false
    },
    "tags": []
   },
   "source": [
    "### Question 3.1 \n",
    "\n",
    "(20 marks, max 1 min run-time) \n",
    "\n",
    "<div class=\"alert alert-success\"> \n",
    "\n",
    "An open reading frame (ORF) is a continuous sequence of DNA that begins with a start codon and ends at a stop codon. ORFs can be in any reading frame on the positive or negative strand, can be overlapping or can be nested within another ORF.\n",
    "\n",
    "Write a Python function to identify ORFs in a DNA sequence and translate them into amino-acid sequences.\n",
    "\n",
    "- [ ] Return a list of skbio.sequence.Protein objects where the protein sequence is of a length equal to or longer than min_len.\n",
    "- [ ] Assume the input sequence is an skbio.sequence.DNA object.\n",
    "- [ ] Use the genetic code encoded by genetic_code.\n",
    "- [ ] Assume ORFs can start with any of the initiation codons and finish with any of the stop codons specified in the genetic code.\n",
    "- [ ] Only consider ORFs wholly contained within the sequence (including the start and stop codons).\n",
    "- [ ] Assume genetic_code is an integer between 1 and 6.\n",
    "- [ ] Assume min_len is an integer.\n",
    "- [ ] If the input seq is empty, return None.\n",
    "- [ ] If no ORFs are found, return an empty list.\n",
    "    \n",
    "</div>"
   ]
  },
  {
   "cell_type": "code",
   "execution_count": null,
   "metadata": {
    "deletable": false,
    "nbgrader": {
     "cell_type": "code",
     "checksum": "463a1738625e8db518345f61912b34db",
     "grade": false,
     "grade_id": "Q-3-1-Answer",
     "locked": false,
     "schema_version": 3,
     "solution": true,
     "task": false
    }
   },
   "outputs": [],
   "source": [
    "# GRADED CELL 3.1 (20 marks, max 1 min run-time)\n",
    "\n",
    "def translate_orfs(seq, min_len, genetic_code):\n",
    "    from skbio import Protein\n",
    "    \"\"\"\n",
    "    Return a list of skbio.sequence.Protein objects where the protein sequence is of a length equal to or longer than min_len.\n",
    "    Assume the input sequence is an skbio.sequence.DNA object.\n",
    "    Use the genetic code encoded by genetic_code.\n",
    "    Assume ORFs can start with any of the initiation codons and finish with any of the stop codons specified in the genetic code.\n",
    "    Only consider ORFs wholly contained within the sequence (including the start and stop codons).\n",
    "    Assume genetic_code is an integer between 1 and 6.\n",
    "    Assume min_len is an integer.\n",
    "    If the input seq is empty, return None.\n",
    "    If no ORFs are found, return an empty list.\n",
    "    \"\"\"\n",
    "    \n",
    "    # YOUR CODE HERE\n",
    "    # identify genetic code\n",
    "    if not bool(seq):\n",
    "        return None\n",
    "    \n",
    "    alt_code = skbio.GeneticCode.from_ncbi(genetic_code)\n",
    "    RNA = seq.transcribe()\n",
    "    ORFS = []\n",
    "    \n",
    "    proteins = alt_code.translate_six_frames(RNA,start='optional')\n",
    "    \n",
    "    for protein in proteins:\n",
    "        starts = [i for i in range(len(protein)) if str(protein).startswith('M', i)]\n",
    "        for start in starts:\n",
    "            new_prot = ''\n",
    "            stop_count = 0\n",
    "            \n",
    "            for base in protein[start:]:\n",
    "                if str(base) == '*':\n",
    "                     \n",
    "                    if len(new_prot) >= min_len:\n",
    "                        new_prot = Protein(new_prot)\n",
    "                        ORFS.append(new_prot)\n",
    "                    break\n",
    "                else:\n",
    "                    new_prot += str(base)\n",
    "                \n",
    "                \n",
    "\n",
    "    return ORFS\n",
    "\n",
    "\n",
    "\n"
   ]
  },
  {
   "cell_type": "code",
   "execution_count": null,
   "metadata": {},
   "outputs": [],
   "source": [
    "# Test your function in this cell\n",
    "\n",
    "# Test the function run time\n",
    "#%timeit translate_orfs(sequence, 60, 3)\n",
    "# Check expected output on demo data\n",
    "\n",
    "demo_sequence_a = skbio.sequence.DNA('GTTGGATTCATGAAAGA')\n",
    "\n",
    "print(translate_orfs(demo_sequence_a, 3, 1)) # should give a single sequence: MDS\n",
    "print(translate_orfs(demo_sequence_a, 3, 2)) # should give a single sequence: MHE\n",
    "demo_sequence_b = skbio.sequence.DNA('ATGAAATGAATGTCTTGA')\n",
    "print(translate_orfs(demo_sequence_b, 2, 1)) # should give two sequences: MK and MS\n",
    "demo_sequence_c = skbio.sequence.DNA('ATGAAAATGTCTTGA')\n",
    "print(translate_orfs(demo_sequence_c, 2, 1)) # should give two sequences: MKMS and MS\n",
    "\n",
    "\n",
    "print(translate_orfs(sequence, 60, 3))\n",
    "\n",
    "# Write your own tests here:\n"
   ]
  },
  {
   "cell_type": "code",
   "execution_count": null,
   "metadata": {
    "deletable": false,
    "editable": false,
    "nbgrader": {
     "cell_type": "code",
     "checksum": "79eff1e057efb9079bba5fb0a30af0c5",
     "grade": true,
     "grade_id": "Q-3-1-tests-1",
     "locked": true,
     "points": 10,
     "schema_version": 3,
     "solution": false,
     "task": false
    }
   },
   "outputs": [],
   "source": [
    "# --- AUTOGRADING CELL DO NOT EDIT ----\n",
    "\n",
    "\n"
   ]
  },
  {
   "cell_type": "code",
   "execution_count": null,
   "metadata": {
    "deletable": false,
    "editable": false,
    "nbgrader": {
     "cell_type": "code",
     "checksum": "4e84285227bd8cc99b06d1a5181147da",
     "grade": true,
     "grade_id": "Q-3-1-tests-2",
     "locked": true,
     "points": 2,
     "schema_version": 3,
     "solution": false,
     "task": false
    }
   },
   "outputs": [],
   "source": [
    "# --- AUTOGRADING CELL DO NOT EDIT ----\n"
   ]
  },
  {
   "cell_type": "code",
   "execution_count": null,
   "metadata": {
    "deletable": false,
    "editable": false,
    "nbgrader": {
     "cell_type": "code",
     "checksum": "69be1dbf2a78a0a6de4db1be360f2186",
     "grade": true,
     "grade_id": "Q-3-1-tests-3",
     "locked": true,
     "points": 6,
     "schema_version": 3,
     "solution": false,
     "task": false
    }
   },
   "outputs": [],
   "source": [
    "# --- AUTOGRADING CELL DO NOT EDIT ----\n"
   ]
  },
  {
   "cell_type": "code",
   "execution_count": null,
   "metadata": {
    "deletable": false,
    "editable": false,
    "nbgrader": {
     "cell_type": "code",
     "checksum": "71d420fa3a6947220d103882b4c44060",
     "grade": true,
     "grade_id": "Q-3-1-tests-4",
     "locked": true,
     "points": 2,
     "schema_version": 3,
     "solution": false,
     "task": false
    }
   },
   "outputs": [],
   "source": [
    "# --- AUTOGRADING CELL DO NOT EDIT ----\n"
   ]
  },
  {
   "cell_type": "markdown",
   "metadata": {
    "deletable": false,
    "editable": false,
    "nbgrader": {
     "cell_type": "markdown",
     "checksum": "a0a2ea2eec7993cb15d9d8277ca3154a",
     "grade": false,
     "grade_id": "Q-3-2",
     "locked": true,
     "schema_version": 3,
     "solution": false,
     "task": false
    },
    "tags": []
   },
   "source": [
    "### Question 3.2\n",
    "\n",
    "(5 marks, max 50 words)\n",
    "\n",
    "<div class=\"alert alert-info\">\n",
    "Would identifying and translating ORFs in a DNA sequence be a good candidate use-case for data parallelism? Explain your answer.\n",
    "</div>"
   ]
  },
  {
   "cell_type": "markdown",
   "metadata": {
    "deletable": false,
    "nbgrader": {
     "cell_type": "markdown",
     "checksum": "6efd91e0c98b3cb19593e40be3d8969f",
     "grade": true,
     "grade_id": "Q-3-2-Answer",
     "locked": false,
     "points": 5,
     "schema_version": 3,
     "solution": true,
     "task": false
    }
   },
   "source": [
    "Data Parallelism entails the subdivision of the dataset into a number of smaller peices and concuirrently running the same operations/ program on the subdivided data. Identifying and translatinf ORF's is a good candidate as it allows for DNA data to be split up into reading frames and processed simultaneously, improving the speed of the analysis. "
   ]
  },
  {
   "cell_type": "markdown",
   "metadata": {
    "deletable": false,
    "editable": false,
    "nbgrader": {
     "cell_type": "markdown",
     "checksum": "88e13694fc73944da67e905794f3883d",
     "grade": false,
     "grade_id": "Q-3-3",
     "locked": true,
     "schema_version": 3,
     "solution": false,
     "task": false
    },
    "tags": []
   },
   "source": [
    "### Question 3.3\n",
    "\n",
    "(5 marks, max 100 words)\n",
    "\n",
    "<div class=\"alert alert-info\">\n",
    "You have been asked to identify ORFs as part of an ab initio gene prediction analysis. Explain the potential consequences of using the wrong genetic code.\n",
    "</div>"
   ]
  },
  {
   "cell_type": "markdown",
   "metadata": {
    "deletable": false,
    "nbgrader": {
     "cell_type": "markdown",
     "checksum": "dea3f49015f109f62bf8f4f2b49b20ee",
     "grade": true,
     "grade_id": "Q-3-3-Answer",
     "locked": false,
     "points": 5,
     "schema_version": 3,
     "solution": true,
     "task": false
    }
   },
   "source": [
    "If the wrong genetic code is used, incorrect amino acid sequences and ORF's will be identified. This will likely lead to completely incorrect downstream analysis of the gene. Maybe mention something about ab initio."
   ]
  },
  {
   "cell_type": "markdown",
   "metadata": {
    "deletable": false,
    "editable": false,
    "nbgrader": {
     "cell_type": "markdown",
     "checksum": "2faf21ee08fbda65b498d2d2a8d043db",
     "grade": false,
     "grade_id": "cell-8772b5eca3c2dcb3",
     "locked": true,
     "schema_version": 3,
     "solution": false,
     "task": false
    }
   },
   "source": [
    "### END OF PART 3"
   ]
  },
  {
   "cell_type": "markdown",
   "metadata": {
    "deletable": false,
    "editable": false,
    "nbgrader": {
     "cell_type": "markdown",
     "checksum": "e0061a8f3d7bb4d03598bde7db8f035b",
     "grade": false,
     "grade_id": "cell-a551694b2159aef2",
     "locked": true,
     "schema_version": 3,
     "solution": false,
     "task": false
    }
   },
   "source": [
    "## Part 4: Computational genomics and disease"
   ]
  },
  {
   "cell_type": "markdown",
   "metadata": {
    "deletable": false,
    "editable": false,
    "nbgrader": {
     "cell_type": "markdown",
     "checksum": "7890793737814e82025343111cad1658",
     "grade": false,
     "grade_id": "Q-4-1",
     "locked": true,
     "schema_version": 3,
     "solution": false,
     "task": false
    },
    "tags": []
   },
   "source": [
    "### Question 4.1\n",
    "\n",
    "(20 marks, max 300 words)\n",
    "\n",
    "<div class=\"alert alert-info\">\n",
    "    \n",
    "Melbourne has been experiencing an outbreak of disease in domestic dogs, caused by a bacterial pathogen commonly known as Pokerus. The pathogen is passed between dogs through close contact and causes an illness that affects appetite and growth.\n",
    "\n",
    "\n",
    "This disease has been observed before, though never in Victoria. Some members of the community believe that the pathogen was first introduced to Melbourne via racing greyhounds (a breed of dog). The pathogen can infect all dog breeds but some breeds suffer more severe symptoms.\n",
    " \n",
    "Concerned for the health of domestic dogs across Melbourne, help has been enlisted from a well-funded Public Health laboratory with a computational genomics unit that has extensive experience in the investigation of disease outbreaks caused by bacterial pathogens.\n",
    "    \n",
    "**The computational genomics lab has been assigned the following tasks:**\n",
    "\n",
    "- Investigate the evolutionary relationships between different Pokerus isolates including isolates from previous outbreaks in other locations and isolates from the current Melbourne outbreak.\n",
    "- Determine whether there is evidence that the pathogen was introduced to Melbourne via racing greyhounds.\n",
    " \n",
    "**Available resources include:**\n",
    " \n",
    "- 10 purified, cultured Pokerus isolates from other outbreaks around the world.\n",
    "- 10 purified, cultured Pokerus isolates from the Melbourne outbreak from several dog breed hosts including racing greyhounds.\n",
    "- The NCBI reference sequence database (RefSeq)\n",
    "    - Includes the latest annotated *Canis lupus familiaris* (dog) reference genome.\n",
    "    - Includes the latest annotated Pokerus reference genome.\n",
    "- Any other databases required by tools covered in COMP90016 this semester.\n",
    " \n",
    "You can assume that the resources available and any biological samples you propose to generate from them are of sufficient quality and quantity for the analysis you propose.\n",
    " \n",
    "**Using the information and resources from the scenario above, describe an experimental approach to carry out the specified tasks.**\n",
    "    \n",
    "- Describe and justify all necessary steps in your analysis. \n",
    "- Limit your discussion to aspects of the bioinformatics. \n",
    "- Include the names of the tools you propose to use and the specific inputs and outputs of each step. \n",
    "- Please use tools that have been used or mentioned in COMP90016 this semester. \n",
    "- Include your choice of sequencing technology and important quality control measures. \n",
    "- Discuss the potential results and how their interpretation could lead to conclusions regarding the two tasks. \n",
    "- Answer in text format only, do not include figures or code.\n",
    "</div>"
   ]
  },
  {
   "cell_type": "markdown",
   "metadata": {
    "deletable": false,
    "nbgrader": {
     "cell_type": "markdown",
     "checksum": "677e7ad906c1b6b3ec82a836bc54ec14",
     "grade": true,
     "grade_id": "Q-4-1-Answer",
     "locked": false,
     "points": 20,
     "schema_version": 3,
     "solution": true,
     "task": false
    }
   },
   "source": [
    "-Use long read sequencing to sequence all isolates. Long read sequencers such as the PacBio sequencer are ideal for tasks such as phylogenetics, genome assembly and outbreak analysis. This is becsause the large bp reads help to eliminate amplification bias and are computationally easier to assemble into a genome. \n",
    "-Long reads can have issues with error rates, to help mitigate this. Short read sequencing like Illumina could also be used to adjust for errors from certain regions of the long reads. \n",
    "-Use FASTQC on outputted FASTQ file for initial quality control.\n",
    "-Use snippy to generate an alignment file of the reads against the NCBI reference genome\n",
    "-Multiple sequence alignment should then be used to determine the similarity and evolutionary reltionships between the isolates. \n",
    "-For the MSA, progressive/tree alignment via Clustal can be used to generate a MSA file.\n",
    "-The MSA file can then be analyzed to assess isolate relationships.\n",
    "-Generate a phylogenetic tree with iqtree. The output file is a newick file\n",
    "-The newick file will contain a maximum likelihood tree that highlights the genetic relationship between isolates.\n",
    "-The newick file along with supporting csv data can be uploaded to microreact to visualise geographical data.\n",
    "-If the pathogen originated via racing greyhounds in melbourne, the isolates will form a monophyletic group with the greyhound isolate as the common ancestor. "
   ]
  },
  {
   "cell_type": "markdown",
   "metadata": {
    "deletable": false,
    "editable": false,
    "nbgrader": {
     "cell_type": "markdown",
     "checksum": "32c8d95b842f5cac08fe24c6db889001",
     "grade": false,
     "grade_id": "Q-4-2",
     "locked": true,
     "schema_version": 3,
     "solution": false,
     "task": false
    },
    "tags": []
   },
   "source": [
    "### Question 4.2\n",
    "\n",
    "(20 marks, max 300 words)\n",
    "\n",
    "<div class=\"alert alert-info\">\n",
    "    \n",
    "One particular breed of dog called Growlithes seems to be resistant to the symptoms brought on by the Pokerus bacteria (although they can still be infected).\n",
    "    \n",
    "Scientists hypothesise that Growlithes are protected from severe symptoms by genetic variants related to their response to heat. The biological process of \"response to heat\" is represented by gene ontology term GO:0009408. The same well-funded computational genomics laboratory has been tasked with discovering more about the mechanisms of the resistance in Growlithes.\n",
    "\n",
    "**The computational genomics lab has been assigned the following tasks:**\n",
    " \n",
    "- Identify a set of genetic variants in Growlithes that differ from the dog reference genome.\n",
    "- Determine whether there are genetic variants in Growlithe genes that are involved in the \"response to heat\" and are predicted to affect the function of the gene product.\n",
    "\n",
    " \n",
    "**Available resources include:**\n",
    " \n",
    "- All resources from question 4.1.\n",
    "- 20 DNA samples from Growlithes.\n",
    "- The gene ontology database.\n",
    "- Any other databases required by tools covered in COMP90016 this semester.\n",
    " \n",
    "You can assume that the resources available and any biological samples you propose to generate from them are of sufficient quality and quantity for the analysis you propose.\n",
    " \n",
    "**Using the information and resources from the scenario above, describe an experimental approach to carry out the specified tasks.**\n",
    "    \n",
    "- Describe and justify all necessary steps in your analysis. \n",
    "- Limit your discussion to aspects of the bioinformatics. \n",
    "- Include the names of the tools you propose to use and the specific inputs and outputs of each step. \n",
    "- Please use tools that have been used or mentioned in COMP90016 this semester. \n",
    "- Include your choice of sequencing technology and important quality control measures. \n",
    "- Discuss the potential results and how their interpretation could lead to conclusions regarding the two tasks. \n",
    "- Answer in text format only, do not include figures or code.\n",
    "</div>"
   ]
  },
  {
   "cell_type": "markdown",
   "metadata": {
    "deletable": false,
    "nbgrader": {
     "cell_type": "markdown",
     "checksum": "2f5763b353a8e81441314eab2972576d",
     "grade": true,
     "grade_id": "Q-4-2-Answer",
     "locked": false,
     "points": 20,
     "schema_version": 3,
     "solution": true,
     "task": false
    }
   },
   "source": [
    "-Sequence growltihe genome with a short read sequincing technology (Illumina). Short read is used for its higher accuracy levels. \n",
    "-Use FASTQC to perform quality control on FASTQ readset.\n",
    "-Use data fromn gene ontology database as a reference for genes of interest.\n",
    "-Use BWA to map reads against reference genome. Data is now in BAM format.\n",
    "-Improve the alignment with SAMtools via duplicate removal, local realignment and base quality score recalibration.\n",
    "-Use a samtools on outputted BAM file to prepare for variant calling.\n",
    "-Use bcftools to call variants. The output will be a .vcf file.\n",
    "-Filter variants for quality within bcftools, adjusting parameters for phred scores and sensitivity to maximise the likelihood of the variants being biologically accurate. The .vcf file will now contain higher quality information.\n",
    "-The vcf file can be analysed to identify variants of interest between the growlithe genome and the dog reference genome.\n",
    "-These areas of interest can be further analysed via the use of tblastx on the original fastq files. tblastx will undergo a protein - protein comparison between the wild type and the variant. This can be used to glean information about how the growlithe variant is being differentially expressed at the level of proteins. "
   ]
  },
  {
   "cell_type": "markdown",
   "metadata": {
    "deletable": false,
    "editable": false,
    "nbgrader": {
     "cell_type": "markdown",
     "checksum": "582de33a0b01b92186a9e1ce6104dbee",
     "grade": false,
     "grade_id": "cell-cb0f308b9ef86424",
     "locked": true,
     "schema_version": 3,
     "solution": false,
     "task": false
    }
   },
   "source": [
    "### END OF PART 4"
   ]
  },
  {
   "cell_type": "markdown",
   "metadata": {
    "deletable": false,
    "editable": false,
    "nbgrader": {
     "cell_type": "markdown",
     "checksum": "ec214a70b2e4198c2a9ba6a0dc19ead1",
     "grade": false,
     "grade_id": "cell-9c9d19f9c1b50713",
     "locked": true,
     "schema_version": 3,
     "solution": false,
     "task": false
    }
   },
   "source": [
    "### END OF EXAM"
   ]
  }
 ],
 "metadata": {
  "kernelspec": {
   "display_name": "Python 3",
   "language": "python",
   "name": "python3"
  },
  "language_info": {
   "codemirror_mode": {
    "name": "ipython",
    "version": 3
   },
   "file_extension": ".py",
   "mimetype": "text/x-python",
   "name": "python",
   "nbconvert_exporter": "python",
   "pygments_lexer": "ipython3",
   "version": "3.9.6"
  }
 },
 "nbformat": 4,
 "nbformat_minor": 4
}
