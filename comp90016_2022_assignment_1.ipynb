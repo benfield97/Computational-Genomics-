{
 "cells": [
  {
   "cell_type": "markdown",
   "metadata": {
    "deletable": false,
    "editable": false,
    "nbgrader": {
     "cell_type": "markdown",
     "checksum": "e56b1b2f2d8d514405e855ba587de386",
     "grade": false,
     "grade_id": "cell-30e4c45d614cd5dc",
     "locked": true,
     "schema_version": 3,
     "solution": false,
     "task": false
    }
   },
   "source": [
    "# COMP90016 - Assignment 1\n",
    "Version 1.1 Last edited 11/3/2022.\n",
    "\n",
    "## Semester 1, 2022"
   ]
  },
  {
   "cell_type": "markdown",
   "metadata": {
    "deletable": false,
    "editable": false,
    "nbgrader": {
     "cell_type": "markdown",
     "checksum": "2a61f381607db4d81e901c08426c69cf",
     "grade": false,
     "grade_id": "cell-951d0408d2c9e864",
     "locked": true,
     "schema_version": 3,
     "solution": false,
     "task": false
    }
   },
   "source": [
    "\n",
    "This assignment should be completed by each student individually. Make sure you read this entire document, and ask for help if anything is not clear. Any changes or clarifications to this document will be announced via the LMS.\n",
    "\n",
    "Please make sure you review the University's rules on academic honesty and plagiarism: https://academichonesty.unimelb.edu.au/\n",
    "\n",
    "Do not copy any code from other students or from the internet. This is considered plagiarism.\n",
    "\n",
    "Your completed notebook file containing all your answers will be turned in via LMS. Please also submit an HTML file with the output cleared.\n",
    "\n",
    "To complete the assignment, finish the tasks in this notebook.\n",
    "\n",
    "The tasks are a combination of writing your own code, interpreting the results and answering related short-answer questions.\n",
    "\n",
    "In some cases, we have provided test input and test output that you can use to try out your solutions. These tests are just samples and are **not** exhaustive - they may warn you if you've made a mistake, but they are not guaranteed to. It's up to you to decide whether your code is correct.\n",
    "\n",
    "**Remember to save your work early and often.**"
   ]
  },
  {
   "cell_type": "markdown",
   "metadata": {
    "deletable": false,
    "editable": false,
    "nbgrader": {
     "cell_type": "markdown",
     "checksum": "a028fd030b053acf843910e18fac58e3",
     "grade": false,
     "grade_id": "cell-0fa64c11580f7a4b",
     "locked": true,
     "schema_version": 3,
     "solution": false,
     "task": false
    }
   },
   "source": [
    "## Marking\n",
    "\n",
    "Cells that must be completed to receive marks are clearly labelled. Some cells are code cells, in which you must complete the code to solve a problem. Others are markdown cells, in which you must write your answers to short-answer questions. \n",
    "\n",
    "Cells that must be completed to receive marks are labelled like this:\n",
    "\n",
    "`# -- GRADED CELL (1 mark) - complete this cell --`\n",
    "\n",
    "Some graded cells are code cells, in which you must complete the code to solve a problem. Other graded cells are markdown cells, in which you must write your answers to short-answer questions. \n",
    "\n",
    "You will see the following text in graded code cells:\n",
    "\n",
    "```\n",
    "# YOUR CODE HERE\n",
    "raise NotImplementedError()\n",
    "```\n",
    "\n",
    "***You must remove the `raise NotImplementedError()` line from the cell, and replace it with your solution.***\n",
    "\n",
    "Only add answers to graded cells. If you want to import a library or use a helper function, this must be included in a graded cell.\n",
    "\n",
    "Only graded cells will be marked.\n",
    "**Don't make changes outside graded cells, and don't add or remove cells from the notebook**.\n",
    "\n",
    ">Word limits, where stated, will be strictly enforced. Answers exceeding the limit **will not be marked**.\n",
    "\n",
    ">Run-time limits will be imposed for each coding question. The run-time of a code cell can be calculated by including `%time` at the top of your cell. Cells exceeding the run-time limit **will not be marked**. The run-time limits only apply to test cases that are included in this document.\n",
    "\n",
    "No marks are allocated to commenting in your code. We do however, encourage efficient and well commented code.\n",
    "\n",
    "The total marks for the assignment add up to 100, and it will be worth 10% of your overall subject grade.\n",
    "\n",
    "Part 1: 35 marks\n",
    "\n",
    "Part 2: 35 marks\n",
    "\n",
    "Part 3: 30 marks\n"
   ]
  },
  {
   "cell_type": "markdown",
   "metadata": {
    "deletable": false,
    "editable": false,
    "nbgrader": {
     "cell_type": "markdown",
     "checksum": "8ad4235387fa97d5e5217e8934739593",
     "grade": false,
     "grade_id": "cell-55d3e13308159499",
     "locked": true,
     "schema_version": 3,
     "solution": false,
     "task": false
    }
   },
   "source": [
    "## Submitting\n",
    "\n",
    "Before you turn this assignment in, make sure everything runs as expected. First, **restart the kernel** (in the menubar, select Kernel$\\rightarrow$Restart) and then **run all cells** (in the menubar, select Cell$\\rightarrow$Run All).\n",
    "\n",
    "Make sure you fill in any place that says `YOUR CODE HERE` or \"YOUR ANSWER HERE\", as well as your name and student ID number below:"
   ]
  },
  {
   "cell_type": "code",
   "execution_count": 1,
   "metadata": {
    "collapsed": true
   },
   "outputs": [],
   "source": [
    "NAME = \"Ben Field\"\n",
    "\n",
    "ID = \"831975\""
   ]
  },
  {
   "cell_type": "markdown",
   "metadata": {
    "deletable": false,
    "editable": false,
    "nbgrader": {
     "cell_type": "markdown",
     "checksum": "cca7679599654afd6bfd31c9a6b4cfe6",
     "grade": false,
     "grade_id": "cell-96effc84ad971c72",
     "locked": true,
     "schema_version": 3,
     "solution": false,
     "task": false
    }
   },
   "source": [
    "## Overview\n",
    "\n",
    "In this assignment, you will answer questions about working with short reads, seqeunce motifs and DNA sequencing technologies.\n",
    "\n",
    "You will use the `skbio` library in your functions. You may want to refer to sections of the `skbio` documentation for additional help (http://scikit-bio.org/docs/latest). Additional to `skbio` and standard Python 3 functions and methods, you may also use any other library we have used in COMP90016 including `collections`, `numpy`, `pandas`, `math`, `itertools`, `seaborn` and `matplotlib`."
   ]
  },
  {
   "cell_type": "markdown",
   "metadata": {
    "deletable": false,
    "editable": false,
    "nbgrader": {
     "cell_type": "markdown",
     "checksum": "8101314e9f5923f52047b296d4b0011f",
     "grade": false,
     "grade_id": "cell-1011fc361fb89a68",
     "locked": true,
     "schema_version": 3,
     "solution": false,
     "task": false
    }
   },
   "source": [
    "## Part 1: Working with short reads"
   ]
  },
  {
   "cell_type": "markdown",
   "metadata": {
    "deletable": false,
    "editable": false,
    "nbgrader": {
     "cell_type": "markdown",
     "checksum": "e2a73028f92cebd1a469dd7b159213ae",
     "grade": false,
     "grade_id": "cell-f7aaadccf477cabd",
     "locked": true,
     "schema_version": 3,
     "solution": false,
     "task": false
    }
   },
   "source": [
    "### Setup"
   ]
  },
  {
   "cell_type": "markdown",
   "metadata": {
    "deletable": false,
    "editable": false,
    "nbgrader": {
     "cell_type": "markdown",
     "checksum": "dd63caa686d9b2b7369553ba7379d664",
     "grade": false,
     "grade_id": "cell-705f256556e1340f",
     "locked": true,
     "schema_version": 3,
     "solution": false,
     "task": false
    }
   },
   "source": [
    "We begin by importing the `skbio` library. The `skbio.io.read` function reads the *FASTQ* file, applying an offset of 33 for the phred scores for quality (quality scores are not used in this assignment). The function returns a generator object which can be used to loop through the file. We will simply convert the readset into a list of skbio.sequence.DNA objects for ease of handling.\n",
    "\n",
    "The *FASTQ* file you will be using can be downloaded from the LMS. Download the file and place it in the same directory as this notebook. **DO NOT** rename the file. "
   ]
  },
  {
   "cell_type": "code",
   "execution_count": 2,
   "metadata": {
    "collapsed": true,
    "deletable": false,
    "editable": false,
    "nbgrader": {
     "cell_type": "code",
     "checksum": "92b4b7ef7c449d2cd41f77f077ea685d",
     "grade": false,
     "grade_id": "cell-e23caa017b13db4c",
     "locked": true,
     "schema_version": 3,
     "solution": false,
     "task": false
    }
   },
   "outputs": [],
   "source": [
    "# Import the skbio library.\n",
    "import skbio"
   ]
  },
  {
   "cell_type": "code",
   "execution_count": 3,
   "metadata": {
    "collapsed": true,
    "deletable": false,
    "editable": false,
    "nbgrader": {
     "cell_type": "code",
     "checksum": "b16dbe1df6866e030da3d060bc064f04",
     "grade": false,
     "grade_id": "cell-7ed809001ffdcc77",
     "locked": true,
     "schema_version": 3,
     "solution": false,
     "task": false
    }
   },
   "outputs": [],
   "source": [
    "# Read in the FASTQ file to produce a generator object named registry.\n",
    "fname = 'comp90016_assignment_1.fastq'\n",
    "registry = skbio.io.read(fname, format = 'fastq', phred_offset = 33)"
   ]
  },
  {
   "cell_type": "code",
   "execution_count": 4,
   "metadata": {
    "collapsed": true,
    "deletable": false,
    "editable": false,
    "nbgrader": {
     "cell_type": "code",
     "checksum": "19da018e6fdad3a0194cd4ba1f985834",
     "grade": false,
     "grade_id": "cell-1c4af79abf397ea4",
     "locked": true,
     "schema_version": 3,
     "solution": false,
     "task": false
    }
   },
   "outputs": [],
   "source": [
    "# Append the reads from registry to a list named readset.\n",
    "readset = []\n",
    "for r in registry:\n",
    "    readset.append(r)"
   ]
  },
  {
   "cell_type": "markdown",
   "metadata": {
    "deletable": false,
    "editable": false,
    "nbgrader": {
     "cell_type": "markdown",
     "checksum": "1ced3b62d5a4ba11adc9e469ee43ea1e",
     "grade": false,
     "grade_id": "cell-097602685e91ae61",
     "locked": true,
     "schema_version": 3,
     "solution": false,
     "task": false
    }
   },
   "source": [
    "### Questions\n",
    "In the cells below, complete the following tasks:"
   ]
  },
  {
   "cell_type": "markdown",
   "metadata": {
    "deletable": false,
    "editable": false,
    "nbgrader": {
     "cell_type": "markdown",
     "checksum": "fccb360998cccf55f848140b43619b55",
     "grade": false,
     "grade_id": "cell-3e89438c3ae9f2fa",
     "locked": true,
     "schema_version": 3,
     "solution": false,
     "task": false
    }
   },
   "source": [
    "### Question 1.1\n",
    "\n",
    "(5 marks)\n",
    "\n",
    "Write a Python function to compute the percentage of reads that are longer than n bases. Return a floating-point number in the range 0 - 100. Assume n is a positive integer. Assume the input reads are a list of skbio.sequence.DNA or skbio.sequence.Sequence objects. If the input list is empty, return None."
   ]
  },
  {
   "cell_type": "code",
   "execution_count": 5,
   "metadata": {
    "collapsed": true,
    "deletable": false,
    "nbgrader": {
     "cell_type": "code",
     "checksum": "daee97f0662c51889406e0b82c99d491",
     "grade": false,
     "grade_id": "cell-4248b2883ed95ab8",
     "locked": false,
     "schema_version": 3,
     "solution": true,
     "task": false
    }
   },
   "outputs": [],
   "source": [
    "# GRADED CELL 1.1 (5 marks, max 1 min run-time)\n",
    "\n",
    "def percent_reads_len(reads, n):\n",
    "    \"\"\"\n",
    "    Compute the percentage of reads that are longer than n bases. \n",
    "    Assume n is a positive integer.\n",
    "    Assume the input reads are list of skbio.sequence.DNA or skbio.sequence.Sequence objects.\n",
    "    Return a floating-point number in the range 0 - 100.\n",
    "    If the input list is empty, return None.\n",
    "    \"\"\"\n",
    "    valid_reads = 0\n",
    "    if len(reads) == 0:\n",
    "        return None\n",
    "    for read in reads:\n",
    "        if len(read) > n:\n",
    "            valid_reads += 1\n",
    "    return float(valid_reads/len(reads)*100)\n",
    "    "
   ]
  },
  {
   "cell_type": "code",
   "execution_count": 6,
   "metadata": {
    "collapsed": true
   },
   "outputs": [
    {
     "name": "stdout",
     "output_type": "stream",
     "text": [
      "50.0\n",
      "97.5\n"
     ]
    }
   ],
   "source": [
    "# Test your function in this cell\n",
    "# First we will create a list of dummy reads \n",
    "# You can learn about the properties of skbio 'DNA' objects here: http://scikit-bio.org/docs/latest/generated/skbio.sequence.DNA.html#skbio.sequence.DNA\n",
    "\n",
    "demo_reads_a = [skbio.sequence.DNA('ATATA'), skbio.sequence.DNA('GCGCGCGC')]\n",
    "\n",
    "print(percent_reads_len(demo_reads_a, 5)) # should return 50.0\n",
    "\n",
    "print(percent_reads_len(readset, 65))"
   ]
  },
  {
   "cell_type": "code",
   "execution_count": 7,
   "metadata": {
    "collapsed": true,
    "deletable": false,
    "editable": false,
    "nbgrader": {
     "cell_type": "code",
     "checksum": "d8764192306a901cd6eec8aaa1026333",
     "grade": true,
     "grade_id": "cell-736db467053101e0",
     "locked": true,
     "points": 5,
     "schema_version": 3,
     "solution": false,
     "task": false
    }
   },
   "outputs": [],
   "source": [
    "# --- AUTOGRADING CELL DO NOT EDIT ----\n"
   ]
  },
  {
   "cell_type": "markdown",
   "metadata": {
    "deletable": false,
    "editable": false,
    "nbgrader": {
     "cell_type": "markdown",
     "checksum": "5847b28a54f5d527e5c98f0cedab10e0",
     "grade": false,
     "grade_id": "cell-8ae4e1d20e083a6b",
     "locked": true,
     "schema_version": 3,
     "solution": false,
     "task": false
    }
   },
   "source": [
    "### Question 1.2\n",
    "\n",
    "(10 marks)\n",
    "\n",
    "Suppose quality control metrics indicated that the bases on the 3' end of the reads were of unacceptable base quality. Write a Python function that performs the following tasks and returns the new readset as list of skbio.sequence.DNA objects or skbio.sequence.Sequence objects. Assume trim and min_length are positive integers. Assume the input reads are a list of skbio.sequence.DNA or skbio.sequence.Sequence objects. If the input list is empty, return None.\n",
    "\n",
    "- Remove any read where trim is greater than or equal to the read length.\n",
    "- Remove trim bases from the 3' end of each read.\n",
    "- Remove any read that is less than min_length bases long after trimming."
   ]
  },
  {
   "cell_type": "code",
   "execution_count": 8,
   "metadata": {
    "collapsed": true,
    "deletable": false,
    "nbgrader": {
     "cell_type": "code",
     "checksum": "9f5f669cc31abb29ef37283d1cb62f4d",
     "grade": false,
     "grade_id": "cell-f2b4638cbff9dab7",
     "locked": false,
     "schema_version": 3,
     "solution": true,
     "task": false
    }
   },
   "outputs": [],
   "source": [
    "# GRADED CELL 1.2 (10 marks, max 1 min run-time)\n",
    "\n",
    "def preprocess_reads(reads, trim, min_length):\n",
    "    \"\"\"\n",
    "    Remove any read where trim is greater than or equal to the read length.\n",
    "    Remove trim bases from the 3' end of each read.\n",
    "    Remove any read that is less than min_length bases long after trimming.\n",
    "    Assume trim and min_length are positive integers.\n",
    "    Assume the input reads are a list of skbio.sequence.DNA or skbio.sequence.Sequence objects.\n",
    "    If the input list is empty, return None.\n",
    "    Return the processed readset as a list of skbio.sequence.DNA or skbio.sequence.Sequence objects.\n",
    "    \"\"\"\n",
    "    \n",
    "    # YOUR CODE HERE\n",
    "    new_reads = []\n",
    "    for read in reads:\n",
    "        if trim >= len(read):\n",
    "            continue\n",
    "        read = read[:-trim]\n",
    "        if len(read) < min_length:\n",
    "            continue\n",
    "        new_reads.append(read)\n",
    "    return new_reads"
   ]
  },
  {
   "cell_type": "code",
   "execution_count": 9,
   "metadata": {
    "collapsed": true
   },
   "outputs": [
    {
     "name": "stdout",
     "output_type": "stream",
     "text": [
      "[DNA\n",
      "--------------------------\n",
      "Stats:\n",
      "    length: 6\n",
      "    has gaps: False\n",
      "    has degenerates: False\n",
      "    has definites: True\n",
      "    GC-content: 33.33%\n",
      "--------------------------\n",
      "0 GAAATC]\n"
     ]
    },
    {
     "data": {
      "text/plain": [
       "'First preprocessed read sequence: GAAATC'"
      ]
     },
     "execution_count": 9,
     "metadata": {},
     "output_type": "execute_result"
    }
   ],
   "source": [
    "# Test your function in this cell\n",
    "\n",
    "# Create some demo reads of varying lengths\n",
    "demo_reads_b = [skbio.sequence.DNA('AA'), skbio.sequence.DNA('GAAATCGG'), skbio.sequence.DNA('TTATTT')]\n",
    "\n",
    "# Test your function\n",
    "# Should give only one sequence, 'GAAATC' as an skbio.sequence.DNA object, in a list.\n",
    "print(preprocess_reads(demo_reads_b, 2, 5))\n",
    "# Or we can print just the sequence of the first (and in this case only) returned seq object.\n",
    "\"First preprocessed read sequence: {seq}\".format(seq = preprocess_reads(demo_reads_b, 2, 5)[0])\n",
    "\n"
   ]
  },
  {
   "cell_type": "code",
   "execution_count": 10,
   "metadata": {
    "collapsed": true
   },
   "outputs": [
    {
     "name": "stdout",
     "output_type": "stream",
     "text": [
      "CACCACAGCCCGTTGGCCAACAGGTCAGCAAACTGTTTCAGAATACAGTATGCCAACGCTG\n"
     ]
    }
   ],
   "source": [
    "# Now let's test our function on the full readset. \n",
    "# We will use index \"[0]\" to print only the first read in the list\n",
    "print(preprocess_reads(readset, 15, 50)[0])"
   ]
  },
  {
   "cell_type": "code",
   "execution_count": 11,
   "metadata": {
    "collapsed": true,
    "deletable": false,
    "editable": false,
    "nbgrader": {
     "cell_type": "code",
     "checksum": "545f10387dec3f01fc6c6628c945ef46",
     "grade": true,
     "grade_id": "cell-294dac47bd3589cc",
     "locked": true,
     "points": 10,
     "schema_version": 3,
     "solution": false,
     "task": false
    }
   },
   "outputs": [],
   "source": [
    "# --- AUTOGRADING CELL DO NOT EDIT ----\n"
   ]
  },
  {
   "cell_type": "markdown",
   "metadata": {
    "deletable": false,
    "editable": false,
    "nbgrader": {
     "cell_type": "markdown",
     "checksum": "f9fcdc8cedcbfffcda257a1eef6709f1",
     "grade": false,
     "grade_id": "cell-9d4ea2777c8c2599",
     "locked": true,
     "points": 5,
     "schema_version": 3,
     "solution": false,
     "task": true
    }
   },
   "source": [
    "### Question 1.3 \n",
    "\n",
    "(5 marks, max 50 words)\n",
    "\n",
    "Suppose these reads were to be aligned to a reference genome. Explain why removing very short reads would be useful.\n",
    "\n"
   ]
  },
  {
   "cell_type": "markdown",
   "metadata": {},
   "source": [
    "#### -- GRADED CELL (5 marks) - complete this cell -- \n",
    "It is difficult to identify the correct position of very short reads. For example, a short read (after accounting for mismatches) would be common in the reference genome and would thus not be informative. It is better to remove these short reads in order to have a more accurate final sequence because it saves time and gives a cleaner data set. "
   ]
  },
  {
   "cell_type": "markdown",
   "metadata": {
    "deletable": false,
    "editable": false,
    "nbgrader": {
     "cell_type": "markdown",
     "checksum": "93aa24827c645e785809082b6cf4cbd9",
     "grade": false,
     "grade_id": "cell-0fa2b4741b72c519",
     "locked": true,
     "points": 10,
     "schema_version": 3,
     "solution": false,
     "task": true
    }
   },
   "source": [
    "### Question 1.4\n",
    "\n",
    "(10 marks)\n",
    "\n",
    "Write Python code to produce two histograms showing the distribution of read lengths in... \n",
    "- the original comp90016_assignment_1_2021.fastq readset.\n",
    "- the output readset of your preprocess_reads function in part 1.2 using the following parameters: reads = readset, trim = 15 and min_length = 50.\n",
    "\n",
    "You may show both distributions on the same set of axes, or two completely separate histograms. The plots should be produced inline, in the Jupyter notebook. Choose and appropriate bin-width. Label your axes appropriately (include units). Use labels to make it clear which distribution has been pre-processed.\n",
    "\n",
    "You may use the readset list of skbio.sequence.DNA objects as input. Your code does not have to include a function."
   ]
  },
  {
   "cell_type": "code",
   "execution_count": 12,
   "metadata": {
    "collapsed": true
   },
   "outputs": [],
   "source": [
    "# Here's some jupyter magic to render plots in the notebook\n",
    "%matplotlib inline\n",
    "\n",
    "# You may want to import some additional packages for building and formatting your graphs (non-essential)\n",
    "# Un-comment as reqired\n",
    "#import numpy as np\n",
    "#import matplotlib.pyplot as plt\n",
    "#import seaborn # Makes graphs pretty.\n",
    "#from collections import Counter\n",
    "\n",
    "# Here's the data\n",
    "# Raw reads\n",
    "readset\n",
    "# Preprocessed reads\n",
    "filtered = preprocess_reads(readset, 15, 50)"
   ]
  },
  {
   "cell_type": "code",
   "execution_count": 13,
   "metadata": {
    "collapsed": true,
    "deletable": false,
    "nbgrader": {
     "cell_type": "code",
     "checksum": "852f62c6c10f96e8837f7293141c002c",
     "grade": false,
     "grade_id": "cell-4b9b535780804c97",
     "locked": false,
     "schema_version": 3,
     "solution": true,
     "task": false
    }
   },
   "outputs": [
    {
     "data": {
      "image/png": "[encoded data removed]",
      "text/plain": [
       "<Figure size 432x288 with 1 Axes>"
      ]
     },
     "metadata": {
      "needs_background": "light"
     },
     "output_type": "display_data"
    },
    {
     "data": {
      "image/png": "[encoded data removed]",
      "text/plain": [
       "<Figure size 432x288 with 1 Axes>"
      ]
     },
     "metadata": {
      "needs_background": "light"
     },
     "output_type": "display_data"
    }
   ],
   "source": [
    "# GRADED CELL 1.4 (10 marks, max 1 min run-time)\n",
    "\n",
    "# Use this cell to make your histograms.\n",
    "# YOUR CODE HERE\n",
    "\n",
    "import matplotlib.pyplot as plt\n",
    "\n",
    "# get the read lengths\n",
    "def read_lengths(readset):\n",
    "    # set up dictionary of read lengths\n",
    "    \n",
    "    read_lengths = sorted([len(read) for read in readset])\n",
    "    return read_lengths\n",
    "\n",
    "# define the read intervals\n",
    "# make histogram for Raw reads\n",
    "raw_reads = read_lengths(readset)\n",
    "plt.hist(raw_reads)\n",
    "plt.xlabel(\"Read Lengths [bp]\")\n",
    "plt.ylabel(\"Frequency\")\n",
    "plt.title(\"Raw Reads\")\n",
    "plt.show()\n",
    "\n",
    "#make histogram for preprocessed reads\n",
    "preprocessed = read_lengths(filtered)\n",
    "plt.hist(preprocessed)\n",
    "plt.xlabel(\"Read Lengths [bp]\")\n",
    "plt.ylabel(\"Frequency\")\n",
    "plt.title('Filtered Reads')\n",
    "plt.show()"
   ]
  },
  {
   "cell_type": "markdown",
   "metadata": {
    "deletable": false,
    "editable": false,
    "nbgrader": {
     "cell_type": "markdown",
     "checksum": "b2d651b2eefb14ce57226faf252a61db",
     "grade": false,
     "grade_id": "cell-a138bfcc86a2947b",
     "locked": true,
     "points": 5,
     "schema_version": 3,
     "solution": false,
     "task": true
    }
   },
   "source": [
    "### Question 1.5 \n",
    "\n",
    "(5 marks, max 50 words)\n",
    "\n",
    "Comment on the effect of the preprocess_reads function on the distribution of read lengths as shown in the histograms from 1.4.\n",
    "\n"
   ]
  },
  {
   "cell_type": "markdown",
   "metadata": {},
   "source": [
    "#### -- GRADED CELL (5 marks) - complete this cell -- \n",
    "\n",
    "The preprocess_reads function lowers the general distribution by the amount of trim applied to the reads (in this case 15). It also removes any reads that are less than the minimum length after trimming (in this case 50). Thus very short reads after trimming are not shown in the distribution."
   ]
  },
  {
   "cell_type": "markdown",
   "metadata": {
    "deletable": false,
    "editable": false,
    "nbgrader": {
     "cell_type": "markdown",
     "checksum": "39741a08f779239260b755b44c4b9a95",
     "grade": false,
     "grade_id": "cell-17188101c3556463",
     "locked": true,
     "schema_version": 3,
     "solution": false,
     "task": false
    }
   },
   "source": [
    "## Part 2: Sequence motifs\n",
    "Sequence motifs are short, recurring patterns in nucleic-acid sequences. Many are involved in important biological functions."
   ]
  },
  {
   "cell_type": "markdown",
   "metadata": {
    "deletable": false,
    "editable": false,
    "nbgrader": {
     "cell_type": "markdown",
     "checksum": "d2eee8341ca1f84868b2e3a0e9ff5d1a",
     "grade": false,
     "grade_id": "cell-a007168309140f9b",
     "locked": true,
     "schema_version": 3,
     "solution": false,
     "task": false
    }
   },
   "source": [
    "### Setup"
   ]
  },
  {
   "cell_type": "code",
   "execution_count": 14,
   "metadata": {
    "collapsed": true,
    "deletable": false,
    "editable": false,
    "nbgrader": {
     "cell_type": "code",
     "checksum": "cabdc458d4b3809fe9c2d85fcbed45d3",
     "grade": false,
     "grade_id": "cell-6bd0cb700c0c2719",
     "locked": true,
     "schema_version": 3,
     "solution": false,
     "task": false
    }
   },
   "outputs": [],
   "source": [
    "# Set up two DNA sequences to test your code on. Do not change these sequences.\n",
    "linear_seq = skbio.sequence.DNA('TTACAGTGATTATGAAAACTTTGCGGGGCATGGCTACGACTTGTTCAGCCACGTCCGAGGGCAGAAACCTCGAGGGGTTTGTATGTTCAGCTATCTTCTACCCATCCCCGGAGGTTAAGTACGAGGGGAGATGCGGAAGAGGCTCTCGATCATCCCGTGGGACATCAACCTTTCCCTTGATAAAGCACCCCGCTCGGGTA')\n",
    "circular_seq = skbio.sequence.DNA('TGGCAGAGAGAACGCCTTCTGAATTGTGCTATCCTTCGACCTTATCAAAGCTTGCTACCAATAATTAGGATTATTGCCTTGCGACAGACCTCCTACTCACACTGCCTCACATTGAGCTAGTCAGTGAGCGATTAGCTTGACCCGCTCTCTAGGGTCGCGAGTACGTGAGCTAGGGCTCCGGACTGGGCTATATAGTCGAG')\n",
    "\n",
    "\n",
    "# Set up a dictionary of sequence motifs. Do not change this dictionary.\n",
    "motif_dict = {'motif_a': skbio.sequence.DNA('TACAGTG'), 'motif_b': skbio.sequence.DNA('AGCTTGCT'), 'motif_c': skbio.sequence.DNA('ATATATAC'), 'motif_d': skbio.sequence.DNA('CGAGGGG'), 'motif_e': skbio.sequence.DNA('CGAGTG')}"
   ]
  },
  {
   "cell_type": "markdown",
   "metadata": {
    "deletable": false,
    "editable": false,
    "nbgrader": {
     "cell_type": "markdown",
     "checksum": "e703d4870acdd746ecd663acad6efb7b",
     "grade": false,
     "grade_id": "cell-99ef11aef8b24525",
     "locked": true,
     "schema_version": 3,
     "solution": false,
     "task": false
    }
   },
   "source": [
    "### Questions"
   ]
  },
  {
   "cell_type": "markdown",
   "metadata": {
    "deletable": false,
    "editable": false,
    "nbgrader": {
     "cell_type": "markdown",
     "checksum": "33c189a73b3749299c95ac8411797f1a",
     "grade": false,
     "grade_id": "cell-df128fe796c39fc1",
     "locked": true,
     "schema_version": 3,
     "solution": false,
     "task": false
    }
   },
   "source": [
    "### Question 2.1\n",
    "\n",
    "(10 marks)\n",
    "\n",
    "Write a Python function to count the number of times sequence motifs are present in a DNA sequence. \n",
    "\n",
    "Assume motifs is a dictionary with motif names as strings for keys and skbio.sequence.DNA objects for values. Assume seq is an skbio.sequence.DNA object. \n",
    "\n",
    "Return a pandas DataFrame with each motif represented as a row. The first column should contain motif names as strings, the second column should contain integer counts of exact matches. Overlapping motifs should be considered. The column names should be “Motif” and “Counts”. If either seq or motifs are empty, return None."
   ]
  },
  {
   "cell_type": "code",
   "execution_count": 15,
   "metadata": {
    "collapsed": true,
    "deletable": false,
    "nbgrader": {
     "cell_type": "code",
     "checksum": "a106e830570b52d398925d8d506e4925",
     "grade": false,
     "grade_id": "cell-9b737a613450ad91",
     "locked": false,
     "schema_version": 3,
     "solution": true,
     "task": false
    }
   },
   "outputs": [],
   "source": [
    "# GRADED CELL Question 2.1 (10 marks, max 10 min run-time)\n",
    "\n",
    "import pandas as pd\n",
    "test_seq = skbio.sequence.DNA('GTTAAAAGGATTCATGAAAGA')\n",
    "test_motifs = {'motif_a': skbio.sequence.DNA('GTTA'), 'motif_b': skbio.sequence.DNA('AAAA')}\n",
    "\n",
    "def motif_count(seq, motifs):\n",
    "    \"\"\"\n",
    "    Count the number of times sequence motifs are present in a DNA sequence. \n",
    "    Overlapping motifs should be considered\n",
    "    Assume motifs is a dictionary with motif names as strings for keys and skbio.sequence.DNA objects for values. \n",
    "    Assume seq is an skbio.sequence.DNA object. \n",
    "    Return a pandas DataFrame with each motif represented as a row. \n",
    "    The first column should contain motif names as strings, the second column should contain integer counts of exact matches. \n",
    "    The column names should be “Motif” and “Counts”, in that order. \n",
    "    If either seq or motifs are empty, return None.\n",
    "    \"\"\"\n",
    "    \n",
    "   # YOUR CODE HERE\n",
    "   # count no of sequence occurences\n",
    "    \n",
    "    #check if seq or motifs are empty\n",
    "    if bool(seq) == False or bool(motifs) == False:\n",
    "        return None\n",
    "    \n",
    "    #determine sequence occurrences and record results\n",
    "    output_dict = {}\n",
    "    for i in motifs.keys():\n",
    "        output_dict[i] = seq.count(motifs[i])\n",
    "        \n",
    "    #convert results to dataframe  \n",
    "    df = pd.DataFrame(output_dict.items(), columns=['Motif', 'Counts'])\n",
    "    return df\n",
    "        "
   ]
  },
  {
   "cell_type": "code",
   "execution_count": 16,
   "metadata": {
    "collapsed": true
   },
   "outputs": [
    {
     "name": "stdout",
     "output_type": "stream",
     "text": [
      "     Motif  Counts\n",
      "0  motif_a       1\n",
      "1  motif_b       0\n",
      "     Motif  Counts\n",
      "0  motif_a       1\n",
      "1  motif_b       0\n",
      "2  motif_c       0\n",
      "3  motif_d       2\n",
      "4  motif_e       0\n",
      "     Motif  Counts\n",
      "0  motif_a       1\n",
      "1  motif_b       1\n"
     ]
    }
   ],
   "source": [
    "# ~~ Test your function in this cell ~~\n",
    "demo_seq = skbio.sequence.DNA('GTTGGATTCATGAAAGA')\n",
    "demo_motifs = {'motif_a': skbio.sequence.DNA('GTTG'), 'motif_b': skbio.sequence.DNA('AAAA')}\n",
    "\n",
    "print(motif_count(demo_seq, demo_motifs)) # should output a pandas dataframe with 2 rows and 2 columns. Row 1: motif_a, 1. Row 2: motif_b, 0\n",
    "\n",
    "print(motif_count(linear_seq, motif_dict))\n",
    "\n",
    "print(motif_count(test_seq, test_motifs))\n"
   ]
  },
  {
   "cell_type": "code",
   "execution_count": 17,
   "metadata": {
    "collapsed": true,
    "deletable": false,
    "editable": false,
    "nbgrader": {
     "cell_type": "code",
     "checksum": "e80a6d84bd7bf980cb0fc83fff28a783",
     "grade": true,
     "grade_id": "cell-591e628910c36354",
     "locked": true,
     "points": 10,
     "schema_version": 3,
     "solution": false,
     "task": false
    }
   },
   "outputs": [],
   "source": [
    "# --- AUTOGRADING CELL DO NOT EDIT ----\n"
   ]
  },
  {
   "cell_type": "markdown",
   "metadata": {
    "deletable": false,
    "editable": false,
    "nbgrader": {
     "cell_type": "markdown",
     "checksum": "1c19b0b5661c5b01a6021f424192b057",
     "grade": false,
     "grade_id": "cell-a287cd3ad8409271",
     "locked": true,
     "schema_version": 3,
     "solution": false,
     "task": false
    }
   },
   "source": [
    "### Question 2.2\n",
    "\n",
    "(15 marks)\n",
    "\n",
    "A colleague is working on sequence motifs in circular DNA molecules. Circular DNA molecules can also be stored in FASTQ files and skbio.sequence.DNA objects but care has to be taken when programming so that the final base is treated as though it is adjacent to the first base. You decide to help your colleague by enhancing your function from 2.1\n",
    "\n",
    "Write a Python function to count the number of times sequence motifs are present in a circular DNA sequence. \n",
    "\n",
    "The function should count the number of exact matches and the number of near misses. A near miss is defined as a sequence that is the same length a sequence motif but has a single base mismatch. Assume motifs is a dictionary with motif names as strings for keys and skbio.sequence.DNA objects for values. Assume seq_circular is an skbio.sequence.DNA object. \n",
    "\n",
    "Return a pandas DataFrame with each motif represented as a row. The first column should contain motif names as strings, the second column should contain integer counts of exact matches, the third column should contain integer counts of near misses. The column names should be “Motif”, “Match_counts” and \"Near_miss_counts\". If either seq_circular or motifs are empty, return None."
   ]
  },
  {
   "cell_type": "code",
   "execution_count": 18,
   "metadata": {
    "collapsed": true,
    "deletable": false,
    "editable": false,
    "nbgrader": {
     "cell_type": "code",
     "checksum": "f321ec62e0dc9a1545961cec3e6d27d2",
     "grade": false,
     "grade_id": "cell-747c91482faa7c41",
     "locked": true,
     "schema_version": 3,
     "solution": false,
     "task": false
    }
   },
   "outputs": [],
   "source": [
    "## Import additional library\n",
    "from collections import Counter \n",
    "\n",
    "## Helper function\n",
    "## Use this to identify near miss instances of a reference motif i.e. containing a single base mismatch\n",
    "def hamming_dist(s1, s2):\n",
    "    \"\"\"\n",
    "    A helper function to calculate the hamming distance between two sequences.\n",
    "    Assume the input sequences are strings.\n",
    "    They should be of equal length in order to calculate hamming distance\n",
    "    \"\"\"\n",
    "    assert len(s1) == len(s2)\n",
    "    return sum(c1 != c2 for c1, c2 in zip(s1, s2))"
   ]
  },
  {
   "cell_type": "code",
   "execution_count": 19,
   "metadata": {
    "collapsed": true,
    "deletable": false,
    "nbgrader": {
     "cell_type": "code",
     "checksum": "d924ae6bd6b55e491ed0c143f5d44613",
     "grade": false,
     "grade_id": "cell-91e55613a9985a7a",
     "locked": false,
     "schema_version": 3,
     "solution": true,
     "task": false
    }
   },
   "outputs": [],
   "source": [
    "# GRADED CELL Question 2.2 (15 marks, max 1 min run-time)\n",
    "\n",
    "def motif_count_circular(seq, motifs):\n",
    "    \"\"\"\n",
    "    Count the number of times sequence motifs are present in a circular DNA sequence. \n",
    "    Counts the number of exact matches and the number of near misses. \n",
    "    A near miss is defined as a sequence that is the same length a sequence motif but has a single base mismatch. \n",
    "    Assume motifs is a dictionary with motif names as strings for keys and skbio.sequence.DNA objects for values. \n",
    "    Assume seq_circular is an skbio.sequence.DNA object. \n",
    "    Return a pandas DataFrame with each motif represented as a row. \n",
    "    The first column should contain motif names as strings, the second column should contain integer counts of exact matches, the third column should contain integer counts of near misses.\n",
    "    The column names should be “Motif”, “Match_counts” and \"Near_miss_counts\".\n",
    "    If either seq_circular or motifs are empty, return None.\n",
    "    \"\"\"\n",
    "   \n",
    "    # YOUR CODE HERE\n",
    "    # returns None if seq or motifs are empty\n",
    "    if bool(seq) == False or bool(motifs) == False:\n",
    "        return None\n",
    "    \n",
    "    output = []\n",
    "    for i in motifs.keys():\n",
    "        mismatches = 0\n",
    "        new_list = [i]\n",
    "        \n",
    "        \n",
    "        # circularize sequence\n",
    "        add_len = len(motifs[i])\n",
    "        new_seq = str(seq) + str(seq[:len(motifs[i])-1])\n",
    "        \n",
    "        # record exact matches\n",
    "        new_list.append(new_seq.count(str(motifs[i])))\n",
    "        \n",
    "        #calculate mismatches\n",
    "        for x in range(0,len(new_seq)):\n",
    "            read = new_seq[x:x+add_len] \n",
    "            #print(\"read\",read)\n",
    "            try:\n",
    "                if hamming_dist(read, str(motifs[i])) == 1:\n",
    "                    mismatches += 1\n",
    "            except:\n",
    "                pass\n",
    "               \n",
    "        #add mismatches to output list\n",
    "        new_list.append(mismatches)\n",
    "        output.append(new_list)\n",
    "        \n",
    "    # convert to pandas dataframe\n",
    "    df = pd.DataFrame(output, columns=['Motif', 'Match_counts', \"Near_miss_counts\"])\n",
    "    return df\n",
    "        \n",
    "\n",
    "    \n",
    "    # for each motif, change the sequence that you're searching in to account for len(motif) -1  appended at the end of the sequence\n",
    "    \n"
   ]
  },
  {
   "cell_type": "code",
   "execution_count": 20,
   "metadata": {
    "collapsed": true
   },
   "outputs": [
    {
     "name": "stdout",
     "output_type": "stream",
     "text": [
      "     Motif  Match_counts  Near_miss_counts\n",
      "0  motif_a             1                 0\n",
      "1  motif_b             0                 3\n",
      "     Motif  Match_counts  Near_miss_counts\n",
      "0  motif_a             0                 0\n",
      "1  motif_b             1                 0\n",
      "2  motif_c             0                 0\n",
      "3  motif_d             0                 1\n",
      "4  motif_e             1                 1\n"
     ]
    }
   ],
   "source": [
    "# Test your function in this cell\n",
    "print(motif_count_circular(demo_seq, demo_motifs)) # should output a pandas dataframe with 2 rows and 3 columns. Row 1: motif_a, 1, 0. Row 2: motif_b, 0, 3\n",
    "\n",
    "print(motif_count_circular(circular_seq, motif_dict))\n"
   ]
  },
  {
   "cell_type": "code",
   "execution_count": 21,
   "metadata": {
    "collapsed": true,
    "deletable": false,
    "editable": false,
    "nbgrader": {
     "cell_type": "code",
     "checksum": "41edc190d95033b22d80c5c5230407ca",
     "grade": true,
     "grade_id": "cell-c25b3416993c9db5",
     "locked": true,
     "points": 15,
     "schema_version": 3,
     "solution": false,
     "task": false
    }
   },
   "outputs": [],
   "source": [
    "# --- AUTOGRADING CELL DO NOT EDIT ----\n"
   ]
  },
  {
   "cell_type": "markdown",
   "metadata": {
    "deletable": false,
    "editable": false,
    "nbgrader": {
     "cell_type": "markdown",
     "checksum": "d9d44daf455390472220f46a20a32ab1",
     "grade": false,
     "grade_id": "cell-5c75e45702cbd27d",
     "locked": true,
     "points": 10,
     "schema_version": 3,
     "solution": false,
     "task": true
    }
   },
   "source": [
    "### Question 2.3 \n",
    "\n",
    "(10 marks, max 100 words)\n",
    "\n",
    "Your colleague plans on running some of their analyses using the Spartan high-performace computing system. They ask your advice on requesting job resources. \n",
    "- Describe the potential effect of requesting insufficient memory for a job.\n",
    "- Describe the potential effect of requesting much more memory than is required for a job.\n",
    "\n"
   ]
  },
  {
   "cell_type": "markdown",
   "metadata": {},
   "source": [
    "#### -- GRADED CELL (10 marks) - complete this cell -- \n",
    "If insufficient memory is requested, the analysis will not be complete within the allotted time provided to the team. On the Spartan HPC system, if the job is not completed within the allotted time, the system will simply cancel it. As a result, the analysis will have to run all over again and the intitial resources will have been wasted.\n",
    "\n",
    "If much more memory than required is requested, it might sit in the queue for a long time or you will use more resources than is necessary which could cause problems with your colleauges and administrative staff. "
   ]
  },
  {
   "cell_type": "markdown",
   "metadata": {
    "deletable": false,
    "editable": false,
    "nbgrader": {
     "cell_type": "markdown",
     "checksum": "84a7cd6587a358f327dc1fbaf529e85f",
     "grade": false,
     "grade_id": "cell-1543aef1d5fb074b",
     "locked": true,
     "schema_version": 3,
     "solution": false,
     "task": false
    }
   },
   "source": [
    "## Part 3: DNA sequencing technologies"
   ]
  },
  {
   "cell_type": "markdown",
   "metadata": {
    "deletable": false,
    "editable": false,
    "nbgrader": {
     "cell_type": "markdown",
     "checksum": "2339ba028c7ba28addbd96fd8d12ca91",
     "grade": false,
     "grade_id": "cell-67c6f5bd80774f35",
     "locked": true,
     "schema_version": 3,
     "solution": false,
     "task": false
    }
   },
   "source": [
    "### Setup\n",
    "Imagine that you are a member of a research team. For each of the following three scenarios, describe which sequencing technology you would recommend and why. Please choose a single technology, rather than a hybrid approach."
   ]
  },
  {
   "cell_type": "markdown",
   "metadata": {
    "deletable": false,
    "editable": false,
    "nbgrader": {
     "cell_type": "markdown",
     "checksum": "e6fed4b45d625ce44c23d59a7b4e31aa",
     "grade": false,
     "grade_id": "cell-6f6f64dde5a9d607",
     "locked": true,
     "schema_version": 3,
     "solution": false,
     "task": false
    }
   },
   "source": [
    "### Questions"
   ]
  },
  {
   "cell_type": "markdown",
   "metadata": {
    "deletable": false,
    "editable": false,
    "nbgrader": {
     "cell_type": "markdown",
     "checksum": "4c450466229ebfe6ee3b3dad37f1ca13",
     "grade": false,
     "grade_id": "cell-ebd96fe0ee1abc01",
     "locked": true,
     "points": 5,
     "schema_version": 3,
     "solution": false,
     "task": true
    }
   },
   "source": [
    "### Question 3.1 \n",
    "(5 marks, max 50 words)\n",
    "\n",
    "\n",
    "A team-member hypothesises that a population of zebrafish with a pigmentation anomaly have a DNA mutation in a specific splice site in a known transcription factor gene. They wish to determine the sequence of DNA in the region of interest. The research group is well funded and based in a major metropolitan area.\n",
    "\n"
   ]
  },
  {
   "cell_type": "markdown",
   "metadata": {},
   "source": [
    "#### -- GRADED CELL (5 marks) - complete this cell -- \n",
    "Sanger Sequencing would be an appropriate choice as it provides a high level of accuracy but low throughput. So, for a known specific site, it is a good tool as it reduces the chance of errors and the low throughput is not an issue. Given that the team is well funded and based in a metropolitan area, access to sanger sequencing equipment will not be an issue. Amplicon would be the best strategy here as it's best for targeting specific regions. "
   ]
  },
  {
   "cell_type": "markdown",
   "metadata": {
    "deletable": false,
    "editable": false,
    "nbgrader": {
     "cell_type": "markdown",
     "checksum": "e998130b4e690925106e657da8cd81f8",
     "grade": false,
     "grade_id": "cell-626c5f62dca73ae1",
     "locked": true,
     "points": 5,
     "schema_version": 3,
     "solution": false,
     "task": true
    }
   },
   "source": [
    "### Question 3.2 \n",
    "(5 marks, max 50 words)\n",
    "\n",
    "\n",
    "Two different strains of a disease-causing DNA virus have been isolated on a poultry farm. Both strains infect chickens, but one strain appears to cause more severe symptoms. A team-member suggests sequencing the whole genome of both strains and comparing the sequences to identify single-base differences (genetic variants) between the two strains. It is very important that the sequencing is accurate so that the differences are likely to be genuine and not errors.\n",
    "\n"
   ]
  },
  {
   "cell_type": "markdown",
   "metadata": {},
   "source": [
    "#### -- GRADED CELL (5 marks) - complete this cell -- \n",
    "As accuracy is most important, a short read technology would be best (Illumina or BGI) as these are very high accuracy technologies. Whole Genome Sequencing would be required for both of the strains and then comparison can be made. "
   ]
  },
  {
   "cell_type": "markdown",
   "metadata": {
    "deletable": false,
    "editable": false,
    "nbgrader": {
     "cell_type": "markdown",
     "checksum": "94178730c06bc703904daec5ecde4629",
     "grade": false,
     "grade_id": "cell-f2ada7b8aacfc40f",
     "locked": true,
     "points": 5,
     "schema_version": 3,
     "solution": false,
     "task": true
    }
   },
   "source": [
    "### Question 3.3 \n",
    "(5 marks, max 50 words)\n",
    "\n",
    "\n",
    "A remote community has experienced an outbreak of a communicable disease caused by a bacterial pathogen. The disease can be treated, but the treatment options depend on the strain of the bacterium. The only way to distinguish between the different strains is through DNA sequencing. It's important to identify the strain quickly so that the appropriate treatment can be ordered. The community has no existing lab equipment and they require your team to travel to the location to perform the analysis.\n",
    "\n"
   ]
  },
  {
   "cell_type": "markdown",
   "metadata": {},
   "source": [
    "#### -- GRADED CELL (5 marks) - complete this cell --\n",
    "Nanopore is ideal due to speed, accessibility and function. Nanopore allows for rapid sequencing and thus is ideal for the quick identification of the disease. Nanopore sequencers are easily portable and can be used anywhere, so they are the best option for the resource limited community. As Nanopore sequencers are DNA sequencers, they are perfectly capable of identifying the strains. "
   ]
  },
  {
   "cell_type": "markdown",
   "metadata": {
    "deletable": false,
    "editable": false,
    "nbgrader": {
     "cell_type": "markdown",
     "checksum": "84ade35fb0044b2d2c189f2bc0bd28c0",
     "grade": false,
     "grade_id": "cell-61caf9b833c3e814",
     "locked": true,
     "points": 15,
     "schema_version": 3,
     "solution": false,
     "task": true
    }
   },
   "source": [
    "### Question 3.4 \n",
    "(15 marks, max 150 words)\n",
    "\n",
    "\n",
    "Your research team uses a variety of file formats to store and share sequence data.\n",
    "Describe the differences between FASTA, FASTQ and GenBank file formats. Describe an example use-case for each of these three file formats that is related to any of the three scenarios above. You don't need to use the same scenario for all three file types.\n",
    "\n"
   ]
  },
  {
   "cell_type": "markdown",
   "metadata": {},
   "source": [
    "#### -- GRADED CELL (15 marks) - complete this cell -- \n",
    "\n",
    "The FASTA file type is a very simple filetype consisting of a single header and the nucelotide sequence. FASTA files are very easy to work with programatically and can be used for any length of sequence. FASTA file types could be used in the zebrafish scenario as this case would benefit from the data being easily manipulable. Additionally, we are only working with a specifc region of interest, so the lack of in dpeth metadata would not be a serious issue. \n",
    "\n",
    "\n",
    "FASTQ file types are what are received from short read sequencers like the Illumina. They consist of a number of short read sequences compiled into readsets. The metadat attached to each read allows for quality control and the removal of low quality reads. FASTQ files would be used in the poultry disease causing DNA scenario as this requiresn short read sequencing. \n",
    "\n",
    "GenBank files  can hold a lot of additonal information about a genome. They hold the entire sequence as well as the sequences of all the individual proteins. GenBank files provide large amounts of useful metadata about a genome. This file format would be useful in the case of the disease outbreak in the remote community. The extra information provided in the GenBank files may assist in the rapid identification of cases of the disease. "
   ]
  }
 ],
 "metadata": {
  "kernelspec": {
   "display_name": "Python 3 (ipykernel)",
   "language": "python",
   "name": "python3"
  },
  "language_info": {
   "codemirror_mode": {
    "name": "ipython",
    "version": 3
   },
   "file_extension": ".py",
   "mimetype": "text/x-python",
   "name": "python",
   "nbconvert_exporter": "python",
   "pygments_lexer": "ipython3",
   "version": "3.9.7"
  }
 },
 "nbformat": 4,
 "nbformat_minor": 4
}
