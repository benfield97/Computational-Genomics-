{
 "cells": [
  {
   "cell_type": "markdown",
   "metadata": {
    "deletable": false,
    "editable": false,
    "nbgrader": {
     "cell_type": "markdown",
     "checksum": "50f54142cb43df18f75ce0fefd2051dc",
     "grade": false,
     "grade_id": "cell-945c701acf87112b",
     "locked": true,
     "schema_version": 3,
     "solution": false,
     "task": false
    }
   },
   "source": [
    "# COMP90016 - Assignment 3\n",
    "Version 1. Last edited 4/5/2022.\n"
   ]
  },
  {
   "cell_type": "markdown",
   "metadata": {
    "deletable": false,
    "editable": false,
    "nbgrader": {
     "cell_type": "markdown",
     "checksum": "ad9cef085300b68975ae01e731c7b5ba",
     "grade": false,
     "grade_id": "cell-74b544a996fad338",
     "locked": true,
     "schema_version": 3,
     "solution": false,
     "task": false
    }
   },
   "source": [
    "## Semester 1, 2022"
   ]
  },
  {
   "cell_type": "markdown",
   "metadata": {
    "deletable": false,
    "editable": false,
    "nbgrader": {
     "cell_type": "markdown",
     "checksum": "427b2f3302a3dceb4d0fc1fd8ab5ee7d",
     "grade": false,
     "grade_id": "cell-925c75bea7b7a1ac",
     "locked": true,
     "schema_version": 3,
     "solution": false,
     "task": false
    }
   },
   "source": [
    "\n",
    "This assignment should be completed by each student individually. Make sure you read this entire document, and ask for help if anything is not clear. Any changes or clarifications to this document will be announced via the LMS.\n",
    "\n",
    "Please make sure you review the University's rules on academic honesty and plagiarism: https://academichonesty.unimelb.edu.au/\n",
    "\n",
    "Do not copy any code from other students or from the internet. This is considered plagiarism.\n",
    "\n",
    "Your completed notebook file containing all your answers will be turned in via LMS. Please also submit an HTML file.\n",
    "\n",
    "To complete the assignment, finish the tasks in this notebook.\n",
    "\n",
    "The tasks are a combination of writing your own code and answering related short-answer questions.\n",
    "\n",
    "In some cases, we have provided test input and test output that you can use to try out your solutions. These tests are just samples and are **not** exhaustive - they may warn you if you've made a mistake, but they are not guaranteed to. It's up to you to decide whether your code is correct.\n",
    "\n",
    "**Remember to save your work early and often.**"
   ]
  },
  {
   "cell_type": "markdown",
   "metadata": {
    "deletable": false,
    "editable": false,
    "nbgrader": {
     "cell_type": "markdown",
     "checksum": "1e542cbd4b6f4eda7490ea58c0e5843d",
     "grade": false,
     "grade_id": "cell-d8196ad77ddd5f64",
     "locked": true,
     "schema_version": 3,
     "solution": false,
     "task": false
    }
   },
   "source": [
    "## Marking\n",
    "\n",
    "Cells that must be completed to receive marks are clearly labelled. Some cells are code cells, in which you must complete the code to solve a problem. Others are markdown cells, in which you must write your answers to short-answer questions. \n",
    "\n",
    "Cells that must be completed to receive marks are labelled like this:\n",
    "\n",
    "`# -- GRADED CELL (1 mark) - complete this cell --`\n",
    "\n",
    "### Completing code cells\n",
    "\n",
    "- You will see the following text in graded code cells:\n",
    "\n",
    "``` python\n",
    "# YOUR CODE HERE\n",
    "raise NotImplementedError()\n",
    "```\n",
    "\n",
    "- ***You must remove the `raise NotImplementedError()` line from the cell, and replace it with your solution.***\n",
    "\n",
    "\n",
    "- Only add answers to graded cells. If you want to import a library or use a helper function, this must be included in a graded cell.\n",
    "\n",
    "\n",
    "- Run-time limits will be imposed for each coding question. The run-time of a code cell can be calculated by including `%time` at the top of your cell. Cells exceeding the run-time limit **will not be marked**. The run-time limits only apply to test cases that are included in this document.\n",
    "\n",
    "\n",
    "### Editing the notebook\n",
    "\n",
    "**Only** graded cells will be marked.\n",
    "- Don't enter solutions outside of graded cells\n",
    "- Do **NOT** duplicate or remove cells from the notebook\n",
    "- You may add new cells to test code, new cells will not be graded.\n",
    "- Word limits, where stated, will be strictly enforced. Answers exceeding the limit **will not be marked**.\n",
    "\n",
    "\n",
    "\n",
    "### Marks\n",
    "\n",
    "No marks are allocated to commenting in your code. We do however, encourage efficient and well commented code.\n",
    "\n",
    "The total marks for the assignment add up to 100, and it will be worth 15% of your overall subject grade.\n",
    "\n",
    "Part 1: 25 marks\n",
    "\n",
    "Part 2: 35 marks\n",
    "\n",
    "Part 3: 40 marks"
   ]
  },
  {
   "cell_type": "markdown",
   "metadata": {
    "deletable": false,
    "editable": false,
    "nbgrader": {
     "cell_type": "markdown",
     "checksum": "4b3c5df6d4068d69f09e29914d73bb3a",
     "grade": false,
     "grade_id": "cell-ce22ffc47f8b8e52",
     "locked": true,
     "schema_version": 3,
     "solution": false,
     "task": false
    }
   },
   "source": [
    "## Submitting\n",
    "\n",
    "Before you turn this assignment in, make sure everything runs as expected. First, **restart the kernel** (in the menubar, select Kernel$\\rightarrow$Restart) and then **run all cells** (in the menubar, select Cell$\\rightarrow$Run All).\n",
    "\n",
    "Make sure you fill in any place that says `YOUR CODE HERE` or \"YOUR ANSWER HERE\", as well as your name and student ID number below:"
   ]
  },
  {
   "cell_type": "markdown",
   "metadata": {},
   "source": [
    "<div class=\"alert alert-info\">\n",
    "Name: Benjamin Field\n",
    "    \n",
    "Student ID: 831975\n",
    "</div>"
   ]
  },
  {
   "cell_type": "markdown",
   "metadata": {
    "deletable": false,
    "editable": false,
    "nbgrader": {
     "cell_type": "markdown",
     "checksum": "accc4196ca9618e5e545540292588745",
     "grade": false,
     "grade_id": "cell-a93d4b2bae7d34e6",
     "locked": true,
     "schema_version": 3,
     "solution": false,
     "task": false
    }
   },
   "source": [
    "## Overview\n",
    "\n",
    "In this assignment, you will answer questions about MSA, phylogenetics and metagenomics.\n",
    "\n",
    "You will use the `skbio` library in your functions. You may want to refer to sections of the `skbio` documentation for additional help (scikit-bio.org/docs/0.5.6/index.html). Additional to `skbio` and standard Python 3 functions and methods, you may also use any other library we have used in COMP90016 including `collections`, `numpy`, `pandas`, `math`, `itertools`, `seaborn` and `matplotlib`."
   ]
  },
  {
   "cell_type": "markdown",
   "metadata": {
    "deletable": false,
    "editable": false,
    "nbgrader": {
     "cell_type": "markdown",
     "checksum": "55927157c9bad06ba0a0e006f5671820",
     "grade": false,
     "grade_id": "cell-487e37c841515446",
     "locked": true,
     "schema_version": 3,
     "solution": false,
     "task": false
    }
   },
   "source": [
    "## Part 1: MSA"
   ]
  },
  {
   "cell_type": "markdown",
   "metadata": {
    "deletable": false,
    "editable": false,
    "nbgrader": {
     "cell_type": "markdown",
     "checksum": "d53a4b3f10e2b7c9996d41c0994f0f26",
     "grade": false,
     "grade_id": "cell-6c690d83a25114b1",
     "locked": true,
     "schema_version": 3,
     "solution": false,
     "task": false
    },
    "tags": []
   },
   "source": [
    "### Setup"
   ]
  },
  {
   "cell_type": "markdown",
   "metadata": {
    "deletable": false,
    "editable": false,
    "nbgrader": {
     "cell_type": "markdown",
     "checksum": "1aaf83cc9014aba4080e67162bf93fe3",
     "grade": false,
     "grade_id": "cell-85cc75ca9f508973",
     "locked": true,
     "schema_version": 3,
     "solution": false,
     "task": false
    }
   },
   "source": [
    "We begin by importing the `skbio` library. We will be using the **skbio.alignment.TabularMSA** class to access multiple sequence alignment (MSA) information. For more information about skbio.alignment.TabularMSA objects and how to use them, follow the link below.\n",
    "> http://scikit-bio.org/docs/0.5.6/generated/skbio.alignment.TabularMSA.html\n",
    "\n",
    "We will be using an MSA of the *aphA-3* coding sequence from four different isolates of the bacterium *Enterococcus faecium*.\n",
    "\n",
    "We will import this information from a FASTA file that can be downloaded from the LMS. Place this file in a subdirectory directory named *data* in the same location as this workbook. **DO NOT** rename the file."
   ]
  },
  {
   "cell_type": "code",
   "execution_count": null,
   "metadata": {
    "deletable": false,
    "editable": false,
    "nbgrader": {
     "cell_type": "code",
     "checksum": "3191a3269963774ad64bcc16d59edaa9",
     "grade": false,
     "grade_id": "cell-d60fefb9ccbe3438",
     "locked": true,
     "schema_version": 3,
     "solution": false,
     "task": false
    }
   },
   "outputs": [],
   "source": [
    "import skbio"
   ]
  },
  {
   "cell_type": "code",
   "execution_count": null,
   "metadata": {
    "deletable": false,
    "editable": false,
    "nbgrader": {
     "cell_type": "code",
     "checksum": "eb8277eae5f707099b077e0a8834430d",
     "grade": false,
     "grade_id": "cell-8130bafd7ec30919",
     "locked": true,
     "schema_version": 3,
     "solution": false,
     "task": false
    }
   },
   "outputs": [],
   "source": [
    "# Create an skbio.alignment.TabularMSA object from the FASTA file.\n",
    "msa_aphA3 = skbio.TabularMSA.read(\"data/comp90016_assignment_3_aln.fasta\", constructor = skbio.sequence.DNA)\n",
    "\n",
    "# Give each sequence an index name.\n",
    "msa_aphA3.reassign_index(mapping={0: 'isolate_a', 1: 'isolate_b', 2: 'isolate_c', 3: 'isolate_d'})\n",
    "\n",
    "# Get the dimensions of the data (number and length of sequences).\n",
    "msa_aphA3.shape"
   ]
  },
  {
   "cell_type": "code",
   "execution_count": null,
   "metadata": {
    "deletable": false,
    "editable": false,
    "nbgrader": {
     "cell_type": "code",
     "checksum": "fc6b080fb28aee88646eef7d16e5fdec",
     "grade": false,
     "grade_id": "cell-59398788be613ba6",
     "locked": true,
     "schema_version": 3,
     "solution": false,
     "task": false
    }
   },
   "outputs": [],
   "source": [
    "# Create demo MSAs for test input.\n",
    "seqs_a = [skbio.sequence.DNA('ACGT'), skbio.sequence.DNA('AGGT'), skbio.sequence.DNA('AC-T')]\n",
    "seqs_b = [skbio.sequence.DNA('GCGGATATGGCGAT'), skbio.sequence.DNA('GCAGATCTGGCGA-'), skbio.sequence.DNA('GCGCATATTGCG--')]\n",
    "labels = ['seq1', 'seq2', 'seq3']\n",
    "\n",
    "demo_msa_a = skbio.TabularMSA(seqs_a, index = labels)\n",
    "demo_msa_b = skbio.TabularMSA(seqs_b, index = labels)"
   ]
  },
  {
   "cell_type": "code",
   "execution_count": null,
   "metadata": {},
   "outputs": [],
   "source": [
    "!cat data/comp90016_assignment_3_aln.fasta\n"
   ]
  },
  {
   "cell_type": "markdown",
   "metadata": {
    "deletable": false,
    "editable": false,
    "nbgrader": {
     "cell_type": "markdown",
     "checksum": "dc4daeb235c4c356bad9692545280e15",
     "grade": false,
     "grade_id": "cell-0bc8dc5279526c22",
     "locked": true,
     "schema_version": 3,
     "solution": false,
     "task": false
    },
    "tags": []
   },
   "source": [
    "### Questions\n",
    "In the cells below, complete the following tasks:"
   ]
  },
  {
   "cell_type": "code",
   "execution_count": null,
   "metadata": {},
   "outputs": [],
   "source": []
  },
  {
   "cell_type": "markdown",
   "metadata": {
    "deletable": false,
    "editable": false,
    "nbgrader": {
     "cell_type": "markdown",
     "checksum": "a9696667cdb026fdcb344144ccd65e36",
     "grade": false,
     "grade_id": "cell-d838331ce64bde01",
     "locked": true,
     "points": 5,
     "schema_version": 3,
     "solution": false,
     "task": true
    }
   },
   "source": [
    "### Question 1.1 \n",
    "\n",
    "(5 marks, max 50 words)\n",
    "\n",
    "<div class=\"alert alert-info\">\n",
    "\n",
    "The *Enterococcus faecium aphA-3* gene product confers resistance to the antibiotic kanamycin. Using the DNA sequences provided in `msa_aphA3`, explain why only isolate c is sensitive (not resistant) to kanamycin despite having a copy of the *aphA-3* gene.\n",
    "    \n",
    "</div>\n",
    "\n",
    "\n"
   ]
  },
  {
   "cell_type": "markdown",
   "metadata": {},
   "source": [
    "-- GRADED CELL (5 marks) - complete this cell --\n",
    "\n",
    "\n",
    "Isolate C has an insertion of two gaps early on in the sequence. This results in a frameshift mutation for the rest of the sequence that would dirupt the correct amino acid sequence and likely disable the expression of kanamycin resistance. Isolate d also has a two base gap at a similar point in the sequence but the insertion is one of three gaps rather than 2. As 3 positions is the length of a codon, a 3 gap insertion would not result in a framehsift mutation. This explains why isolate d still maintains Kanamaycin resistamce. "
   ]
  },
  {
   "cell_type": "markdown",
   "metadata": {},
   "source": [
    "### Question 1.2\n",
    "\n",
    "(5 marks, max 1 min run-time) \n",
    "\n",
    "Scoring schemes are very important when comparing alternative sequence alignments.\n",
    "\n",
    "The sum of pairs (SP) score considers all pairs of characters at each position and adds the scores across the alignment length. A scoring system must be specified with a score for matches and mismatches. An example scoring system could be:\n",
    "\n",
    ">Match (A|A) = 1\n",
    "\n",
    ">Mismatch (A|T or A|-) = 0\n",
    "\n",
    ">Aligned gaps (-|-) = 0 \n",
    " \n",
    "A higher score indicates a better alignment.\n",
    "\n",
    "\n",
    "<div class=\"alert alert-success\">\n",
    "Write a Python function to calculate the Sum of Pairs (SP) score for an MSA. \n",
    "\n",
    "- [ ] Assume msa is an skbio.alignment.TabularMSA object. \n",
    "- [ ] Return a single integer. \n",
    "- [ ] If the TabularMSA object contains 1 or fewer sequences, return None. \n",
    "- [ ] Assume match, mismatch and aligned_gap are integers.\n",
    "</div>"
   ]
  },
  {
   "cell_type": "code",
   "execution_count": null,
   "metadata": {
    "deletable": false,
    "nbgrader": {
     "cell_type": "code",
     "checksum": "dba26bc0ae7beb4c32ddca64cc743d2b",
     "grade": false,
     "grade_id": "cell-98c465a364047690",
     "locked": false,
     "schema_version": 3,
     "solution": true,
     "task": false
    }
   },
   "outputs": [],
   "source": [
    "# GRADED CELL 1.2 (5 marks, max 1 min run-time)\n",
    "\n",
    "# Optional import\n",
    "from itertools import combinations\n",
    "\n",
    "def sp_score(msa, match, mismatch, aligned_gap):\n",
    "    \"\"\"\n",
    "    Calculate the SP score for an MSA. \n",
    "    Assume msa is an skbio.alignment.TabularMSA object. \n",
    "    Return a single integer. \n",
    "    If the TabularMSA object contains 1 or fewer sequences, return None. \n",
    "    Assume match, mismatch and aligned_gap are integers.\n",
    "    \"\"\"\n",
    "    \n",
    "    # YOUR CODE HERE\n",
    "    \n",
    "    # check that object has more than 1 sequence, return None if not\n",
    "    if len(msa) <= 1:\n",
    "        return None\n",
    "    \n",
    "    # initilaise sp score\n",
    "    sp_score = 0\n",
    "    \n",
    "    # convert sequences to strings and place in list for easier manipulation\n",
    "    seqs =[]\n",
    "    for seq in msa:\n",
    "        seqs.append(str(seq))\n",
    "    \n",
    "    seqs = combinations(seqs,2)\n",
    "    \n",
    "    for seq in seqs:\n",
    "        seq1 = seq[0]\n",
    "        seq2 = seq[1]\n",
    "        for i in range(len(seq1)):\n",
    "            if seq1[i] == '-' and seq2[i] == '-':\n",
    "                sp_score += aligned_gap\n",
    "            elif seq1[i] == seq2[i]:\n",
    "                sp_score += match\n",
    "            elif seq1[i] != seq2[i]:\n",
    "                sp_score += mismatch\n",
    "    return sp_score\n"
   ]
  },
  {
   "cell_type": "code",
   "execution_count": null,
   "metadata": {},
   "outputs": [],
   "source": [
    "# Test your function in this cell\n",
    "\n",
    "# Test the function run time\n",
    "\n",
    "#%timeit sp_score(demo_msa_a, 1, 0, 0)\n",
    "\n",
    "# Check expected output on demo data\n",
    "print(sp_score(demo_msa_a, 1, 0, 0)) # should output 8\n",
    "print(sp_score(demo_msa_b, 1, 0, 0)) # should output 29\n",
    "\n",
    "# Write your own tests here:\n",
    "print(sp_score(msa_aphA3, 1, 0, 0))\n",
    "\n",
    "\n",
    "print(msa_aphA3)"
   ]
  },
  {
   "cell_type": "code",
   "execution_count": null,
   "metadata": {
    "deletable": false,
    "editable": false,
    "nbgrader": {
     "cell_type": "code",
     "checksum": "93b91c384c923941a5ca31ffd1b8d575",
     "grade": true,
     "grade_id": "cell-a27a6de3382ebbfd",
     "locked": true,
     "points": 5,
     "schema_version": 3,
     "solution": false,
     "task": false
    }
   },
   "outputs": [],
   "source": [
    "# --- AUTOGRADING CELL DO NOT EDIT ----\n"
   ]
  },
  {
   "cell_type": "markdown",
   "metadata": {},
   "source": [
    "### Question 1.3. \n",
    "\n",
    "(5 marks, max 1 min run-time) \n",
    "\n",
    "An alternate scoring system is the minimum entropy score. A score for each position in the alignment can be calculated using the formula below. The total score is the sum of all the scores for each position. A completely conserved position in the alignment gives a score of 0. With this scoring system, a lower score indicates a better alignment.\n",
    "\n",
    "\\begin{align}\\Large-\\sum _i c_i \\times log_2(\\frac{c_i}{C})\\end{align}\n",
    "\n",
    "\n",
    "Where $c_i$ is the number of occurrences of character $i$ in the column and $C$ is the number of sequences in the MSA.\n",
    "\n",
    "<div class=\"alert alert-success\">\n",
    "Write a Python function to calculate the minimum entropy score for an MSA. \n",
    "    \n",
    "- [ ] Assume msa is an skbio.alignment.TabularMSA object. \n",
    "- [ ] Return a single floating-point number.\n",
    "- [ ] Round output to 2 decimal places.\n",
    "- [ ] If the TabularMSA object contains 1 or fewer sequences, return None. \n",
    "- [ ] Treat a gap the same as any other character.\n",
    "</div>"
   ]
  },
  {
   "cell_type": "code",
   "execution_count": null,
   "metadata": {
    "deletable": false,
    "nbgrader": {
     "cell_type": "code",
     "checksum": "52a02905c6354a73f2f6b31490dd1c27",
     "grade": false,
     "grade_id": "cell-dff5d78017a338c3",
     "locked": false,
     "schema_version": 3,
     "solution": true,
     "task": false
    }
   },
   "outputs": [],
   "source": [
    "# GRADED CELL 1.3 (5 marks, max 1 min run-time)\n",
    "\n",
    "# Optional import\n",
    "import math\n",
    "\n",
    "def mes_score(msa):\n",
    "    \"\"\"\n",
    "    Calculate the minimum entropy score for an MSA. \n",
    "    Assume msa is an skbio.alignment.TabularMSA object. \n",
    "    Return a single floating-point number. \n",
    "    If the TabularMSA object contains 1 or fewer sequences, return None. \n",
    "    Treat a gap the same as any other character.\n",
    "    \"\"\"\n",
    "    \n",
    "    # YOUR CODE HERE\n",
    "    \n",
    "    # convert sequences to strings and place in list for easier manipulation\n",
    "    seqs =[]\n",
    "    for seq in msa:\n",
    "        seqs.append(str(seq))\n",
    "        \n",
    "    # check that object has more than 1 sequence, return None if not\n",
    "    if len(seqs) <= 1:\n",
    "        return None\n",
    "    \n",
    "    # retrieve number of sequences \n",
    "    C = len(seqs)\n",
    "    \n",
    "    total = 0\n",
    "    \n",
    "    for i in range(len(seqs[0])):\n",
    "        \n",
    "        chars = {'A':0,'C':0,'T':0,'G':0,'-':0}\n",
    "        for seq in seqs:\n",
    "            chars[seq[i]] += 1\n",
    "        \n",
    "        for value in chars.values():\n",
    "            if value > 0:\n",
    "                total += -(value*math.log(value/C,2))\n",
    "        \n",
    "    return round(total,2)"
   ]
  },
  {
   "cell_type": "code",
   "execution_count": null,
   "metadata": {},
   "outputs": [],
   "source": [
    "# Test your function in this cell\n",
    "\n",
    "# Test the function run time\n",
    "%timeit mes_score(demo_msa_a)\n",
    "\n",
    "# Check expected output on demo data\n",
    "print(mes_score(demo_msa_a)) # should output ~ 5.51\n",
    "print(mes_score(demo_msa_b)) # should output ~ 16.53\n",
    "\n",
    "\n",
    "# Write your own tests here:\n",
    "print(mes_score(msa_aphA3))"
   ]
  },
  {
   "cell_type": "code",
   "execution_count": null,
   "metadata": {
    "deletable": false,
    "editable": false,
    "nbgrader": {
     "cell_type": "code",
     "checksum": "df25aca49b0378d1c47ca4dba1a8e647",
     "grade": true,
     "grade_id": "cell-5892f7d61c4aec94",
     "locked": true,
     "points": 5,
     "schema_version": 3,
     "solution": false,
     "task": false
    }
   },
   "outputs": [],
   "source": [
    "# --- AUTOGRADING CELL DO NOT EDIT ----\n"
   ]
  },
  {
   "cell_type": "markdown",
   "metadata": {
    "deletable": false,
    "editable": false,
    "nbgrader": {
     "cell_type": "markdown",
     "checksum": "f7e7b6168f7e5b209ae3e3be2796ac41",
     "grade": false,
     "grade_id": "cell-f35066781abc991b",
     "locked": true,
     "points": 10,
     "schema_version": 3,
     "solution": false,
     "task": true
    }
   },
   "source": [
    "### Question 1.4 \n",
    "\n",
    "(10 marks, max 100 words)\n",
    "\n",
    "<div class=\"alert alert-info\">\n",
    "If you were going to choose one of these scoring systems to use in an MSA tool, which would you choose? Justify your choice with reference to the algorithms.\n",
    "</div>\n"
   ]
  },
  {
   "cell_type": "markdown",
   "metadata": {},
   "source": [
    "-- GRADED CELL (10 marks) - complete this cell --\n",
    "\n",
    "Sum of works on a pair by pair basis and gives integer score values. The users weighting of these pairing scores can also impact the reliability of the final score. However, The simplicity of the algorithm allows for relatively rapid computability (is 15.2 µs ± 297 ns per loop)\n",
    "\n",
    "The minimum entropy scoring system is a more complex algorithm that takes into account the relationship between all sequences at once and provides a floating point score based on the alignment of all sequences at each position. This is a more complex and accurate scoring system than sum of pairs. It is also more computationally intensive (19.5 µs ± 479 ns per loop). Given that this scoring system is more accurate and only about 25% slower than sum of pairs, it is a better choice in all cases except extremely large datasets. "
   ]
  },
  {
   "cell_type": "markdown",
   "metadata": {
    "deletable": false,
    "editable": false,
    "nbgrader": {
     "cell_type": "markdown",
     "checksum": "64374c142cb4da89eb0d4bad7ad760d8",
     "grade": false,
     "grade_id": "cell-82695d9cb875747b",
     "locked": true,
     "schema_version": 3,
     "solution": false,
     "task": false
    }
   },
   "source": [
    "## Part 2: Phylogenetics"
   ]
  },
  {
   "cell_type": "markdown",
   "metadata": {
    "deletable": false,
    "editable": false,
    "nbgrader": {
     "cell_type": "markdown",
     "checksum": "279a64585533c765b0d226c686fa7879",
     "grade": false,
     "grade_id": "cell-ef1e324129fee11b",
     "locked": true,
     "schema_version": 3,
     "solution": false,
     "task": false
    },
    "tags": []
   },
   "source": [
    "### Setup"
   ]
  },
  {
   "cell_type": "markdown",
   "metadata": {
    "deletable": false,
    "editable": false,
    "nbgrader": {
     "cell_type": "markdown",
     "checksum": "de9a557e328dfe03587ac8b14a8cb7fa",
     "grade": false,
     "grade_id": "cell-aad4a332ad153c33",
     "locked": true,
     "schema_version": 3,
     "solution": false,
     "task": false
    }
   },
   "source": [
    "The questions in part one relate to [this 2021 paper](https://www.sciencedirect.com/science/article/abs/pii/S1055790321001147)  \n",
    "\n",
    ">Esquerré, D., Donnellan, S. C., Pavón-Vázquez, C. J., Fenker, J. & Keogh, J. S. Phylogeography, historical demography and systematics of the world’s smallest pythons (Pythonidae, Antaresia). Molecular Phylogenetics and Evolution 161, 107181 (2021)."
   ]
  },
  {
   "cell_type": "markdown",
   "metadata": {
    "deletable": false,
    "editable": false,
    "nbgrader": {
     "cell_type": "markdown",
     "checksum": "a59285fdc41f451804a48310bc77e908",
     "grade": false,
     "grade_id": "cell-7e4e7f76625acce3",
     "locked": true,
     "schema_version": 3,
     "solution": false,
     "task": false
    }
   },
   "source": [
    "The Newick file you will be using can be downloaded from the LMS. The file includes a phylogenetic tree of the mitochondrial cytochrome b genes from a subset of the  *Antaresia* samples. Download the file and place it in a sub directory named *data* in the same location as this notebook. **DO NOT** rename the file."
   ]
  },
  {
   "cell_type": "code",
   "execution_count": null,
   "metadata": {
    "deletable": false,
    "editable": false,
    "nbgrader": {
     "cell_type": "code",
     "checksum": "a6a48d0c4714e2af1142352796b602bc",
     "grade": false,
     "grade_id": "cell-287c293101af5ef5",
     "locked": true,
     "schema_version": 3,
     "solution": false,
     "task": false
    }
   },
   "outputs": [],
   "source": [
    "# Import the gene tree.\n",
    "cyt_b_tree = skbio.tree.TreeNode.read('data/comp90016_assignment_3_tree.nwk')\n",
    "cyt_b_tree = cyt_b_tree.root_at_midpoint()\n",
    "\n",
    "# Note: You can visualise this phylogeny at http://etetoolkit.org/treeview/"
   ]
  },
  {
   "cell_type": "markdown",
   "metadata": {
    "deletable": false,
    "editable": false,
    "nbgrader": {
     "cell_type": "markdown",
     "checksum": "4f76a42aaaf124ee8b9b626e0496ff05",
     "grade": false,
     "grade_id": "cell-5f16e254bfa0c7c4",
     "locked": true,
     "schema_version": 3,
     "solution": false,
     "task": false
    },
    "tags": []
   },
   "source": [
    "### Questions\n",
    "In the cells below, complete the following tasks:"
   ]
  },
  {
   "cell_type": "markdown",
   "metadata": {
    "deletable": false,
    "editable": false,
    "nbgrader": {
     "cell_type": "markdown",
     "checksum": "7cf1304e4b0f8878d7347827dc9b5de0",
     "grade": false,
     "grade_id": "cell-ba0eab54635e5462",
     "locked": true,
     "points": 5,
     "schema_version": 3,
     "solution": false,
     "task": true
    }
   },
   "source": [
    "### Question 2.1 \n",
    "\n",
    "(5 marks, max 50 words)\n",
    "\n",
    "<div class=\"alert alert-info\">\n",
    "    \n",
    "Suggest why *Morelia bredli* was used as an outgroup in the phylogenetic analyses. \n",
    "\n",
    "</div>\n"
   ]
  },
  {
   "cell_type": "markdown",
   "metadata": {},
   "source": [
    "-- GRADED CELL (5 marks) - complete this cell --\n",
    "\n",
    "Morelia bredli is a suitable choice for the outgroup as it is not a direct member of the studied species but is closely related enough to the ingroup as to allow for meaningful comparisons.  Morelia bredli and the ingroup species share a common ancestor that is older than the common ancestor of the ingroup alone. This allows for the phylogenetic tree to be rooted and the evolution of the tree to be properly traced. It's a related species but not in the particular clade of interest. "
   ]
  },
  {
   "cell_type": "markdown",
   "metadata": {
    "deletable": false,
    "editable": false,
    "nbgrader": {
     "cell_type": "markdown",
     "checksum": "2aec52fe4b9235a05ddee1edbc1fa418",
     "grade": false,
     "grade_id": "cell-7fefda98968745f3",
     "locked": true,
     "points": 5,
     "schema_version": 3,
     "solution": false,
     "task": true
    }
   },
   "source": [
    "### Question 2.2 \n",
    "\n",
    "(5 marks, max 50 words)\n",
    "\n",
    "<div class=\"alert alert-info\">\n",
    "Suggest why the mitochondrial cytochrome b gene was selected for the analysis. \n",
    "</div>\n"
   ]
  },
  {
   "cell_type": "markdown",
   "metadata": {},
   "source": [
    "-- GRADED CELL (5 marks) - complete this cell --\n",
    "\n",
    "Cytochrome b is a mitochondrial DNA gene that make up part of an important protein complex for mitochondrial functioning. Mitocondrial DNA is ideal for phylogenetic studies because it is highly conserved and easily traced due to the nature of mitochondiral inheritance. Patterns of SNP'S in mtDNA can be analysed to reliably produce phylogenetic trees. "
   ]
  },
  {
   "cell_type": "markdown",
   "metadata": {
    "deletable": false,
    "editable": false,
    "nbgrader": {
     "cell_type": "markdown",
     "checksum": "ecc3d4a7d0346770739b98558ef6f926",
     "grade": false,
     "grade_id": "cell-253c5b2ee43e7ec2",
     "locked": true,
     "points": 5,
     "schema_version": 3,
     "solution": false,
     "task": true
    }
   },
   "source": [
    "### Question 2.3 \n",
    "\n",
    "(5 marks, max 100 words)\n",
    "\n",
    "<div class=\"alert alert-info\">\n",
    "Suggest why monomorphic SNPs and SNPs with low read depth were removed. \n",
    "</div>\n"
   ]
  },
  {
   "cell_type": "markdown",
   "metadata": {},
   "source": [
    "-- GRADED CELL (5 marks) - complete this cell --\n",
    "\n",
    "\n",
    "Low read depth significantly affects the confidence scores of the analysis because there is not enough alignment data for meaningful results. Thus, low read depth scores should be removed as a means of quality control.\n",
    "\n",
    "Monomorphic SNP's would have been removed because there is only one state a monomorphic SNP can appear in and thus it is useless for comparison across species because there is no variation. "
   ]
  },
  {
   "cell_type": "markdown",
   "metadata": {
    "deletable": false,
    "editable": false,
    "nbgrader": {
     "cell_type": "markdown",
     "checksum": "7e93e0fdd0a7fcc643ceae5bd23ea445",
     "grade": false,
     "grade_id": "cell-f506705f1df564c3",
     "locked": true,
     "points": 5,
     "schema_version": 3,
     "solution": false,
     "task": true
    }
   },
   "source": [
    "### Question 2.4 \n",
    "\n",
    "(5 marks, max 100 words)\n",
    "\n",
    "<div class=\"alert alert-info\">\n",
    "    \n",
    "`IQ-tree` was used for treebuilding with the cytochrome b sequences. Many computational genomics tools including `IQ-tree` use algorithms that are not deterministic; they can produce different outputs on repeated runs with the same input. \n",
    "\n",
    "Explain why this is a challenge for reproducibility and how this can be addressed by users. \n",
    "\n",
    "</div>\n"
   ]
  },
  {
   "cell_type": "markdown",
   "metadata": {},
   "source": [
    "-- GRADED CELL (5 marks) - complete this cell --\n",
    "\n",
    "A lack of consistency in results when running analysis with the same inputs undermines confidence in the legitimacy of analysis. Reproducibility is a requirement for scientific validity. This can lead to difficulties in studies in which the results are stochastic rather than deterministic. Stochasticity will result in differing results, even if all of the input paramters are the same.\n",
    "\n",
    "One potential solution is to identify the points of stochasticity in the code and parse in hard coded points where randomnly generated numbers would have otherwise been used. \n",
    "\n",
    "Another potential solution is the application of bootstrapping, whereby a single dataset is resampled to create many simulated samples. Bootsrapping can be done to identify the range of values that fall within a specified confidence interval, this again works to mitigate the negatives related to stochasticity. \n"
   ]
  },
  {
   "cell_type": "markdown",
   "metadata": {},
   "source": [
    "### Question 2.5 \n",
    "\n",
    "(5 marks, max 1 min run-time)\n",
    "\n",
    "Colless’ imbalance ($I_{c}$) is a metric that relates to the shape (or balance) of phylogenetic trees. It is calculated according to the following formula:\n",
    "\n",
    "\\begin{align}\n",
    "I_{c}=  \\Large\\frac{ \\sum_{InteriorNodes} |T_{R}-T_{L}| }{ \\frac{(n-1)(n-2)}{2} }\n",
    "\\end{align}\n",
    "\n",
    "Where $T_{R}$ and $T_{L}$ are the number of taxa descended from the right and left branches respectively, of an interior node. The interior nodes are all nodes that are not tips (including the root). n is the total number of taxa in the tree (including tips). (n-1)(n-2)/2 is the maximum possible value of the numerator, therefore the value of $I_{c}$ ranges from 0 to 1.\n",
    "\n",
    "<div class=\"alert alert-success\">\n",
    "Write a Python function to calculate the Colless’ imbalance of a phylogenetic tree. \n",
    "    \n",
    "- [ ] Assume tree is a skbio.Tree object containing a rooted binary tree. \n",
    "- [ ] Assume every node in tree has a unique name and has either 0 children or 2 children. \n",
    "- [ ] Return a floating-point number. \n",
    "- [ ] If tree contains fewer than 3 nodes, return None.\n",
    "</div>"
   ]
  },
  {
   "cell_type": "code",
   "execution_count": null,
   "metadata": {
    "deletable": false,
    "nbgrader": {
     "cell_type": "code",
     "checksum": "d865d5462fd0f2c33ea5a28a01a9a0f7",
     "grade": false,
     "grade_id": "cell-c2dc1c5ae3814110",
     "locked": false,
     "schema_version": 3,
     "solution": true,
     "task": false
    }
   },
   "outputs": [],
   "source": [
    "# GRADED CELL 2.5 (5 marks, max 1 min run-time)\n",
    "\n",
    "def colless_imbalance(tree):\n",
    "    \"\"\"\n",
    "    Calculate the Colless’ imbalance of a phylogenetic tree.\n",
    "    Assume tree is a skbio.Tree object containing a rooted binary tree.\n",
    "    Assume every node in tree has a unique name and has either 0 children or 2 children.\n",
    "    Return a floating-point number.\n",
    "    If tree contains fewer than 3 nodes, return None.\n",
    "    \"\"\"\n",
    "   \n",
    "    # YOUR CODE HERE\n",
    "    \n",
    "    n = tree.count()\n",
    "    \n",
    "    # return None if tree contains fewer than 3 nodes\n",
    "    if n < 3:\n",
    "        return None\n",
    "    \n",
    "    \n",
    "    tltr = 0\n",
    "    \n",
    "    denominator = ((n-1)*(n-2))/2\n",
    "    \n",
    "    TR = tree.index_tree()[0]\n",
    "    TL = tree.index_tree()[1]\n",
    "    \n",
    "    for i in range(0,len(TL),1):\n",
    "        tltr += abs(TR[TL[i][1]].count() - TR[TL[i][2]].count())\n",
    "    \n",
    "  \n",
    "    return tltr/denominator\n",
    "\n",
    "\n",
    "    \n",
    "    "
   ]
  },
  {
   "cell_type": "code",
   "execution_count": null,
   "metadata": {},
   "outputs": [],
   "source": [
    "# Test your function in this cell\n",
    "\n",
    "# Create a demo tree\n",
    "demo_tree_a = skbio.tree.TreeNode.read([\"((c,d)a,b)root;\"])\n",
    "\n",
    "# Inspect the tree\n",
    "print(\"demo_tree_a\")\n",
    "print(demo_tree_a.ascii_art())\n",
    "colless_imbalance(demo_tree_a)\n",
    "print(\"This tree has 5 taxa (including root) and 2 internal nodes.\\n\")\n",
    "\n",
    "# Check expected output on demo data\n",
    "print(f'Colless Imbalance for demo_tree_a is: {colless_imbalance(demo_tree_a)}') # Should output 0.3333...\n",
    "\n",
    "# Test the function run time\n",
    "#%timeit colless_imbalance(demo_tree_a) \n",
    "\n",
    "# Write your own tests here:\n",
    "print(colless_imbalance"
   ]
  },
  {
   "cell_type": "code",
   "execution_count": null,
   "metadata": {
    "deletable": false,
    "editable": false,
    "nbgrader": {
     "cell_type": "code",
     "checksum": "b44945ecd378be3ba49702b62ed4d5bd",
     "grade": true,
     "grade_id": "cell-bf6408ce386fe8af",
     "locked": true,
     "points": 5,
     "schema_version": 3,
     "solution": false,
     "task": false
    }
   },
   "outputs": [],
   "source": [
    "# --- AUTOGRADING CELL DO NOT EDIT ----\n"
   ]
  },
  {
   "cell_type": "markdown",
   "metadata": {},
   "source": [
    "### Question 2.6 \n",
    "\n",
    "(10 marks, max 1 min run-time)\n",
    "\n",
    "A phylogenetic tree can be stored in Newick format in several non-unique arrangements. Aside from topology, Newick files can also store branch length and branch support information. \n",
    "\n",
    "<div class=\"alert alert-success\">\n",
    "Write a Python function that determines whether a group of phylogenetic trees has a common, identical topology. \n",
    "\n",
    "- [ ] Assume tree_list is a list of skbio.Tree objects. \n",
    "- [ ] Assume the trees are rooted binary trees where every node in tree has either 0 children or 2 children. \n",
    "- [ ] Return the Boolean value True if all the trees in tree_list share an identical topology. \n",
    "- [ ] Return the Boolean value False if they do not. \n",
    "- [ ] If tree_list contains fewer than 2 skbio.Tree objects, return None. \n",
    "</div>"
   ]
  },
  {
   "cell_type": "code",
   "execution_count": null,
   "metadata": {
    "deletable": false,
    "nbgrader": {
     "cell_type": "code",
     "checksum": "169bd0f93b39f10e29a3769466c1f18f",
     "grade": false,
     "grade_id": "cell-6235c77fa22744b7",
     "locked": false,
     "schema_version": 3,
     "solution": true,
     "task": false
    }
   },
   "outputs": [],
   "source": [
    "# GRADED CELL 2.6 (10 marks, max 1 min run-time)\n",
    "\n",
    "# Optional import\n",
    "from itertools import combinations\n",
    "\n",
    "def common_topology(tree_list):\n",
    "    \"\"\"\n",
    "    Determine whether a group of phylogenetic trees has a common, identical topology. \n",
    "    Assume tree_list is a list of skbio.Tree objects. \n",
    "    Assume the trees are rooted binary trees where every node in tree has either 0 children or 2 children. \n",
    "    Return the Boolean value True if all the trees in tree_list share an identical topology.\n",
    "    Return the Boolean value False if they do not.\n",
    "    If tree_list contains fewer than 2 skbio.Tree objects, return None.\n",
    "    \"\"\"\n",
    "    \n",
    "    # YOUR CODE HERE\n",
    "    if len(tree_list) < 2:\n",
    "        return None\n",
    "    \n",
    "    tree_combos = combinations(tree_list,2)\n",
    "    \n",
    "    for pair in tree_combos:\n",
    "        tree1 = pair[0]\n",
    "        tree2 = pair[1]\n",
    "        \n",
    "        \n",
    "        tree1_dict = {}\n",
    "        tree2_dict = {}\n",
    "        \n",
    "        f = lambda n: [n.name] if n.is_tip() else []\n",
    "        tree1.cache_attr(f, 'tip_names')\n",
    "        tree2.cache_attr(f, 'tip_names')\n",
    "        \n",
    "        \n",
    "        for n in tree1.traverse(include_self=True):\n",
    "            tree1_dict[n.name] = n.tip_names\n",
    "        \n",
    "        for n in tree2.traverse(include_self=True):\n",
    "            tree2_dict[n.name] = n.tip_names\n",
    "        \n",
    "        for node in tree1_dict.keys():\n",
    "            if set(tree1_dict[node]) == set(tree2_dict[node]):\n",
    "                pass\n",
    "            else:\n",
    "                return False\n",
    "        \n",
    "        return True\n",
    "\n",
    "\n",
    "\n",
    "\n",
    "\n",
    "    "
   ]
  },
  {
   "cell_type": "code",
   "execution_count": null,
   "metadata": {
    "tags": []
   },
   "outputs": [],
   "source": [
    "# Test your function in this cell\n",
    "\n",
    "# Create some more demo trees\n",
    "demo_tree_b = skbio.tree.TreeNode.read([\"(b,(c,d)a)root;\"])\n",
    "demo_tree_c = skbio.tree.TreeNode.read([\"(c,(b,d)a)root;\"])\n",
    "\n",
    "# Inspect the trees\n",
    "\n",
    "print(\"demo_tree_a\")\n",
    "print(demo_tree_a.ascii_art())\n",
    "\n",
    "print(\"demo_tree_b\")\n",
    "print(demo_tree_b.ascii_art())\n",
    "\n",
    "print(\"demo_tree_c\")\n",
    "print(demo_tree_c.ascii_art())\n",
    "\n",
    "\n",
    "# Check expected output on demo data\n",
    "print(common_topology([demo_tree_a, demo_tree_b])) # should output True\n",
    "print(common_topology([demo_tree_a, demo_tree_c])) # should output False\n",
    "\n",
    "# Test the function run time\n",
    "#%timeit common_topology([demo_tree_a, demo_tree_b])\n",
    "\n",
    "# Write your own tests here:\n"
   ]
  },
  {
   "cell_type": "code",
   "execution_count": null,
   "metadata": {
    "deletable": false,
    "editable": false,
    "nbgrader": {
     "cell_type": "code",
     "checksum": "16443c64ee42b4499b994d92eac2b3bd",
     "grade": true,
     "grade_id": "cell-927a6d01c27041d1",
     "locked": true,
     "points": 10,
     "schema_version": 3,
     "solution": false,
     "task": false
    }
   },
   "outputs": [],
   "source": [
    "# --- AUTOGRADING CELL DO NOT EDIT ----\n"
   ]
  },
  {
   "cell_type": "markdown",
   "metadata": {
    "deletable": false,
    "editable": false,
    "nbgrader": {
     "cell_type": "markdown",
     "checksum": "45b80ec2f6ba59ef563d08740fef4edb",
     "grade": false,
     "grade_id": "cell-8a1209ec5d7b9d5d",
     "locked": true,
     "schema_version": 3,
     "solution": false,
     "task": false
    }
   },
   "source": [
    "## Part 3: Metagenomics"
   ]
  },
  {
   "cell_type": "markdown",
   "metadata": {
    "deletable": false,
    "editable": false,
    "nbgrader": {
     "cell_type": "markdown",
     "checksum": "be8b9ca5839e3c8c3193e395149cd90e",
     "grade": false,
     "grade_id": "cell-7d81f8a488f35871",
     "locked": true,
     "schema_version": 3,
     "solution": false,
     "task": false
    },
    "tags": []
   },
   "source": [
    "### Setup"
   ]
  },
  {
   "cell_type": "markdown",
   "metadata": {
    "deletable": false,
    "editable": false,
    "nbgrader": {
     "cell_type": "markdown",
     "checksum": "135ff33352a2824423c165566768f01a",
     "grade": false,
     "grade_id": "cell-3e6373d1036240a4",
     "locked": true,
     "schema_version": 3,
     "solution": false,
     "task": false
    }
   },
   "source": [
    "`Kraken` is a tool used to assign taxonomic labels to short reads. Output from `Kraken` was used in workshop 10. \n",
    "\n",
    "`Kraken` is described in the publication below. Please read it before answering the questions.\n",
    "\n",
    ">https://www.ncbi.nlm.nih.gov/pmc/articles/PMC4053813/pdf/gb-2014-15-3-r46.pdf"
   ]
  },
  {
   "cell_type": "markdown",
   "metadata": {
    "deletable": false,
    "editable": false,
    "nbgrader": {
     "cell_type": "markdown",
     "checksum": "4ed0cdd3863ada18596e7f174ee253fc",
     "grade": false,
     "grade_id": "cell-9557d76be3c60fe8",
     "locked": true,
     "schema_version": 3,
     "solution": false,
     "task": false
    },
    "tags": []
   },
   "source": [
    "### Questions\n",
    "In the cells below, complete the following tasks:"
   ]
  },
  {
   "cell_type": "markdown",
   "metadata": {
    "deletable": false,
    "editable": false,
    "nbgrader": {
     "cell_type": "markdown",
     "checksum": "00f3b8e176f359148f90ef2bae194c1f",
     "grade": false,
     "grade_id": "cell-b4c6d5b82e6ba212",
     "locked": true,
     "points": 20,
     "schema_version": 3,
     "solution": false,
     "task": true
    }
   },
   "source": [
    "### Question 3.1 \n",
    "\n",
    "(20 marks, max 200 words)\n",
    "\n",
    "<div class=\"alert alert-info\">\n",
    "    \n",
    "In your own words, describe the method used by Kraken to assign a taxonomic classification to each read in a short-read readset. Include a description of the database and the classification tree. Include each of the main steps of the algorithm. \n",
    "\n",
    "</div>\n"
   ]
  },
  {
   "cell_type": "markdown",
   "metadata": {},
   "source": [
    "-- GRADED CELL (20 marks) - complete this cell --\n",
    "\n",
    "-Kraken relies upon a user specified database of k-mers and the lowest common ancestor of all organisms whose genomes contain each k-mer.\n",
    "\n",
    "-If the user doesn't specify their own database, the default kraken databse is used. \n",
    "\n",
    "-Kraken compares each sequence in a short-read dataset and queries the database for each k-mer in the sequence.\n",
    "\n",
    "-Kraken identifies the most specific node in the taxonmic tree assocated with each k-mer.\n",
    "\n",
    "-The lowest common ancestor associated with each k-mer is matched. These taxa and its ancestors are used to construct a pruned subtree of the general overall taxonomic tree. \n",
    "\n",
    "-This subtree is then used for weighting on the classifcaiton tree. Each node in the tree is weighted based on the number of sequence k-mers that are matched to it. \n",
    "\n",
    "-From the weighting of the classfication tree, every root to leaf path is scored and summed together to arrive at a total root to leaf path and this final score is used to assign a classfication to the analysed sequence.\n",
    "\n",
    "-Any sequences without any k-mers in the database are left unclassified. \n",
    "\n"
   ]
  },
  {
   "cell_type": "markdown",
   "metadata": {
    "deletable": false,
    "editable": false,
    "nbgrader": {
     "cell_type": "markdown",
     "checksum": "70d56bfdeb269577db7448ee8889ddf0",
     "grade": false,
     "grade_id": "cell-6d9b261c46064302",
     "locked": true,
     "points": 5,
     "schema_version": 3,
     "solution": false,
     "task": true
    }
   },
   "source": [
    "### Question 3.2  \n",
    "\n",
    "(5 marks, max 50 words)\n",
    "\n",
    "<div class=\"alert alert-info\">\n",
    "    \n",
    "A researcher used Kraken to assign taxonomic labels to a readset from throat swabs of children with throat infections. The researcher finds that very few of the reads have been assigned a label. Explain the most likely reason for this. Assume the researcher used the Kraken-GB database and that no reads were misclassified.\n",
    "\n",
    "</div>\n"
   ]
  },
  {
   "cell_type": "markdown",
   "metadata": {},
   "source": [
    "-- GRADED CELL (5 marks) - complete this cell --\n",
    "\n",
    "Sequences that have no k-mers stored in the specified Kraken databse will be left unclassified by Kraken. The researchers sample must contain novel sequences without any related sequences in the Kraken database, thus Kraken does not return many results. "
   ]
  },
  {
   "cell_type": "markdown",
   "metadata": {
    "deletable": false,
    "editable": false,
    "nbgrader": {
     "cell_type": "markdown",
     "checksum": "4edf3ab1e0e80ad9de5dbd0a09415f96",
     "grade": false,
     "grade_id": "cell-7915cafec2acd108",
     "locked": true,
     "points": 5,
     "schema_version": 3,
     "solution": false,
     "task": true
    }
   },
   "source": [
    "### Question 3.3 \n",
    "\n",
    "(5 marks, max 50 words)\n",
    "\n",
    "<div class=\"alert alert-info\">\n",
    "\n",
    "Explain the main limitation to using Kraken to estimate the microbial diversity of a previously unsampled environment.\n",
    "\n",
    "</div>    \n"
   ]
  },
  {
   "cell_type": "markdown",
   "metadata": {},
   "source": [
    "-- GRADED CELL (5 marks) - complete this cell --\n",
    "\n",
    "Kraken is based upon labelled database information. In an unsampled environment, there will be species in the sample not included in the database. Kraken will have difficulty classifying this information because it relies upon said database, it may be able to provide genus or higher level matches but the exact microbial diversity analysis will be innacurate. "
   ]
  },
  {
   "cell_type": "markdown",
   "metadata": {
    "deletable": false,
    "editable": false,
    "nbgrader": {
     "cell_type": "markdown",
     "checksum": "091e1b90ab9ce68a116b61dab5b38981",
     "grade": false,
     "grade_id": "cell-7b9b6dbb6374bad0",
     "locked": true,
     "points": 10,
     "schema_version": 3,
     "solution": false,
     "task": true
    }
   },
   "source": [
    "### Question 3.4\n",
    "\n",
    "(10 marks, max 100 words)\n",
    "\n",
    "<div class=\"alert alert-info\">\n",
    "\n",
    "Metagenomic readsets can be very large. Explain how Kraken achieves a fast run-time while preserving classification accuracy.\n",
    "\n",
    "</div>\n"
   ]
  },
  {
   "cell_type": "markdown",
   "metadata": {},
   "source": [
    "-- GRADED CELL (10 marks) - complete this cell --\n",
    "\n",
    "Kraken uses exact k-mer matches rather than inexact sequence alignment. The nature of the kraken algorithm allows for very fast lookups without any loss in accuracy (as long as a matching sequence is stored in the Kraken databse). While the Kraken paper doesn't state exactly how the algorithm works computationally, it can be thought as very similar to the speed of a python dicitonary compared to a list. A python dictonary allows for instant lookups, while searching through a list requries enumeration of the entire list. Kraken's entire database is stored on the computers RAM, an exact k-mer match can be identified very quickly this way. This is much faster than enumerating the entire database looking for matches, whilst also preserving accuracy. "
   ]
  },
  {
   "cell_type": "code",
   "execution_count": null,
   "metadata": {},
   "outputs": [],
   "source": []
  },
  {
   "cell_type": "code",
   "execution_count": null,
   "metadata": {},
   "outputs": [],
   "source": []
  },
  {
   "cell_type": "code",
   "execution_count": null,
   "metadata": {},
   "outputs": [],
   "source": []
  }
 ],
 "metadata": {
  "kernelspec": {
   "display_name": "Python 3",
   "language": "python",
   "name": "python3"
  },
  "language_info": {
   "codemirror_mode": {
    "name": "ipython",
    "version": 3
   },
   "file_extension": ".py",
   "mimetype": "text/x-python",
   "name": "python",
   "nbconvert_exporter": "python",
   "pygments_lexer": "ipython3",
   "version": "3.9.6"
  }
 },
 "nbformat": 4,
 "nbformat_minor": 4
}
